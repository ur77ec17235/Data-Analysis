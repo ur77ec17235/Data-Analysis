{
 "cells": [
  {
   "cell_type": "code",
   "execution_count": 1,
   "metadata": {},
   "outputs": [],
   "source": [
    "import numpy as np\n",
    "import matplotlib.pyplot as plt\n",
    "import torch\n",
    "import torch.nn as nn\n",
    "import torch.optim as optim\n",
    "import torch.nn.functional as F\n",
    "import tensorflow as tf\n",
    "import tensorflow_datasets as tfds\n",
    "from tensorflow import keras\n",
    "from torch.nn import CrossEntropyLoss\n"
   ]
  },
  {
   "cell_type": "markdown",
   "metadata": {},
   "source": [
    "## One-hot encoding concepts"
   ]
  },
  {
   "cell_type": "markdown",
   "metadata": {},
   "source": []
  },
  {
   "cell_type": "code",
   "execution_count": 2,
   "metadata": {},
   "outputs": [
    {
     "name": "stdout",
     "output_type": "stream",
     "text": [
      "tensor([1, 0, 0])\n",
      "tensor([0, 1, 0])\n",
      "tensor([0, 0, 1])\n"
     ]
    }
   ],
   "source": [
    "one_hot_numpy = np.array([1, 0, 0])\n",
    "\n",
    "print(F.one_hot(torch.tensor(0), num_classes=3))\n",
    "\n",
    "# tensor([1, 0, 0])\n",
    "print(F.one_hot(torch.tensor(1), num_classes=3))\n",
    "# tensor([0, 1, 0])\n",
    "print(F.one_hot(torch.tensor(2), num_classes=3))\n",
    "# tensor([0, 0, 1])\n"
   ]
  },
  {
   "cell_type": "markdown",
   "metadata": {},
   "source": [
    "#### Cross entropy loss in Pytorch"
   ]
  },
  {
   "cell_type": "code",
   "execution_count": 3,
   "metadata": {},
   "outputs": [
    {
     "data": {
      "text/plain": [
       "tensor(0.8131, dtype=torch.float64)"
      ]
     },
     "execution_count": 3,
     "metadata": {},
     "output_type": "execute_result"
    }
   ],
   "source": [
    "score = torch.tensor([[-0.1211, 0.1059]])\n",
    "\n",
    "one_hot_target = torch.tensor([[1, 0]])\n",
    "\n",
    "criterion = CrossEntropyLoss()\n",
    "criterion(score.double(), one_hot_target.double())"
   ]
  },
  {
   "cell_type": "markdown",
   "metadata": {},
   "source": [
    "$$ Backpropagation in PyTorch\n"
   ]
  },
  {
   "cell_type": "code",
   "execution_count": 4,
   "metadata": {},
   "outputs": [],
   "source": [
    "sample = torch.randn(1, 16)\n",
    "\n",
    "# Create the model and run a forward pass\n",
    "model = nn.Sequential(\n",
    "    nn.Linear(16,8),\n",
    "    nn.Linear(8,4),\n",
    "    nn.Linear(4,2)\n",
    ")\n",
    "\n",
    "prediction = model (sample)"
   ]
  },
  {
   "cell_type": "code",
   "execution_count": 5,
   "metadata": {},
   "outputs": [],
   "source": [
    "target = torch.tensor([0]).long()\n",
    "#calculate the loss and compute the gradients\n",
    "criterion = CrossEntropyLoss()\n",
    "loss = criterion(prediction, target)\n",
    "loss.backward()\n",
    "\n"
   ]
  },
  {
   "cell_type": "code",
   "execution_count": 6,
   "metadata": {},
   "outputs": [
    {
     "name": "stdout",
     "output_type": "stream",
     "text": [
      "tensor([[-1.0321e-02,  4.3281e-03,  5.8020e-04, -4.4388e-03,  4.2538e-03,\n",
      "          1.0143e-03,  5.2763e-03, -6.0700e-03,  4.4452e-03,  1.8668e-04,\n",
      "         -1.6127e-03, -1.3079e-03,  6.3356e-06, -6.5301e-03, -6.0822e-03,\n",
      "          1.0461e-02],\n",
      "        [-7.7925e-02,  3.2677e-02,  4.3804e-03, -3.3512e-02,  3.2116e-02,\n",
      "          7.6579e-03,  3.9835e-02, -4.5828e-02,  3.3561e-02,  1.4094e-03,\n",
      "         -1.2176e-02, -9.8747e-03,  4.7833e-05, -4.9301e-02, -4.5920e-02,\n",
      "          7.8976e-02],\n",
      "        [ 1.2095e-01, -5.0718e-02, -6.7989e-03,  5.2015e-02, -4.9847e-02,\n",
      "         -1.1886e-02, -6.1829e-02,  7.1131e-02, -5.2091e-02, -2.1876e-03,\n",
      "          1.8899e-02,  1.5327e-02, -7.4243e-05,  7.6521e-02,  7.1274e-02,\n",
      "         -1.2258e-01],\n",
      "        [-5.5571e-02,  2.3303e-02,  3.1238e-03, -2.3898e-02,  2.2902e-02,\n",
      "          5.4610e-03,  2.8407e-02, -3.2681e-02,  2.3933e-02,  1.0051e-03,\n",
      "         -8.6830e-03, -7.0419e-03,  3.4111e-05, -3.5158e-02, -3.2747e-02,\n",
      "          5.6320e-02],\n",
      "        [ 9.8776e-03, -4.1420e-03, -5.5525e-04,  4.2479e-03, -4.0709e-03,\n",
      "         -9.7069e-04, -5.0494e-03,  5.8090e-03, -4.2541e-03, -1.7865e-04,\n",
      "          1.5434e-03,  1.2517e-03, -6.0632e-06,  6.2493e-03,  5.8207e-03,\n",
      "         -1.0011e-02],\n",
      "        [-1.1884e-01,  4.9835e-02,  6.6805e-03, -5.1110e-02,  4.8979e-02,\n",
      "          1.1679e-02,  6.0752e-02, -6.9892e-02,  5.1184e-02,  2.1495e-03,\n",
      "         -1.8570e-02, -1.5060e-02,  7.2950e-05, -7.5189e-02, -7.0032e-02,\n",
      "          1.2045e-01],\n",
      "        [ 3.6846e-02, -1.5451e-02, -2.0712e-03,  1.5846e-02, -1.5185e-02,\n",
      "         -3.6209e-03, -1.8836e-02,  2.1669e-02, -1.5869e-02, -6.6642e-04,\n",
      "          5.7573e-03,  4.6691e-03, -2.2617e-05,  2.3311e-02,  2.1713e-02,\n",
      "         -3.7343e-02],\n",
      "        [-4.3172e-02,  1.8103e-02,  2.4268e-03, -1.8566e-02,  1.7792e-02,\n",
      "          4.2425e-03,  2.2069e-02, -2.5389e-02,  1.8593e-02,  7.8083e-04,\n",
      "         -6.7457e-03, -5.4707e-03,  2.6500e-05, -2.7313e-02, -2.5440e-02,\n",
      "          4.3754e-02]]) tensor([ 0.0048,  0.0365, -0.0567,  0.0261, -0.0046,  0.0557, -0.0173,  0.0202])\n",
      "tensor([[ 0.0189,  0.0183,  0.0180, -0.0018, -0.0099, -0.0073,  0.0751, -0.0198],\n",
      "        [ 0.0095,  0.0092,  0.0090, -0.0009, -0.0050, -0.0037,  0.0378, -0.0100],\n",
      "        [ 0.0562,  0.0544,  0.0536, -0.0054, -0.0295, -0.0219,  0.2238, -0.0590],\n",
      "        [ 0.0502,  0.0487,  0.0479, -0.0048, -0.0264, -0.0196,  0.2001, -0.0528]]) tensor([0.0399, 0.0200, 0.1187, 0.1062])\n",
      "tensor([[ 0.2139,  0.1360,  0.0778, -0.0134],\n",
      "        [-0.2139, -0.1360, -0.0778,  0.0134]]) tensor([-0.2454,  0.2454])\n"
     ]
    }
   ],
   "source": [
    "#access each layer's gradients\n",
    "print(model[0].weight.grad, model[0].bias.grad)\n",
    "print(model[1].weight.grad, model[1].bias.grad)\n",
    "print(model[2].weight.grad, model[2].bias.grad)\n"
   ]
  },
  {
   "cell_type": "markdown",
   "metadata": {},
   "source": [
    "### Updatign model paramenters\n"
   ]
  },
  {
   "cell_type": "code",
   "execution_count": 7,
   "metadata": {},
   "outputs": [],
   "source": [
    "lr  = 0.001\n",
    "\n",
    "weight = model[0].weight\n",
    "weight_grad = model[0].weight.grad\n",
    "weight = weight - lr * weight_grad\n",
    "\n",
    "bias = model[0].bias\n",
    "bias_grad = model[0].bias.grad\n",
    "bias = bias - lr * bias_grad\n"
   ]
  },
  {
   "cell_type": "code",
   "execution_count": 8,
   "metadata": {},
   "outputs": [
    {
     "name": "stdout",
     "output_type": "stream",
     "text": [
      "tensor([[-6.2337e-03, -2.2440e-01, -1.6213e-02, -2.2529e-01,  2.0591e-01,\n",
      "         -2.2772e-01,  2.3175e-02, -1.8617e-01,  1.9887e-01, -3.5142e-02,\n",
      "         -1.7977e-01, -2.4464e-02,  2.0432e-01,  1.6612e-01,  1.1696e-01,\n",
      "          1.6165e-01],\n",
      "        [-6.7822e-02,  1.9475e-01, -1.5042e-01,  1.5298e-01, -1.8437e-01,\n",
      "         -1.7940e-01,  1.5854e-01, -1.2026e-01,  1.7810e-01, -2.5168e-02,\n",
      "         -2.0115e-02, -1.3009e-01, -2.7404e-02,  1.6137e-01, -2.2021e-01,\n",
      "         -9.5999e-02],\n",
      "        [-1.7664e-01,  6.8405e-02,  6.1880e-02, -1.9997e-01,  1.6182e-03,\n",
      "          1.2510e-01, -1.0986e-01,  1.2840e-01, -2.2650e-01, -2.4172e-01,\n",
      "          4.7030e-02, -2.2015e-01,  1.1567e-01, -1.1529e-01, -1.2152e-01,\n",
      "         -9.8257e-02],\n",
      "        [-1.3138e-02,  1.5581e-01,  9.7134e-02,  3.2372e-02,  1.7983e-01,\n",
      "         -1.1459e-01, -1.4688e-01,  4.1477e-02, -1.1482e-01, -1.4018e-01,\n",
      "         -6.4237e-02, -8.3823e-03, -6.9378e-02, -1.2334e-01, -2.4418e-01,\n",
      "         -1.8375e-01],\n",
      "        [ 1.2425e-01, -1.6282e-01, -2.2138e-01,  1.3516e-01,  5.4066e-02,\n",
      "         -2.4400e-01, -2.0346e-02,  1.9506e-01,  1.3959e-01, -1.0002e-01,\n",
      "         -1.2934e-01,  2.1956e-01, -1.9826e-01, -1.1182e-01,  2.4308e-01,\n",
      "          1.8919e-01],\n",
      "        [-2.4678e-01,  4.2442e-02,  2.3085e-02,  1.2941e-01, -1.4652e-01,\n",
      "         -1.7820e-01, -9.0877e-02,  2.0386e-01, -1.0821e-01, -1.6214e-01,\n",
      "          1.6725e-04,  1.1506e-01, -2.0108e-01,  4.9577e-02, -5.8477e-02,\n",
      "         -2.6337e-02],\n",
      "        [-1.5797e-01,  1.6573e-03,  2.1661e-01,  9.8030e-02,  2.4705e-01,\n",
      "          1.7616e-01,  2.3769e-01, -1.9138e-01,  2.0869e-01, -3.7029e-02,\n",
      "          1.0840e-01, -1.4151e-01,  1.5525e-01, -2.4306e-01,  5.9886e-02,\n",
      "          1.7747e-01],\n",
      "        [ 1.0924e-01, -5.2323e-02, -2.0411e-01,  8.8771e-02, -1.3944e-01,\n",
      "          1.4090e-01,  2.7291e-02,  2.2189e-01,  2.2225e-01,  1.9749e-01,\n",
      "         -1.0502e-01, -1.3582e-01, -1.6656e-01,  2.1812e-01, -6.2174e-02,\n",
      "          4.5569e-02]], grad_fn=<SubBackward0>) tensor([-0.1623,  0.1175,  0.1542, -0.1057,  0.2211,  0.0745,  0.0295,  0.0639],\n",
      "       grad_fn=<SubBackward0>)\n"
     ]
    }
   ],
   "source": [
    "print(weight, bias)\n"
   ]
  },
  {
   "cell_type": "code",
   "execution_count": 10,
   "metadata": {},
   "outputs": [],
   "source": [
    "optimizer = optim.SGD(model.parameters(), lr=0.001)"
   ]
  },
  {
   "cell_type": "code",
   "execution_count": 11,
   "metadata": {},
   "outputs": [],
   "source": [
    "optimizer.step()"
   ]
  },
  {
   "cell_type": "code",
   "execution_count": 13,
   "metadata": {},
   "outputs": [
    {
     "name": "stdout",
     "output_type": "stream",
     "text": [
      "Parameter containing:\n",
      "tensor([[-6.2337e-03, -2.2440e-01, -1.6213e-02, -2.2529e-01,  2.0591e-01,\n",
      "         -2.2772e-01,  2.3175e-02, -1.8617e-01,  1.9887e-01, -3.5142e-02,\n",
      "         -1.7977e-01, -2.4464e-02,  2.0432e-01,  1.6612e-01,  1.1696e-01,\n",
      "          1.6165e-01],\n",
      "        [-6.7822e-02,  1.9475e-01, -1.5042e-01,  1.5298e-01, -1.8437e-01,\n",
      "         -1.7940e-01,  1.5854e-01, -1.2026e-01,  1.7810e-01, -2.5168e-02,\n",
      "         -2.0115e-02, -1.3009e-01, -2.7404e-02,  1.6137e-01, -2.2021e-01,\n",
      "         -9.5999e-02],\n",
      "        [-1.7664e-01,  6.8405e-02,  6.1880e-02, -1.9997e-01,  1.6182e-03,\n",
      "          1.2510e-01, -1.0986e-01,  1.2840e-01, -2.2650e-01, -2.4172e-01,\n",
      "          4.7030e-02, -2.2015e-01,  1.1567e-01, -1.1529e-01, -1.2152e-01,\n",
      "         -9.8257e-02],\n",
      "        [-1.3138e-02,  1.5581e-01,  9.7134e-02,  3.2372e-02,  1.7983e-01,\n",
      "         -1.1459e-01, -1.4688e-01,  4.1477e-02, -1.1482e-01, -1.4018e-01,\n",
      "         -6.4237e-02, -8.3823e-03, -6.9378e-02, -1.2334e-01, -2.4418e-01,\n",
      "         -1.8375e-01],\n",
      "        [ 1.2425e-01, -1.6282e-01, -2.2138e-01,  1.3516e-01,  5.4066e-02,\n",
      "         -2.4400e-01, -2.0346e-02,  1.9506e-01,  1.3959e-01, -1.0002e-01,\n",
      "         -1.2934e-01,  2.1956e-01, -1.9826e-01, -1.1182e-01,  2.4308e-01,\n",
      "          1.8919e-01],\n",
      "        [-2.4678e-01,  4.2442e-02,  2.3085e-02,  1.2941e-01, -1.4652e-01,\n",
      "         -1.7820e-01, -9.0877e-02,  2.0386e-01, -1.0821e-01, -1.6214e-01,\n",
      "          1.6725e-04,  1.1506e-01, -2.0108e-01,  4.9577e-02, -5.8477e-02,\n",
      "         -2.6337e-02],\n",
      "        [-1.5797e-01,  1.6573e-03,  2.1661e-01,  9.8030e-02,  2.4705e-01,\n",
      "          1.7616e-01,  2.3769e-01, -1.9138e-01,  2.0869e-01, -3.7029e-02,\n",
      "          1.0840e-01, -1.4151e-01,  1.5525e-01, -2.4306e-01,  5.9886e-02,\n",
      "          1.7747e-01],\n",
      "        [ 1.0924e-01, -5.2323e-02, -2.0411e-01,  8.8771e-02, -1.3944e-01,\n",
      "          1.4090e-01,  2.7291e-02,  2.2189e-01,  2.2225e-01,  1.9749e-01,\n",
      "         -1.0502e-01, -1.3582e-01, -1.6656e-01,  2.1812e-01, -6.2174e-02,\n",
      "          4.5569e-02]], requires_grad=True)\n"
     ]
    }
   ],
   "source": [
    "print(optimizer.param_groups[0]['params'][0])"
   ]
  },
  {
   "cell_type": "code",
   "execution_count": null,
   "metadata": {},
   "outputs": [],
   "source": []
  }
 ],
 "metadata": {
  "kernelspec": {
   "display_name": "Python 3",
   "language": "python",
   "name": "python3"
  },
  "language_info": {
   "codemirror_mode": {
    "name": "ipython",
    "version": 3
   },
   "file_extension": ".py",
   "mimetype": "text/x-python",
   "name": "python",
   "nbconvert_exporter": "python",
   "pygments_lexer": "ipython3",
   "version": "3.12.8"
  }
 },
 "nbformat": 4,
 "nbformat_minor": 2
}
