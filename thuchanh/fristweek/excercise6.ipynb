{
 "cells": [
  {
   "cell_type": "code",
   "execution_count": 49,
   "metadata": {},
   "outputs": [],
   "source": [
    "import torch\n",
    "import torch.nn as nn\n",
    "import torch.optim as optim\n",
    "import torch.nn.functional as F\n",
    "import numpy as np\n",
    "import pandas as pd\n",
    "import matplotlib.pyplot as plt\n",
    "import torch.utils.data as data\n",
    "from torch.utils.data import DataLoader as DL\n",
    "from torch.utils.data import TensorDataset as TD"
   ]
  },
  {
   "cell_type": "markdown",
   "metadata": {},
   "source": [
    "$$FightingOverfitting"
   ]
  },
  {
   "cell_type": "markdown",
   "metadata": {},
   "source": [
    "#### Introduction to deep learning with python"
   ]
  },
  {
   "cell_type": "markdown",
   "metadata": {},
   "source": [
    "* Possible causes:\n",
    "\n",
    "| _Problem_ | _Solutions_|\n",
    "|----------|----------|\n",
    "| Dataset is not large enough | Get more data / usedate augmentation |\n",
    "| Model has too much capacity | reduce model size /add dropout |\n",
    "| Weights are too much | Weight decay | "
   ]
  },
  {
   "cell_type": "markdown",
   "metadata": {},
   "source": [
    "### \"Regularzation\" using a dropout layer"
   ]
  },
  {
   "cell_type": "code",
   "execution_count": 50,
   "metadata": {},
   "outputs": [
    {
     "data": {
      "text/plain": [
       "tensor([[2.9085, 0.0000, 1.6780, 0.0000]], grad_fn=<MulBackward0>)"
      ]
     },
     "execution_count": 50,
     "metadata": {},
     "output_type": "execute_result"
    }
   ],
   "source": [
    "model = nn.Sequential(\n",
    "    nn.Linear(8,4),\n",
    "    nn.ReLU(),\n",
    "    nn.Dropout(0.5)\n",
    "\n",
    ")\n",
    "\n",
    "features = torch.randn((1, 8))\n",
    "model(features)"
   ]
  },
  {
   "cell_type": "code",
   "execution_count": 51,
   "metadata": {},
   "outputs": [],
   "source": [
    "optimizer = optim.SGD(model.parameters(), lr=0.001, weight_decay=1e-4)"
   ]
  },
  {
   "cell_type": "markdown",
   "metadata": {},
   "source": [
    "$$ Improvving Model Performance"
   ]
  },
  {
   "cell_type": "markdown",
   "metadata": {},
   "source": [
    "### Steps to maximize performance \n",
    "* Overfit the training set\n",
    "    * can we solve the problem?\n",
    "    * Sets a performance baseline\n",
    "* Reduce overfitting \n",
    "    * Improve performances on the validation set\n",
    "* Fine-tune Hyperparameters "
   ]
  },
  {
   "cell_type": "code",
   "execution_count": 52,
   "metadata": {},
   "outputs": [
    {
     "name": "stdout",
     "output_type": "stream",
     "text": [
      "tensor([[ 0.0415, -0.8350,  0.1940,  0.3345, -0.9531,  0.9239, -0.1457, -0.2902],\n",
      "        [-2.7081, -0.5734,  0.2370,  0.5747, -0.1642,  0.9474, -0.7297,  0.2598],\n",
      "        [-0.5605, -0.3473, -2.0134,  1.0373,  0.2219,  0.0646,  0.5243, -1.0113],\n",
      "        [ 0.2954, -0.6153, -0.6476, -1.8253,  0.1188,  0.5444,  1.0263,  0.3312]])\n"
     ]
    }
   ],
   "source": [
    "trainloader =  torch.randn(4, 8)\n",
    "print(trainloader)\n",
    "\n"
   ]
  },
  {
   "cell_type": "code",
   "execution_count": 53,
   "metadata": {},
   "outputs": [
    {
     "name": "stdout",
     "output_type": "stream",
     "text": [
      "tensor([[ 0.0415, -0.8350,  0.1940,  0.3345, -0.9531,  0.9239, -0.1457, -0.2902]])\n",
      "tensor([0])\n"
     ]
    }
   ],
   "source": [
    "# Assuming labels are available, create a TensorDataset\n",
    "labels = torch.randint(0, 2, (4,))  # Example labels\n",
    "dataset = TD(trainloader, labels)\n",
    "trainloader = DL(dataset, batch_size=1)\n",
    "\n",
    "features, labels = next(iter(trainloader))\n",
    "print(features)\n",
    "print(labels)\n",
    "\n",
    "criterion = nn.CrossEntropyLoss()"
   ]
  },
  {
   "cell_type": "code",
   "execution_count": 54,
   "metadata": {},
   "outputs": [],
   "source": [
    "#Step1: Overfit the training set\n",
    "for i in range(1000):\n",
    "    outputs = model(features)\n",
    "    \n",
    "    loss =  criterion(outputs, labels)\n",
    "    loss.backward()\n",
    "\n",
    "    optimizer.step()"
   ]
  },
  {
   "cell_type": "code",
   "execution_count": 55,
   "metadata": {},
   "outputs": [],
   "source": [
    "#Step2: reduce overfitting\n",
    "# goal : maximize the validation accuracy\n",
    "# + dropout\n",
    "# + data augmentation\n",
    "# + weight decay\n",
    "# + reducing model capacity"
   ]
  },
  {
   "cell_type": "code",
   "execution_count": 56,
   "metadata": {},
   "outputs": [],
   "source": [
    "model_o = nn.Sequential(\n",
    "    nn.Linear(8,20),\n",
    "    nn.ReLU(),\n",
    "    nn.Dropout(0.5),\n",
    "    nn.Linear(20,40),\n",
    "    nn.ReLU(),\n",
    "    nn.Dropout(0.5),\n",
    "    nn.Linear(40,10),\n",
    "    nn.ReLU(),\n",
    "    nn.Dropout(0.5),\n",
    "    nn.Linear(10,2)\n",
    "\n",
    ")"
   ]
  },
  {
   "cell_type": "code",
   "execution_count": null,
   "metadata": {},
   "outputs": [
    {
     "name": "stdout",
     "output_type": "stream",
     "text": [
      "tensor([[ 0.4592, -1.1995,  0.1083, -0.4314,  0.1103,  0.6175, -0.1186, -0.5109]])\n",
      "tensor([1])\n"
     ]
    }
   ],
   "source": [
    "# Visualize the model Validation accuracy and training accuracy\n",
    "# 1. Create a validation set\n",
    "# 2. Create a validation dataloader\n",
    "# 3. Compute the validation accuracy\n",
    "# 4. Plot the validation accuracy\n",
    "# 5. Save the model with the best validation accuracy\n",
    "\n",
    "# Assuming labels are available, create a TensorDataset\n",
    "val_features = torch.randn(100, 8)\n",
    "val_labels = torch.randint(0, 2, (100,))  # Example labels\n",
    "val_dataset = TD(val_features, val_labels)\n",
    "val_loader = DL(val_dataset, batch_size=1)\n",
    "\n",
    "val_features, val_labels = next(iter(val_loader))\n",
    "print(val_features)\n",
    "print(val_labels)\n",
    "\n",
    "optimizer = optim.SGD(model_o.parameters(), lr=0.001, weight_decay=1e-4)\n",
    "criterion = nn.CrossEntropyLoss()\n",
    "\n",
    "for i in range(1000):\n",
    "    outputs = model_o(features)\n",
    "    \n",
    "    loss =  criterion(outputs, labels)\n",
    "    loss.backward()\n",
    "\n",
    "    optimizer.step()\n",
    "\n",
    "    outputs_val = model_o(val_features)\n",
    "    loss_val = criterion(outputs_val, val_labels)\n",
    "    loss_val.backward()\n",
    "\n",
    "    optimizer.step()\n",
    "\n"
   ]
  },
  {
   "cell_type": "code",
   "execution_count": null,
   "metadata": {},
   "outputs": [
    {
     "name": "stdout",
     "output_type": "stream",
     "text": [
      "Accuracy of the network on the validation set: 46 %\n"
     ]
    },
    {
     "data": {
      "image/png": "[encoded data removed]",
      "text/plain": [
       "<Figure size 640x480 with 1 Axes>"
      ]
     },
     "metadata": {},
     "output_type": "display_data"
    }
   ],
   "source": [
    "\n",
    "\n",
    "# Create a validation set\n",
    "val_features = torch.randn((100, 8))\n",
    "val_labels = torch.randint(0, 2, (100,))\n",
    "val_dataset = TD(val_features, val_labels)\n",
    "val_loader = DL(val_dataset, batch_size=1)\n",
    "\n",
    "# Compute the validation accuracy\n",
    "correct = 0\n",
    "total = 0\n",
    "\n",
    "val_acc = []\n",
    "\n",
    "with torch.no_grad():\n",
    "    for features, labels in val_loader:\n",
    "        outputs = model_o(features)\n",
    "        _, predicted = torch.max(outputs.data, 1)\n",
    "        total += labels.size(0)\n",
    "        correct += (predicted == labels).sum().item()\n",
    "        val_acc.append(correct / total)\n",
    "\n",
    "print('Accuracy of the network on the validation set: %d %%' % (100 * correct / total))\n",
    "\n",
    "\n",
    "# Plot the validation accuracy\n",
    "\n",
    "plt.plot(val_acc)\n",
    "plt.xlabel('Epoch')\n",
    "plt.ylabel('Accuracy')\n",
    "plt.title('Validation Accuracy')\n",
    "plt.show()"
   ]
  },
  {
   "cell_type": "code",
   "execution_count": null,
   "metadata": {},
   "outputs": [],
   "source": []
  }
 ],
 "metadata": {
  "kernelspec": {
   "display_name": "Python 3",
   "language": "python",
   "name": "python3"
  },
  "language_info": {
   "codemirror_mode": {
    "name": "ipython",
    "version": 3
   },
   "file_extension": ".py",
   "mimetype": "text/x-python",
   "name": "python",
   "nbconvert_exporter": "python",
   "pygments_lexer": "ipython3",
   "version": "3.12.8"
  }
 },
 "nbformat": 4,
 "nbformat_minor": 2
}
