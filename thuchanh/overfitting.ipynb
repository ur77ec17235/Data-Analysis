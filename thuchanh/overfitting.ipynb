{
 "cells": [
  {
   "cell_type": "code",
   "execution_count": 1,
   "metadata": {},
   "outputs": [
    {
     "name": "stdout",
     "output_type": "stream",
     "text": [
      "Nguyên nhân và giải pháp cho Overfitting:\n",
      "\n",
      "1. Mô hình quá phức tạp:\n",
      "- Nguyên nhân: Mô hình có quá nhiều tham số, layers hoặc neurons\n",
      "- Giải pháp: \n",
      "  + Giảm độ phức tạp của mô hình\n",
      "  + Sử dụng regularization (L1, L2)\n",
      "  + Áp dụng Dropout\n",
      "\n",
      "2. Dữ liệu huấn luyện không đủ:\n",
      "- Nguyên nhân: Số lượng dữ liệu training quá ít so với độ phức tạp của mô hình\n",
      "- Giải pháp:\n",
      "  + Thu thập thêm dữ liệu\n",
      "  + Sử dụng data augmentation\n",
      "  + Transfer learning\n",
      "\n",
      "3. Noise trong dữ liệu:\n",
      "- Nguyên nhân: Mô hình học cả nhiễu trong dữ liệu training\n",
      "- Giải pháp:\n",
      "  + Làm sạch dữ liệu\n",
      "  + Cross-validation\n",
      "  + Early stopping\n"
     ]
    }
   ],
   "source": [
    "print(\"Nguyên nhân và giải pháp cho Overfitting:\")\n",
    "print(\"\\n1. Mô hình quá phức tạp:\")\n",
    "print(\"- Nguyên nhân: Mô hình có quá nhiều tham số, layers hoặc neurons\")\n",
    "print(\"- Giải pháp: \")\n",
    "print(\"  + Giảm độ phức tạp của mô hình\")\n",
    "print(\"  + Sử dụng regularization (L1, L2)\")\n",
    "print(\"  + Áp dụng Dropout\")\n",
    "\n",
    "print(\"\\n2. Dữ liệu huấn luyện không đủ:\")\n",
    "print(\"- Nguyên nhân: Số lượng dữ liệu training quá ít so với độ phức tạp của mô hình\")\n",
    "print(\"- Giải pháp:\")\n",
    "print(\"  + Thu thập thêm dữ liệu\")\n",
    "print(\"  + Sử dụng data augmentation\")\n",
    "print(\"  + Transfer learning\")\n",
    "\n",
    "print(\"\\n3. Noise trong dữ liệu:\")\n",
    "print(\"- Nguyên nhân: Mô hình học cả nhiễu trong dữ liệu training\")\n",
    "print(\"- Giải pháp:\")\n",
    "print(\"  + Làm sạch dữ liệu\")\n",
    "print(\"  + Cross-validation\")\n",
    "print(\"  + Early stopping\")\n"
   ]
  }
 ],
 "metadata": {
  "kernelspec": {
   "display_name": "Python 3",
   "language": "python",
   "name": "python3"
  },
  "language_info": {
   "codemirror_mode": {
    "name": "ipython",
    "version": 3
   },
   "file_extension": ".py",
   "mimetype": "text/x-python",
   "name": "python",
   "nbconvert_exporter": "python",
   "pygments_lexer": "ipython3",
   "version": "3.12.8"
  }
 },
 "nbformat": 4,
 "nbformat_minor": 2
}
