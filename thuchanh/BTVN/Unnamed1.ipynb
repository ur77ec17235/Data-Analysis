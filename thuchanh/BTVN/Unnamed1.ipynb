{
 "cells": [
  {
   "cell_type": "markdown",
   "id": "26acbeae",
   "metadata": {},
   "source": [
    "![img](/Users/hongviet/Documents/GitHub/Data-Analysis/thuchanh/BTVN/cau1.jpg)"
   ]
  },
  {
   "cell_type": "markdown",
   "id": "470d27f7",
   "metadata": {
    "vscode": {
     "languageId": "latex"
    }
   },
   "source": [
    "## 🎯 Confusion Matrix\n",
    "- True Positive (TP): 80  \n",
    "- False Positive (FP): 20  \n",
    "- True Negative (TN): 90  \n",
    "- False Negative (FN): 10  \n",
    "\n",
    "---\n",
    "\n",
    "## 🧮 Các công thức đo lường hiệu suất\n",
    "\n",
    "### 1. **Accuracy (Độ chính xác)**\n",
    "- ![img](/Users/hongviet/Documents/GitHub/Data-Analysis/thuchanh/BTVN/acc.png)\n",
    "\n",
    "- ➡️ Accuracy = (80 + 90) / (80 + 90 + 20 + 10) = 170 / 200 = 0.85 (85%)\n",
    "- __**ÝNghĩa**__:\n",
    "    + Accuracy cho biết tỷ lệ dự đoán đúng trên toàn bộ dữ liệu.\n",
    "    \n",
    "    + Đây là một độ đo tổng quát nhưng không phù hợp khi dữ liệu mất cân bằng \n",
    "    + (ví dụ: 90% là âm tính, 10% là dương tính).\n",
    "### 2. **Precision (Độ chính xác dương tính)**\n",
    "- ![img](/Users/hongviet/Documents/GitHub/Data-Analysis/thuchanh/BTVN/pre.png)\n",
    "- ➡️ Precision = 80 / (80 + 20) = 80 / 100 = 0.80 (80%)\n",
    "- **Ý nghĩa**:\n",
    "    + Precision đo lường tỷ lệ các mẫu được dự đoán là dương tính thực sự là dương tính.\n",
    "    + Thích hợp khi chi phí của sai dương tính (False Positive) là cao.\n",
    "    + Ví dụ: chẩn đoán ung thư, xét nghiệm sai gây lo lắng và điều trị không cần thiết.\n",
    "### 3. **Recall (Độ nhạy / True Positive Rate)**\n",
    "- Recall = TP / (TP + FN)\n",
    "- ➡️ Recall = 80 / (80 + 10) = 80 / 90 ≈ 0.8889 (88.89%)\n",
    "- Ý nghĩa:\n",
    "    + Recall cho biết trong tất cả các trường hợp dương tính thực sự, mô hình phát hiện được bao nhiêu.\n",
    "    + Quan trọng khi không được bỏ sót các trường hợp dương tính (ví dụ: phát hiện bệnh, gian lận tài chính).\n",
    "### 4. **F1-score**\n",
    "- ![img](./f1.png)\n",
    "- ➡️ F1 = 2 × (0.80 × 0.8889) / (0.80 + 0.8889) ≈ 2 × 0.7111 / 1.6889 ≈ 0.841\n",
    "- Ý nghĩa:\n",
    "    + F1 là một độ đo cân bằng giữa precision và recall.\n",
    "    + Nó đặc biệt hữu ích khi cần cân bằng giữa sai dương tính và sai âm tính.\n",
    "    + F1 đạt giá trị cao nhất khi precision và recall đều cao.\n",
    "### 5. **Specificity (True Negative Rate)**\n",
    "- Specificity = TN / (TN + FP)\n",
    "- ➡️ Specificity = 90 / (90 + 20) = 90 / 110 ≈ 0.8182 (81.82%)\n",
    "- Ý nghĩa:\n",
    "    + Specificity cho biết trong số các trường hợp âm tính thực sự, có bao nhiêu được dự đoán đúng.\n",
    "    + Rất quan trọng trong các ứng dụng cần đảm bảo không gây dương tính giả \n",
    "    + (ví dụ: xét nghiệm tiền sản, kiểm soát chất lượng).\n",
    "\n",
    "## ✅ Tổng kết\n",
    "\n",
    "| Độ đo       | Giá trị     |\n",
    "|-------------|-------------|\n",
    "| Accuracy    | 85.00%      |\n",
    "| Precision   | 80.00%      |\n",
    "| Recall      | 88.89%      |\n",
    "| F1-score    | 84.10%      |\n",
    "| Specificity | 81.82%      |\n"
   ]
  },
  {
   "cell_type": "markdown",
   "id": "6ba1ac1e",
   "metadata": {},
   "source": [
    "![img](/Users/hongviet/Documents/GitHub/Data-Analysis/thuchanh/BTVN/cau2.jpg)"
   ]
  },
  {
   "cell_type": "code",
   "execution_count": null,
   "id": "e676ce82",
   "metadata": {},
   "outputs": [
    {
     "name": "stdout",
     "output_type": "stream",
     "text": [
      "Mean Absolute Error (MAE): 0.44000000000000006\n",
      "Root Mean Squared Error (RMSE): 0.4560701700396552\n",
      "R-squared (R2): 0.8175438596491228\n"
     ]
    }
   ],
   "source": [
    "# bảng dữ liệu\n",
    "#giá trị thực tế\n",
    "y_true = [3.0, 4.5, 5.0 , 6.0, 3.5]\n",
    "#giá trị dự đoán\n",
    "y_pred = [2.5, 4.0, 5.2, 5.5, 3.0]\n",
    "\n",
    "#tính toán sai số\n",
    "# trung bình tuyệt đối\n",
    "def mean_absolute_error(y_true, y_pred):\n",
    "    n = len(y_true)\n",
    "    total_error = 0\n",
    "    for i in range(n):\n",
    "        total_error += abs(y_true[i] - y_pred[i])\n",
    "    return total_error / n\n",
    "\n",
    "#căn bật trung bình bình phương RMSE\n",
    "def root_mean_squared_error(y_true, y_pred):\n",
    "    n = len(y_true)\n",
    "    total_error = 0\n",
    "    for i in range(n):\n",
    "        total_error += (y_true[i] - y_pred[i]) ** 2\n",
    "    return (total_error / n) ** 0.5\n",
    "\n",
    "# tính R2\n",
    "def r_squared(y_true, y_pred):\n",
    "    n = len(y_true)\n",
    "    ss_total = 0\n",
    "    ss_residual = 0\n",
    "    mean_y_true = sum(y_true) / n\n",
    "    for i in range(n):\n",
    "        ss_total += (y_true[i] - mean_y_true) ** 2\n",
    "        ss_residual += (y_true[i] - y_pred[i]) ** 2\n",
    "    return 1 - (ss_residual / ss_total)\n",
    "\n",
    "# tính toán các chỉ số\n",
    "mae = mean_absolute_error(y_true, y_pred)\n",
    "rmse = root_mean_squared_error(y_true, y_pred)\n",
    "r2 = r_squared(y_true, y_pred)\n",
    "# in kết quả\n",
    "print(\"Mean Absolute Error (MAE):\", mae)\n",
    "print(\"Root Mean Squared Error (RMSE):\", rmse)\n",
    "print(\"R-squared (R2):\", r2)\n"
   ]
  },
  {
   "cell_type": "markdown",
   "id": "2df05ce4",
   "metadata": {},
   "source": [
    "MAE = 0.44 triệu VND, tức sai số trung bình khoảng 440 nghìn đồng, là khá nhỏ.\n",
    "\n",
    "RMSE = 0.456 triệu VND xác nhận rằng sai số nghiêm trọng không nhiều.\n",
    "\n",
    "R² = 0.8175 (≈ 81.75%) là mức giải thích khá tốt, tức mô hình giải thích được ~82% phương sai trong dữ liệu."
   ]
  },
  {
   "cell_type": "markdown",
   "id": "ab022840",
   "metadata": {},
   "source": [
    "➡️ Kết luận:\n",
    "Mô hình dự đoán tương đối chính xác, sai số thấp và độ phù hợp tốt. Có thể cải thiện thêm bằng cách thử mô hình phi tuyến, thêm biến hoặc tinh chỉnh tham số."
   ]
  },
  {
   "cell_type": "markdown",
   "id": "67469f7f",
   "metadata": {},
   "source": [
    "![img](/Users/hongviet/Documents/GitHub/Data-Analysis/thuchanh/BTVN/cau3.jpg)"
   ]
  },
  {
   "cell_type": "markdown",
   "id": "31432791",
   "metadata": {},
   "source": [
    " -  __a)__ mô hình phù hợp để phát hiện đúng càng nhiều bệnh nhân thật sự là ***M3*** bởi vì tỷ lệ độ nhạy của mô hình này là tốt nhất, phù hợp với việc nhận diện sự bất thường trong nhận biết bệnh nhân và bất thường trong gia dịch \n",
    " - __b)__ nếu muốn chọn mô hình cân bằng giữa __precision__ và __recall__ thì ta nên chọn mô hình M3 vì đây là mô hình có chỉ số ***F1*** cao nhất"
   ]
  },
  {
   "cell_type": "markdown",
   "id": "371c1e5a",
   "metadata": {},
   "source": [
    "![img](/Users/hongviet/Documents/GitHub/Data-Analysis/thuchanh/BTVN/cau4.jpg)"
   ]
  },
  {
   "cell_type": "markdown",
   "id": "8b9a24b4",
   "metadata": {},
   "source": [
    "    a)Giải thích khả năng xảy ra tình trạng này"
   ]
  },
  {
   "cell_type": "markdown",
   "id": "2f95816c",
   "metadata": {},
   "source": [
    "### Tình trạng này rất có thể xảy ra do tập dữ liệu bị mất cân bằng (imbalanced dataset).\n",
    "\n",
    "####     - Accuracy (Độ chính xác) đo lường tỷ lệ tổng số dự đoán đúng trên toàn bộ tập dữ liệu ((TP + TN) / Tổng). Khi dữ liệu mất cân bằng, lớp đa số (majority class) chiếm tỷ lệ rất lớn. Nếu mô hình chỉ đơn giản dự đoán hầu hết các điểm dữ liệu thuộc về lớp đa số, nó vẫn có thể đạt được Accuracy cao, vì số lượng dự đoán đúng cho lớp đa số (TN) là rất lớn.\n",
    "####     - F1-score là trung bình điều hòa (harmonic mean) của Precision và Recall. Nó nhạy cảm hơn với hiệu suất của mô hình trên lớp thiểu số (minority class).\n",
    "####         + Precision (TP / (TP + FP)): Độ chuẩn xác - Tỷ lệ các điểm được dự đoán là dương tính mà thực sự là dương tính.\n",
    "####         + Recall (TP / (TP + FN)): Độ phủ - Tỷ lệ các điểm thực sự dương tính mà mô hình dự đoán đúng.\n",
    "####     - Trong trường hợp dữ liệu mất cân bằng, mô hình có Accuracy cao nhưng F1-score thấp thường là do nó dự đoán kém trên lớp thiểu số. Nó có thể có Recall thấp (bỏ lỡ nhiều điểm thuộc lớp thiểu số - nhiều FN) hoặc Precision thấp (dự đoán sai nhiều điểm thành lớp thiểu số - nhiều FP), hoặc cả hai. Điều này kéo F1-score xuống thấp, mặc dù Accuracy vẫn cao do dự đoán đúng phần lớn các điểm thuộc lớp đa số."
   ]
  },
  {
   "cell_type": "markdown",
   "id": "8b15b85d",
   "metadata": {},
   "source": [
    "    b) Nếu tập dữ liệu bị mấy cân bằng bạn sẽ áp dụng các kỹ thuật nào để cải thiện mô hình? Liệt kê ít nhất 3 kỹ thuật"
   ]
  },
  {
   "cell_type": "markdown",
   "id": "53ac97ea",
   "metadata": {},
   "source": [
    "Có nhiều kỹ thuật để cải thiện mô hình khi gặp dữ liệu mất cân bằng. Dưới đây là ít nhất 3 kỹ thuật phổ biến:\n",
    "\n",
    "1. Thay đổi tỷ lệ mẫu (Resampling):\n",
    "   -  Oversampling (Lấy mẫu quá mức): Tăng số lượng mẫu của lớp thiểu số. Ví dụ: Lặp lại ngẫu nhiên các mẫu thiểu số, hoặc tạo ra các mẫu tổng hợp mới (ví dụ: kỹ thuật SMOTE - Synthetic Minority Over-sampling Technique).\n",
    "   -  Undersampling (Lấy mẫu dưới mức): Giảm số lượng mẫu của lớp đa số. Ví dụ: Loại bỏ ngẫu nhiên các mẫu đa số, hoặc sử dụng các kỹ thuật chọn lọc hơn (ví dụ: Tomek links, NearMiss).\n",
    "   -  Kết hợp Oversampling và Undersampling.\n",
    "2. Sử dụng các độ đo đánh giá khác: Thay vì chỉ dựa vào Accuracy, tập trung vào các độ đo phù hợp hơn cho dữ liệu mất cân bằng như Precision, Recall, F1-score, AUC-PR (Area Under the Precision-Recall Curve), G-mean, hoặc Matthews Correlation Coefficient (MCC).\n",
    "3. Cost-Sensitive Learning (Học nhạy cảm với chi phí): Gán trọng số (chi phí) khác nhau cho việc phân loại sai các lớp. Cụ thể là tăng chi phí/hình phạt cho việc phân loại sai lớp thiểu số. Nhiều thuật toán cho phép thiết lập trọng số lớp (ví dụ: Logistic Regression, SVM, Decision Trees).\n",
    "4. Sử dụng thuật toán phù hợp: Một số thuật toán hoặc biến thể thuật toán hoạt động tốt hơn với dữ liệu mất cân bằng, ví dụ như các phương pháp Ensemble (Balanced Random Forest, EasyEnsemble, RUSBoost).\n"
   ]
  },
  {
   "cell_type": "markdown",
   "id": "37c3fc03",
   "metadata": {},
   "source": [
    "    c) Giải thích tại sao Accuracy không phải lúc nào cũng là độ đo tốt nhất. Cho ví dụ minh họa. "
   ]
  },
  {
   "cell_type": "markdown",
   "id": "0509075c",
   "metadata": {},
   "source": [
    "Accuracy không phải lúc nào cũng là độ đo tốt nhất, đặc biệt là khi tập dữ liệu bị mất cân bằng hoặc khi chi phí của các loại lỗi là khác nhau.\n",
    "\n",
    "***Giải thích*** : \n",
    " - Accuracy có thể đưa ra một bức tranh sai lệch về hiệu suất của mô hình trên các tập dữ liệu mất cân bằng. Một mô hình có thể đạt Accuracy rất cao chỉ bằng cách dự đoán thiên về lớp đa số, trong khi hoàn toàn thất bại trong việc xác định lớp thiểu số, mà lớp thiểu số này thường lại là lớp quan trọng hơn (ví dụ: phát hiện bệnh hiếm, giao dịch gian lận).\n",
    " - Ví dụ minh họa: Xét bài toán phát hiện gian lận thẻ tín dụng. Giả sử trong 1000 giao dịch, chỉ có 10 giao dịch là gian lận (lớp thiểu số - 1%) và 990 giao dịch là hợp lệ (lớp đa số - 99%).\n",
    "    + Một mô hình đơn giản luôn dự đoán \"không gian lận\" cho mọi giao dịch sẽ đạt Accuracy = 990/1000 = 99%.\n",
    "    + Mặc dù Accuracy rất cao, mô hình này hoàn toàn vô dụng vì nó không phát hiện được bất kỳ giao dịch gian lận nào (Recall cho lớp gian lận = 0/10 = 0%).\n",
    "    + Trong trường hợp này, việc bỏ sót một giao dịch gian lận (False Negative) thường có hậu quả nghiêm trọng hơn nhiều so với việc cảnh báo nhầm một giao dịch hợp lệ (False Positive). Do đó, các độ đo như Recall, Precision, và F1-score sẽ phản ánh đúng hơn hiệu quả thực sự của mô hình trong việc giải quyết vấn đề."
   ]
  },
  {
   "cell_type": "markdown",
   "id": "24c10f8a",
   "metadata": {},
   "source": []
  }
 ],
 "metadata": {
  "kernelspec": {
   "display_name": "Python 3",
   "language": "python",
   "name": "python3"
  },
  "language_info": {
   "codemirror_mode": {
    "name": "ipython",
    "version": 3
   },
   "file_extension": ".py",
   "mimetype": "text/x-python",
   "name": "python",
   "nbconvert_exporter": "python",
   "pygments_lexer": "ipython3",
   "version": "3.12.8"
  }
 },
 "nbformat": 4,
 "nbformat_minor": 5
}
