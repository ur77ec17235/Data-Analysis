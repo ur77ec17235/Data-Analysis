{
 "cells": [
  {
   "cell_type": "code",
   "execution_count": 1,
   "id": "d89fbb96",
   "metadata": {},
   "outputs": [],
   "source": [
    "import os\n",
    "import numpy as np\n",
    "import cv2 # Using OpenCV for image loading and resizing\n",
    "from sklearn.model_selection import train_test_split\n",
    "from sklearn.preprocessing import StandardScaler, LabelEncoder\n",
    "from sklearn.svm import SVC\n",
    "from sklearn.metrics import accuracy_score, classification_report, confusion_matrix\n",
    "import matplotlib.pyplot as plt\n",
    "import seaborn as sns\n",
    "import time\n",
    "import glob # To easily find potato folders\n",
    "\n"
   ]
  },
  {
   "cell_type": "code",
   "execution_count": 2,
   "id": "7324309d",
   "metadata": {},
   "outputs": [
    {
     "name": "stdout",
     "output_type": "stream",
     "text": [
      "Loading potato images from: ./PlantVillage/PlantVillage\n",
      "Found potato directories: ['Potato___Early_blight', 'Potato___Late_blight', 'Potato___healthy']\n",
      "  Loading 1000 images from Potato___Early_blight...\n",
      "  Loading 1000 images from Potato___Late_blight...\n",
      "  Loading 152 images from Potato___healthy...\n",
      "\n",
      "Loaded 2152 total potato images.\n"
     ]
    }
   ],
   "source": [
    "\n",
    "# --- Configuration ---\n",
    "DATA_DIR = './PlantVillage/PlantVillage'\n",
    "POTATO_FOLDER_PREFIX = 'Potato___'\n",
    "IMG_SIZE = 64  # Resize images to 64x64 (smaller for faster processing)\n",
    "N_HIDDEN_UNITS_ELM = 1000 # Number of hidden neurons in ELM (Hyperparameter)\n",
    "RANDOM_STATE = 42 # For reproducibility\n",
    "\n",
    "# --- 1. Load Potato Image Data ---\n",
    "print(f\"Loading potato images from: {DATA_DIR}\")\n",
    "image_paths = []\n",
    "labels = []\n",
    "\n",
    "# Find all potato subdirectories\n",
    "potato_dirs = glob.glob(os.path.join(DATA_DIR, f'{POTATO_FOLDER_PREFIX}*'))\n",
    "if not potato_dirs:\n",
    "    print(f\"Error: No directories starting with '{POTATO_FOLDER_PREFIX}' found in '{DATA_DIR}'\")\n",
    "    exit()\n",
    "\n",
    "print(f\"Found potato directories: {[os.path.basename(d) for d in potato_dirs]}\")\n",
    "\n",
    "for class_dir in potato_dirs:\n",
    "    class_name = os.path.basename(class_dir)\n",
    "    image_files = glob.glob(os.path.join(class_dir, '*.JPG')) # Assuming JPG extension\n",
    "    if not image_files:\n",
    "         image_files = glob.glob(os.path.join(class_dir, '*.jpg')) # Try lowercase\n",
    "    print(f\"  Loading {len(image_files)} images from {class_name}...\")\n",
    "    for img_path in image_files:\n",
    "        try:\n",
    "            # Read image using OpenCV\n",
    "            img = cv2.imread(img_path, cv2.IMREAD_GRAYSCALE) # Load as grayscale\n",
    "            if img is None:\n",
    "                print(f\"    Warning: Could not read image {img_path}. Skipping.\")\n",
    "                continue\n",
    "            # Resize image\n",
    "            img_resized = cv2.resize(img, (IMG_SIZE, IMG_SIZE))\n",
    "            # Flatten image into a 1D vector\n",
    "            img_vector = img_resized.flatten()\n",
    "            image_paths.append(img_vector)\n",
    "            labels.append(class_name)\n",
    "        except Exception as e:\n",
    "            print(f\"    Error processing image {img_path}: {e}\")\n",
    "\n",
    "if not image_paths:\n",
    "    print(\"Error: No potato images were loaded successfully.\")\n",
    "    exit()\n",
    "\n",
    "print(f\"\\nLoaded {len(image_paths)} total potato images.\")\n"
   ]
  },
  {
   "cell_type": "code",
   "execution_count": 3,
   "id": "f4054c8b",
   "metadata": {},
   "outputs": [
    {
     "name": "stdout",
     "output_type": "stream",
     "text": [
      "\n",
      "Classes found: ['Potato___Early_blight' 'Potato___Late_blight' 'Potato___healthy']\n",
      "Data shape (X): (2152, 4096)\n",
      "Labels shape (y): (2152,)\n",
      "\n",
      "Training set size: 1614\n",
      "Testing set size: 538\n"
     ]
    }
   ],
   "source": [
    "\n",
    "# --- 2. Prepare Data ---\n",
    "X = np.array(image_paths)\n",
    "y_str = np.array(labels)\n",
    "\n",
    "# Normalize pixel values (0-255 -> 0-1)\n",
    "X = X / 255.0\n",
    "\n",
    "# Encode string labels to integers\n",
    "label_encoder = LabelEncoder()\n",
    "y = label_encoder.fit_transform(y_str)\n",
    "class_names = label_encoder.classes_\n",
    "print(f\"\\nClasses found: {class_names}\")\n",
    "print(f\"Data shape (X): {X.shape}\") # (num_images, img_size*img_size)\n",
    "print(f\"Labels shape (y): {y.shape}\")\n",
    "\n",
    "# Split data into Training and Testing sets\n",
    "X_train, X_test, y_train, y_test = train_test_split(\n",
    "    X, y, test_size=0.25, random_state=RANDOM_STATE, stratify=y # Stratify helps maintain class balance\n",
    ")\n",
    "\n",
    "print(f\"\\nTraining set size: {X_train.shape[0]}\")\n",
    "print(f\"Testing set size: {X_test.shape[0]}\")\n"
   ]
  },
  {
   "cell_type": "code",
   "execution_count": 4,
   "id": "e30b1b9b",
   "metadata": {},
   "outputs": [
    {
     "name": "stdout",
     "output_type": "stream",
     "text": [
      "\n",
      "Extracting ELM features with 1000 hidden units...\n",
      "ELM feature extraction completed in 1.62 seconds.\n",
      "Shape of ELM features (Train): (1614, 1000)\n",
      "Shape of ELM features (Test): (538, 1000)\n"
     ]
    }
   ],
   "source": [
    "\n",
    "# --- 3. ELM Feature Extraction ---\n",
    "\n",
    "# ELM core logic: Generate random weights/biases and compute hidden layer output\n",
    "def elm_hidden_output(X, n_hidden, input_weights=None, biases=None):\n",
    "    \"\"\"Calculates the output of the ELM hidden layer.\"\"\"\n",
    "    n_input_features = X.shape[1]\n",
    "    np.random.seed(RANDOM_STATE) # Ensure reproducibility for random weights\n",
    "\n",
    "    if input_weights is None:\n",
    "        input_weights = np.random.randn(n_input_features, n_hidden) * 0.1 # Smaller weights often work better\n",
    "    if biases is None:\n",
    "        biases = np.random.randn(n_hidden) * 0.1\n",
    "\n",
    "    # Calculate hidden layer activation (using ReLU activation function)\n",
    "    H = np.maximum(0, X @ input_weights + biases) # ReLU activation\n",
    "    # Alternatives: Sigmoid: 1 / (1 + np.exp(-(X @ input_weights + biases)))\n",
    "    return H, input_weights, biases\n",
    "\n",
    "print(f\"\\nExtracting ELM features with {N_HIDDEN_UNITS_ELM} hidden units...\")\n",
    "start_time_elm = time.time()\n",
    "\n",
    "# Fit ELM on training data (generate weights/biases)\n",
    "X_train_elm, elm_weights, elm_biases = elm_hidden_output(X_train, N_HIDDEN_UNITS_ELM)\n",
    "\n",
    "# Transform test data using the *same* weights and biases\n",
    "X_test_elm, _, _ = elm_hidden_output(X_test, N_HIDDEN_UNITS_ELM, elm_weights, elm_biases)\n",
    "\n",
    "elm_time = time.time() - start_time_elm\n",
    "print(f\"ELM feature extraction completed in {elm_time:.2f} seconds.\")\n",
    "print(f\"Shape of ELM features (Train): {X_train_elm.shape}\") # (num_train_images, n_hidden_units)\n",
    "print(f\"Shape of ELM features (Test): {X_test_elm.shape}\")   # (num_test_images, n_hidden_units)\n"
   ]
  },
  {
   "cell_type": "code",
   "execution_count": 5,
   "id": "8c362ae3",
   "metadata": {},
   "outputs": [
    {
     "name": "stdout",
     "output_type": "stream",
     "text": [
      "\n",
      "Scaling ELM features...\n",
      "\n",
      "Training SVM classifier...\n",
      "SVM training completed in 5.48 seconds.\n"
     ]
    }
   ],
   "source": [
    "\n",
    "# --- 4. Feature Scaling (Important for SVM) ---\n",
    "print(\"\\nScaling ELM features...\")\n",
    "scaler = StandardScaler()\n",
    "X_train_scaled = scaler.fit_transform(X_train_elm)\n",
    "X_test_scaled = scaler.transform(X_test_elm) # Use the same scaler fitted on training data\n",
    "\n",
    "# --- 5. SVM Classification ---\n",
    "print(\"\\nTraining SVM classifier...\")\n",
    "start_time_svm = time.time()\n",
    "\n",
    "# Initialize SVM Classifier (using Radial Basis Function kernel by default)\n",
    "# You can experiment with C and gamma parameters, or kernel='linear'\n",
    "svm_classifier = SVC(kernel='rbf', C=1.0, gamma='scale', random_state=RANDOM_STATE, probability=True) # probability=True for potential calibration later\n",
    "\n",
    "# Train the SVM model\n",
    "svm_classifier.fit(X_train_scaled, y_train)\n",
    "\n",
    "svm_time = time.time() - start_time_svm\n",
    "print(f\"SVM training completed in {svm_time:.2f} seconds.\")\n"
   ]
  },
  {
   "cell_type": "code",
   "execution_count": 6,
   "id": "0871d791",
   "metadata": {},
   "outputs": [
    {
     "name": "stdout",
     "output_type": "stream",
     "text": [
      "\n",
      "Evaluating SVM model on the test set...\n",
      "\n",
      "Accuracy: 0.8346\n",
      "\n",
      "Classification Report:\n",
      "                       precision    recall  f1-score   support\n",
      "\n",
      "Potato___Early_blight       0.85      0.93      0.89       250\n",
      " Potato___Late_blight       0.82      0.87      0.84       250\n",
      "     Potato___healthy       0.00      0.00      0.00        38\n",
      "\n",
      "             accuracy                           0.83       538\n",
      "            macro avg       0.56      0.60      0.58       538\n",
      "         weighted avg       0.78      0.83      0.80       538\n",
      "\n",
      "\n",
      "Confusion Matrix:\n",
      "[[232  18   0]\n",
      " [ 33 217   0]\n",
      " [  7  31   0]]\n"
     ]
    },
    {
     "name": "stderr",
     "output_type": "stream",
     "text": [
      "/Library/Frameworks/Python.framework/Versions/3.12/lib/python3.12/site-packages/sklearn/metrics/_classification.py:1565: UndefinedMetricWarning: Precision is ill-defined and being set to 0.0 in labels with no predicted samples. Use `zero_division` parameter to control this behavior.\n",
      "  _warn_prf(average, modifier, f\"{metric.capitalize()} is\", len(result))\n",
      "/Library/Frameworks/Python.framework/Versions/3.12/lib/python3.12/site-packages/sklearn/metrics/_classification.py:1565: UndefinedMetricWarning: Precision is ill-defined and being set to 0.0 in labels with no predicted samples. Use `zero_division` parameter to control this behavior.\n",
      "  _warn_prf(average, modifier, f\"{metric.capitalize()} is\", len(result))\n",
      "/Library/Frameworks/Python.framework/Versions/3.12/lib/python3.12/site-packages/sklearn/metrics/_classification.py:1565: UndefinedMetricWarning: Precision is ill-defined and being set to 0.0 in labels with no predicted samples. Use `zero_division` parameter to control this behavior.\n",
      "  _warn_prf(average, modifier, f\"{metric.capitalize()} is\", len(result))\n"
     ]
    },
    {
     "data": {
      "image/png": "[encoded data removed]",
      "text/plain": [
       "<Figure size 800x600 with 2 Axes>"
      ]
     },
     "metadata": {},
     "output_type": "display_data"
    },
    {
     "name": "stdout",
     "output_type": "stream",
     "text": [
      "\n",
      "--- Workflow Complete ---\n"
     ]
    }
   ],
   "source": [
    "\n",
    "# --- 6. Evaluation ---\n",
    "print(\"\\nEvaluating SVM model on the test set...\")\n",
    "\n",
    "# Predict on the test data\n",
    "y_pred = svm_classifier.predict(X_test_scaled)\n",
    "\n",
    "# Calculate accuracy\n",
    "accuracy = accuracy_score(y_test, y_pred)\n",
    "print(f\"\\nAccuracy: {accuracy:.4f}\")\n",
    "\n",
    "# Classification Report\n",
    "print(\"\\nClassification Report:\")\n",
    "print(classification_report(y_test, y_pred, target_names=class_names))\n",
    "\n",
    "# Confusion Matrix\n",
    "print(\"\\nConfusion Matrix:\")\n",
    "cm = confusion_matrix(y_test, y_pred)\n",
    "print(cm)\n",
    "\n",
    "# Plot Confusion Matrix\n",
    "plt.figure(figsize=(8, 6))\n",
    "sns.heatmap(cm, annot=True, fmt='d', cmap='Blues',\n",
    "            xticklabels=class_names, yticklabels=class_names)\n",
    "plt.xlabel('Predicted Label')\n",
    "plt.ylabel('True Label')\n",
    "plt.title('Confusion Matrix (ELM Features + SVM)')\n",
    "plt.xticks(rotation=45, ha='right')\n",
    "plt.yticks(rotation=0)\n",
    "plt.tight_layout()\n",
    "plt.show()\n",
    "\n",
    "print(\"\\n--- Workflow Complete ---\")\n"
   ]
  },
  {
   "cell_type": "code",
   "execution_count": null,
   "id": "e74abb89",
   "metadata": {},
   "outputs": [],
   "source": []
  }
 ],
 "metadata": {
  "kernelspec": {
   "display_name": "Python 3",
   "language": "python",
   "name": "python3"
  },
  "language_info": {
   "codemirror_mode": {
    "name": "ipython",
    "version": 3
   },
   "file_extension": ".py",
   "mimetype": "text/x-python",
   "name": "python",
   "nbconvert_exporter": "python",
   "pygments_lexer": "ipython3",
   "version": "3.12.8"
  }
 },
 "nbformat": 4,
 "nbformat_minor": 5
}
