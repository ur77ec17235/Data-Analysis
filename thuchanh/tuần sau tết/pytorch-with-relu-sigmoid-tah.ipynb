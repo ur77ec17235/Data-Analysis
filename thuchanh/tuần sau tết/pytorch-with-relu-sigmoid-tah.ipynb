{
 "cells": [
  {
   "cell_type": "markdown",
   "metadata": {
    "papermill": {
     "duration": 0.02778,
     "end_time": "2020-10-22T11:31:21.251028",
     "exception": false,
     "start_time": "2020-10-22T11:31:21.223248",
     "status": "completed"
    },
    "tags": []
   },
   "source": [
    "# Apply PyTorch on Fashion MNIST Using ReLU, Sigmoid, Tanh"
   ]
  },
  {
   "cell_type": "markdown",
   "metadata": {
    "papermill": {
     "duration": 0.025314,
     "end_time": "2020-10-22T11:31:21.303584",
     "exception": false,
     "start_time": "2020-10-22T11:31:21.278270",
     "status": "completed"
    },
    "tags": []
   },
   "source": [
    "<h3><center> <font color='maroon'> Upvote , if it helps you :-) </center></font> </h3>"
   ]
  },
  {
   "cell_type": "code",
   "execution_count": 4,
   "metadata": {
    "_cell_guid": "b1076dfc-b9ad-4769-8c92-a6c4dae69d19",
    "_uuid": "8f2839f25d086af736a60e9eeb907d3b93b6e0e5",
    "execution": {
     "iopub.execute_input": "2020-10-22T11:31:21.362673Z",
     "iopub.status.busy": "2020-10-22T11:31:21.361692Z",
     "iopub.status.idle": "2020-10-22T11:31:22.917372Z",
     "shell.execute_reply": "2020-10-22T11:31:22.918010Z"
    },
    "papermill": {
     "duration": 1.589392,
     "end_time": "2020-10-22T11:31:22.918225",
     "exception": false,
     "start_time": "2020-10-22T11:31:21.328833",
     "status": "completed"
    },
    "tags": []
   },
   "outputs": [],
   "source": [
    "import torch \n",
    "import torch.nn as nn\n",
    "import torchvision\n",
    "import torchvision.transforms as transforms\n",
    "import torchvision.datasets as dsets\n",
    "import torch.nn.functional as F\n",
    "import matplotlib.pylab as plt\n",
    "import numpy as np\n",
    "torch.manual_seed(2)\n",
    "\n",
    "import warnings\n",
    "warnings.filterwarnings('ignore')"
   ]
  },
  {
   "cell_type": "markdown",
   "metadata": {
    "papermill": {
     "duration": 0.025121,
     "end_time": "2020-10-22T11:31:22.969369",
     "exception": false,
     "start_time": "2020-10-22T11:31:22.944248",
     "status": "completed"
    },
    "tags": []
   },
   "source": [
    "# Neural Network Module and Training Function"
   ]
  },
  {
   "cell_type": "markdown",
   "metadata": {
    "papermill": {
     "duration": 0.031344,
     "end_time": "2020-10-22T11:31:23.029181",
     "exception": false,
     "start_time": "2020-10-22T11:31:22.997837",
     "status": "completed"
    },
    "tags": []
   },
   "source": [
    "# 1 - Class with Sigmoid"
   ]
  },
  {
   "cell_type": "code",
   "execution_count": 5,
   "metadata": {
    "execution": {
     "iopub.execute_input": "2020-10-22T11:31:23.103918Z",
     "iopub.status.busy": "2020-10-22T11:31:23.102350Z",
     "iopub.status.idle": "2020-10-22T11:31:23.108559Z",
     "shell.execute_reply": "2020-10-22T11:31:23.107834Z"
    },
    "papermill": {
     "duration": 0.0487,
     "end_time": "2020-10-22T11:31:23.109009",
     "exception": false,
     "start_time": "2020-10-22T11:31:23.060309",
     "status": "completed"
    },
    "tags": []
   },
   "outputs": [],
   "source": [
    "class Net(nn.Module):\n",
    "    \n",
    "    # Constructor\n",
    "    def __init__(self, D_in, H1, H2, D_out):\n",
    "        super(Net, self).__init__()\n",
    "        self.linear1 = nn.Linear(D_in, H1)\n",
    "        self.linear2 = nn.Linear(H1, H2)\n",
    "        self.linear3 = nn.Linear(H2, D_out)\n",
    "    \n",
    "    # Prediction\n",
    "    def forward(self,x):\n",
    "        x = torch.sigmoid(self.linear1(x)) \n",
    "        x = torch.sigmoid(self.linear2(x))\n",
    "        x = self.linear3(x)\n",
    "        return x"
   ]
  },
  {
   "cell_type": "markdown",
   "metadata": {
    "papermill": {
     "duration": 0.027512,
     "end_time": "2020-10-22T11:31:23.162836",
     "exception": false,
     "start_time": "2020-10-22T11:31:23.135324",
     "status": "completed"
    },
    "tags": []
   },
   "source": [
    "# 2 - Class with the Tanh"
   ]
  },
  {
   "cell_type": "code",
   "execution_count": 6,
   "metadata": {
    "execution": {
     "iopub.execute_input": "2020-10-22T11:31:23.230701Z",
     "iopub.status.busy": "2020-10-22T11:31:23.229881Z",
     "iopub.status.idle": "2020-10-22T11:31:23.234672Z",
     "shell.execute_reply": "2020-10-22T11:31:23.233843Z"
    },
    "papermill": {
     "duration": 0.044469,
     "end_time": "2020-10-22T11:31:23.234808",
     "exception": false,
     "start_time": "2020-10-22T11:31:23.190339",
     "status": "completed"
    },
    "tags": []
   },
   "outputs": [],
   "source": [
    "class NetTanh(nn.Module):\n",
    "    \n",
    "    # Constructor\n",
    "    def __init__(self, D_in, H1, H2, D_out):\n",
    "        super(NetTanh, self).__init__()\n",
    "        self.linear1 = nn.Linear(D_in, H1)\n",
    "        self.linear2 = nn.Linear(H1, H2)\n",
    "        self.linear3 = nn.Linear(H2, D_out)\n",
    "    \n",
    "    # Prediction\n",
    "    def forward(self, x):\n",
    "        x = torch.tanh(self.linear1(x))\n",
    "        x = torch.tanh(self.linear2(x))\n",
    "        x = self.linear3(x)\n",
    "        return x"
   ]
  },
  {
   "cell_type": "markdown",
   "metadata": {
    "papermill": {
     "duration": 0.026836,
     "end_time": "2020-10-22T11:31:23.289920",
     "exception": false,
     "start_time": "2020-10-22T11:31:23.263084",
     "status": "completed"
    },
    "tags": []
   },
   "source": [
    "# 3 - Class with ReLU"
   ]
  },
  {
   "cell_type": "code",
   "execution_count": 7,
   "metadata": {
    "execution": {
     "iopub.execute_input": "2020-10-22T11:31:23.356577Z",
     "iopub.status.busy": "2020-10-22T11:31:23.355392Z",
     "iopub.status.idle": "2020-10-22T11:31:23.359167Z",
     "shell.execute_reply": "2020-10-22T11:31:23.358404Z"
    },
    "papermill": {
     "duration": 0.041803,
     "end_time": "2020-10-22T11:31:23.359295",
     "exception": false,
     "start_time": "2020-10-22T11:31:23.317492",
     "status": "completed"
    },
    "tags": []
   },
   "outputs": [],
   "source": [
    "class NetRelu(nn.Module):\n",
    "    \n",
    "    # Constructor\n",
    "    def __init__(self, D_in, H1, H2, D_out):\n",
    "        super(NetRelu, self).__init__()\n",
    "        self.linear1 = nn.Linear(D_in, H1)\n",
    "        self.linear2 = nn.Linear(H1, H2)\n",
    "        self.linear3 = nn.Linear(H2, D_out)\n",
    "    \n",
    "    # Prediction\n",
    "    def forward(self, x):\n",
    "        x = torch.relu(self.linear1(x))  \n",
    "        x = torch.relu(self.linear2(x))\n",
    "        x = self.linear3(x)\n",
    "        return x"
   ]
  },
  {
   "cell_type": "markdown",
   "metadata": {
    "papermill": {
     "duration": 0.026439,
     "end_time": "2020-10-22T11:31:23.413095",
     "exception": false,
     "start_time": "2020-10-22T11:31:23.386656",
     "status": "completed"
    },
    "tags": []
   },
   "source": [
    "Define a function to train the model, in this case the function returns a Python dictionary to store the training loss and accuracy on the validation data"
   ]
  },
  {
   "cell_type": "code",
   "execution_count": 8,
   "metadata": {
    "execution": {
     "iopub.execute_input": "2020-10-22T11:31:23.486449Z",
     "iopub.status.busy": "2020-10-22T11:31:23.482607Z",
     "iopub.status.idle": "2020-10-22T11:31:23.491836Z",
     "shell.execute_reply": "2020-10-22T11:31:23.490767Z"
    },
    "papermill": {
     "duration": 0.052013,
     "end_time": "2020-10-22T11:31:23.492029",
     "exception": false,
     "start_time": "2020-10-22T11:31:23.440016",
     "status": "completed"
    },
    "tags": []
   },
   "outputs": [],
   "source": [
    "def train(model, criterion, train_loader, validation_loader, optimizer, epochs=100):\n",
    "    i = 0\n",
    "    useful_stuff = {'training_loss': [], 'validation_accuracy': []}  \n",
    "    \n",
    "    for epoch in range(epochs):\n",
    "        for i, (x, y) in enumerate(train_loader):\n",
    "            optimizer.zero_grad()\n",
    "            z = model(x.view(-1, 28 * 28))\n",
    "            loss = criterion(z, y)\n",
    "            loss.backward()\n",
    "            optimizer.step()\n",
    "            useful_stuff['training_loss'].append(loss.data.item())\n",
    "        \n",
    "        correct = 0\n",
    "        for x, y in validation_loader:\n",
    "            z = model(x.view(-1, 28 * 28))\n",
    "            _, label = torch.max(z, 1)\n",
    "            correct += (label == y).sum().item()\n",
    "    \n",
    "        accuracy = 100 * (correct / len(validation_loader))\n",
    "        useful_stuff['validation_accuracy'].append(accuracy)\n",
    "    \n",
    "    return useful_stuff"
   ]
  },
  {
   "cell_type": "markdown",
   "metadata": {
    "papermill": {
     "duration": 0.033122,
     "end_time": "2020-10-22T11:31:23.566656",
     "exception": false,
     "start_time": "2020-10-22T11:31:23.533534",
     "status": "completed"
    },
    "tags": []
   },
   "source": [
    "Load the training dataset by setting the parameters train to True and convert it to a tensor by placing a transform object int the argument transform"
   ]
  },
  {
   "cell_type": "code",
   "execution_count": 9,
   "metadata": {
    "execution": {
     "iopub.execute_input": "2020-10-22T11:31:23.644787Z",
     "iopub.status.busy": "2020-10-22T11:31:23.643902Z",
     "iopub.status.idle": "2020-10-22T11:31:29.683838Z",
     "shell.execute_reply": "2020-10-22T11:31:29.684450Z"
    },
    "papermill": {
     "duration": 6.080086,
     "end_time": "2020-10-22T11:31:29.684733",
     "exception": false,
     "start_time": "2020-10-22T11:31:23.604647",
     "status": "completed"
    },
    "tags": []
   },
   "outputs": [
    {
     "name": "stdout",
     "output_type": "stream",
     "text": [
      "Downloading http://fashion-mnist.s3-website.eu-central-1.amazonaws.com/train-images-idx3-ubyte.gz\n",
      "Downloading http://fashion-mnist.s3-website.eu-central-1.amazonaws.com/train-images-idx3-ubyte.gz to ./data/FashionMNIST/raw/train-images-idx3-ubyte.gz\n"
     ]
    },
    {
     "name": "stderr",
     "output_type": "stream",
     "text": [
      "100%|██████████| 26.4M/26.4M [00:03<00:00, 7.58MB/s]\n"
     ]
    },
    {
     "name": "stdout",
     "output_type": "stream",
     "text": [
      "Extracting ./data/FashionMNIST/raw/train-images-idx3-ubyte.gz to ./data/FashionMNIST/raw\n",
      "\n",
      "Downloading http://fashion-mnist.s3-website.eu-central-1.amazonaws.com/train-labels-idx1-ubyte.gz\n",
      "Downloading http://fashion-mnist.s3-website.eu-central-1.amazonaws.com/train-labels-idx1-ubyte.gz to ./data/FashionMNIST/raw/train-labels-idx1-ubyte.gz\n"
     ]
    },
    {
     "name": "stderr",
     "output_type": "stream",
     "text": [
      "100%|██████████| 29.5k/29.5k [00:00<00:00, 132kB/s]\n"
     ]
    },
    {
     "name": "stdout",
     "output_type": "stream",
     "text": [
      "Extracting ./data/FashionMNIST/raw/train-labels-idx1-ubyte.gz to ./data/FashionMNIST/raw\n",
      "\n",
      "Downloading http://fashion-mnist.s3-website.eu-central-1.amazonaws.com/t10k-images-idx3-ubyte.gz\n",
      "Downloading http://fashion-mnist.s3-website.eu-central-1.amazonaws.com/t10k-images-idx3-ubyte.gz to ./data/FashionMNIST/raw/t10k-images-idx3-ubyte.gz\n"
     ]
    },
    {
     "name": "stderr",
     "output_type": "stream",
     "text": [
      "100%|██████████| 4.42M/4.42M [00:01<00:00, 2.37MB/s]\n"
     ]
    },
    {
     "name": "stdout",
     "output_type": "stream",
     "text": [
      "Extracting ./data/FashionMNIST/raw/t10k-images-idx3-ubyte.gz to ./data/FashionMNIST/raw\n",
      "\n",
      "Downloading http://fashion-mnist.s3-website.eu-central-1.amazonaws.com/t10k-labels-idx1-ubyte.gz\n",
      "Downloading http://fashion-mnist.s3-website.eu-central-1.amazonaws.com/t10k-labels-idx1-ubyte.gz to ./data/FashionMNIST/raw/t10k-labels-idx1-ubyte.gz\n"
     ]
    },
    {
     "name": "stderr",
     "output_type": "stream",
     "text": [
      "100%|██████████| 5.15k/5.15k [00:00<00:00, 26.4MB/s]"
     ]
    },
    {
     "name": "stdout",
     "output_type": "stream",
     "text": [
      "Extracting ./data/FashionMNIST/raw/t10k-labels-idx1-ubyte.gz to ./data/FashionMNIST/raw\n",
      "\n"
     ]
    },
    {
     "name": "stderr",
     "output_type": "stream",
     "text": [
      "\n"
     ]
    }
   ],
   "source": [
    "train_set = torchvision.datasets.FashionMNIST(\"./data\", download=True, transform=\n",
    "                                                transforms.Compose([transforms.ToTensor()]))\n",
    "test_set = torchvision.datasets.FashionMNIST(\"./data\", download=True, train=False, transform=\n",
    "                                               transforms.Compose([transforms.ToTensor()]))"
   ]
  },
  {
   "cell_type": "markdown",
   "metadata": {
    "papermill": {
     "duration": 0.03145,
     "end_time": "2020-10-22T11:31:29.749011",
     "exception": false,
     "start_time": "2020-10-22T11:31:29.717561",
     "status": "completed"
    },
    "tags": []
   },
   "source": [
    "Load the testing dataset by setting the parameters train to False and convert it to a tensor by placing a transform object int the argument transform"
   ]
  },
  {
   "cell_type": "code",
   "execution_count": 10,
   "metadata": {
    "execution": {
     "iopub.execute_input": "2020-10-22T11:31:29.819950Z",
     "iopub.status.busy": "2020-10-22T11:31:29.818981Z",
     "iopub.status.idle": "2020-10-22T11:31:29.822177Z",
     "shell.execute_reply": "2020-10-22T11:31:29.822794Z"
    },
    "papermill": {
     "duration": 0.042022,
     "end_time": "2020-10-22T11:31:29.822974",
     "exception": false,
     "start_time": "2020-10-22T11:31:29.780952",
     "status": "completed"
    },
    "tags": []
   },
   "outputs": [],
   "source": [
    "train_loader = torch.utils.data.DataLoader(train_set, batch_size=100)\n",
    "validation_loader = torch.utils.data.DataLoader(test_set, batch_size=100)"
   ]
  },
  {
   "cell_type": "code",
   "execution_count": 11,
   "metadata": {
    "execution": {
     "iopub.execute_input": "2020-10-22T11:31:29.897315Z",
     "iopub.status.busy": "2020-10-22T11:31:29.896324Z",
     "iopub.status.idle": "2020-10-22T11:31:29.899588Z",
     "shell.execute_reply": "2020-10-22T11:31:29.898856Z"
    },
    "papermill": {
     "duration": 0.044002,
     "end_time": "2020-10-22T11:31:29.899729",
     "exception": false,
     "start_time": "2020-10-22T11:31:29.855727",
     "status": "completed"
    },
    "tags": []
   },
   "outputs": [],
   "source": [
    "def output_label(label):\n",
    "    output_mapping = {\n",
    "                 0: \"T-shirt/Top\",\n",
    "                 1: \"Trouser\",\n",
    "                 2: \"Pullover\",\n",
    "                 3: \"Dress\",\n",
    "                 4: \"Coat\", \n",
    "                 5: \"Sandal\", \n",
    "                 6: \"Shirt\",\n",
    "                 7: \"Sneaker\",\n",
    "                 8: \"Bag\",\n",
    "                 9: \"Ankle Boot\"\n",
    "                 }\n",
    "    input = (label.item() if type(label) == torch.Tensor else label)\n",
    "    return output_mapping[input]"
   ]
  },
  {
   "cell_type": "code",
   "execution_count": 12,
   "metadata": {
    "execution": {
     "iopub.execute_input": "2020-10-22T11:31:29.974321Z",
     "iopub.status.busy": "2020-10-22T11:31:29.973395Z",
     "iopub.status.idle": "2020-10-22T11:31:30.032740Z",
     "shell.execute_reply": "2020-10-22T11:31:30.033374Z"
    },
    "papermill": {
     "duration": 0.10156,
     "end_time": "2020-10-22T11:31:30.033627",
     "exception": false,
     "start_time": "2020-10-22T11:31:29.932067",
     "status": "completed"
    },
    "tags": []
   },
   "outputs": [
    {
     "data": {
      "text/plain": [
       "torch.Size([100, 1, 28, 28])"
      ]
     },
     "execution_count": 12,
     "metadata": {},
     "output_type": "execute_result"
    }
   ],
   "source": [
    "a = next(iter(train_loader))\n",
    "a[0].size()"
   ]
  },
  {
   "cell_type": "code",
   "execution_count": 13,
   "metadata": {
    "execution": {
     "iopub.execute_input": "2020-10-22T11:31:30.109162Z",
     "iopub.status.busy": "2020-10-22T11:31:30.108160Z",
     "iopub.status.idle": "2020-10-22T11:31:30.113172Z",
     "shell.execute_reply": "2020-10-22T11:31:30.113730Z"
    },
    "papermill": {
     "duration": 0.046104,
     "end_time": "2020-10-22T11:31:30.113900",
     "exception": false,
     "start_time": "2020-10-22T11:31:30.067796",
     "status": "completed"
    },
    "tags": []
   },
   "outputs": [
    {
     "data": {
      "text/plain": [
       "60000"
      ]
     },
     "execution_count": 13,
     "metadata": {},
     "output_type": "execute_result"
    }
   ],
   "source": [
    "len(train_set)"
   ]
  },
  {
   "cell_type": "code",
   "execution_count": 14,
   "metadata": {
    "execution": {
     "iopub.execute_input": "2020-10-22T11:31:30.189600Z",
     "iopub.status.busy": "2020-10-22T11:31:30.188735Z",
     "iopub.status.idle": "2020-10-22T11:31:30.418925Z",
     "shell.execute_reply": "2020-10-22T11:31:30.418060Z"
    },
    "papermill": {
     "duration": 0.270972,
     "end_time": "2020-10-22T11:31:30.419087",
     "exception": false,
     "start_time": "2020-10-22T11:31:30.148115",
     "status": "completed"
    },
    "tags": []
   },
   "outputs": [
    {
     "name": "stdout",
     "output_type": "stream",
     "text": [
      "9\n"
     ]
    },
    {
     "data": {
      "image/png": "[encoded data removed]",
      "text/plain": [
       "<Figure size 640x480 with 1 Axes>"
      ]
     },
     "metadata": {},
     "output_type": "display_data"
    }
   ],
   "source": [
    "image, label = next(iter(train_set))\n",
    "plt.imshow(image.squeeze(), cmap=\"gray\")\n",
    "print(label)"
   ]
  },
  {
   "cell_type": "code",
   "execution_count": 15,
   "metadata": {
    "execution": {
     "iopub.execute_input": "2020-10-22T11:31:30.499312Z",
     "iopub.status.busy": "2020-10-22T11:31:30.498322Z",
     "iopub.status.idle": "2020-10-22T11:31:30.509265Z",
     "shell.execute_reply": "2020-10-22T11:31:30.508292Z"
    },
    "papermill": {
     "duration": 0.054078,
     "end_time": "2020-10-22T11:31:30.509416",
     "exception": false,
     "start_time": "2020-10-22T11:31:30.455338",
     "status": "completed"
    },
    "tags": []
   },
   "outputs": [
    {
     "name": "stdout",
     "output_type": "stream",
     "text": [
      "<class 'torch.Tensor'> <class 'torch.Tensor'>\n",
      "torch.Size([10, 1, 28, 28]) torch.Size([10])\n"
     ]
    }
   ],
   "source": [
    "demo_loader = torch.utils.data.DataLoader(train_set, batch_size=10)\n",
    "\n",
    "batch = next(iter(demo_loader))\n",
    "images, labels = batch\n",
    "print(type(images), type(labels))\n",
    "print(images.shape, labels.shape)"
   ]
  },
  {
   "cell_type": "code",
   "execution_count": 16,
   "metadata": {
    "execution": {
     "iopub.execute_input": "2020-10-22T11:31:30.595156Z",
     "iopub.status.busy": "2020-10-22T11:31:30.594323Z",
     "iopub.status.idle": "2020-10-22T11:31:30.808530Z",
     "shell.execute_reply": "2020-10-22T11:31:30.807771Z"
    },
    "papermill": {
     "duration": 0.26235,
     "end_time": "2020-10-22T11:31:30.808667",
     "exception": false,
     "start_time": "2020-10-22T11:31:30.546317",
     "status": "completed"
    },
    "tags": []
   },
   "outputs": [
    {
     "name": "stdout",
     "output_type": "stream",
     "text": [
      "labels:  Ankle Boot, T-shirt/Top, T-shirt/Top, Dress, T-shirt/Top, Pullover, Sneaker, Pullover, Sandal, Sandal, "
     ]
    },
    {
     "data": {
      "image/png": "[encoded data removed]",
      "text/plain": [
       "<Figure size 1500x2000 with 1 Axes>"
      ]
     },
     "metadata": {},
     "output_type": "display_data"
    }
   ],
   "source": [
    "grid = torchvision.utils.make_grid(images, nrow=10)\n",
    "\n",
    "plt.figure(figsize=(15, 20))\n",
    "plt.imshow(np.transpose(grid, (1, 2, 0)))\n",
    "print(\"labels: \", end=\" \")\n",
    "for i, label in enumerate(labels):\n",
    "    print(output_label(label), end=\", \")"
   ]
  },
  {
   "cell_type": "code",
   "execution_count": 17,
   "metadata": {
    "execution": {
     "iopub.execute_input": "2020-10-22T11:31:30.891586Z",
     "iopub.status.busy": "2020-10-22T11:31:30.890730Z",
     "iopub.status.idle": "2020-10-22T11:31:30.893979Z",
     "shell.execute_reply": "2020-10-22T11:31:30.893181Z"
    },
    "papermill": {
     "duration": 0.046757,
     "end_time": "2020-10-22T11:31:30.894117",
     "exception": false,
     "start_time": "2020-10-22T11:31:30.847360",
     "status": "completed"
    },
    "tags": []
   },
   "outputs": [],
   "source": [
    "criterion = nn.CrossEntropyLoss()"
   ]
  },
  {
   "cell_type": "markdown",
   "metadata": {
    "papermill": {
     "duration": 0.038454,
     "end_time": "2020-10-22T11:31:30.970994",
     "exception": false,
     "start_time": "2020-10-22T11:31:30.932540",
     "status": "completed"
    },
    "tags": []
   },
   "source": [
    "# Define Neural Network, Criterion function, Optimizer and Train the Model"
   ]
  },
  {
   "cell_type": "code",
   "execution_count": 18,
   "metadata": {
    "execution": {
     "iopub.execute_input": "2020-10-22T11:31:31.068757Z",
     "iopub.status.busy": "2020-10-22T11:31:31.067809Z",
     "iopub.status.idle": "2020-10-22T11:31:31.072109Z",
     "shell.execute_reply": "2020-10-22T11:31:31.071289Z"
    },
    "papermill": {
     "duration": 0.057834,
     "end_time": "2020-10-22T11:31:31.072250",
     "exception": false,
     "start_time": "2020-10-22T11:31:31.014416",
     "status": "completed"
    },
    "tags": []
   },
   "outputs": [],
   "source": [
    "input_dim = 28 * 28\n",
    "hidden_dim1 = 50\n",
    "hidden_dim2 = 50\n",
    "output_dim = 10"
   ]
  },
  {
   "cell_type": "code",
   "execution_count": 19,
   "metadata": {
    "execution": {
     "iopub.execute_input": "2020-10-22T11:31:31.157620Z",
     "iopub.status.busy": "2020-10-22T11:31:31.156564Z",
     "iopub.status.idle": "2020-10-22T11:31:31.160373Z",
     "shell.execute_reply": "2020-10-22T11:31:31.159762Z"
    },
    "papermill": {
     "duration": 0.048001,
     "end_time": "2020-10-22T11:31:31.160537",
     "exception": false,
     "start_time": "2020-10-22T11:31:31.112536",
     "status": "completed"
    },
    "tags": []
   },
   "outputs": [],
   "source": [
    "cust_epochs = 10"
   ]
  },
  {
   "cell_type": "markdown",
   "metadata": {
    "papermill": {
     "duration": 0.038133,
     "end_time": "2020-10-22T11:31:31.237582",
     "exception": false,
     "start_time": "2020-10-22T11:31:31.199449",
     "status": "completed"
    },
    "tags": []
   },
   "source": [
    "# Training for Sigmoid Function"
   ]
  },
  {
   "cell_type": "code",
   "execution_count": 20,
   "metadata": {
    "execution": {
     "iopub.execute_input": "2020-10-22T11:31:31.324198Z",
     "iopub.status.busy": "2020-10-22T11:31:31.323359Z",
     "iopub.status.idle": "2020-10-22T11:32:42.799896Z",
     "shell.execute_reply": "2020-10-22T11:32:42.799069Z"
    },
    "papermill": {
     "duration": 71.522887,
     "end_time": "2020-10-22T11:32:42.800030",
     "exception": false,
     "start_time": "2020-10-22T11:31:31.277143",
     "status": "completed"
    },
    "tags": []
   },
   "outputs": [],
   "source": [
    "learning_rate = 0.01\n",
    "model = Net(input_dim, hidden_dim1, hidden_dim2, output_dim)\n",
    "optimizer = torch.optim.SGD(model.parameters(), lr=learning_rate)\n",
    "training_results = train(model, criterion, train_loader, validation_loader, optimizer, epochs=cust_epochs)"
   ]
  },
  {
   "cell_type": "code",
   "execution_count": 21,
   "metadata": {
    "execution": {
     "iopub.execute_input": "2020-10-22T11:32:42.889004Z",
     "iopub.status.busy": "2020-10-22T11:32:42.887846Z",
     "iopub.status.idle": "2020-10-22T11:32:42.905639Z",
     "shell.execute_reply": "2020-10-22T11:32:42.906641Z"
    },
    "papermill": {
     "duration": 0.067772,
     "end_time": "2020-10-22T11:32:42.906886",
     "exception": false,
     "start_time": "2020-10-22T11:32:42.839114",
     "status": "completed"
    },
    "tags": []
   },
   "outputs": [
    {
     "name": "stdout",
     "output_type": "stream",
     "text": [
      "{'training_loss': [2.2856931686401367, 2.3531198501586914, 2.3126060962677, 2.332918882369995, 2.323221445083618, 2.315739393234253, 2.346623182296753, 2.330744981765747, 2.3099260330200195, 2.3173160552978516, 2.293764114379883, 2.3168158531188965, 2.2999556064605713, 2.3167755603790283, 2.2974727153778076, 2.3077945709228516, 2.314868211746216, 2.3055853843688965, 2.3021039962768555, 2.311814785003662, 2.3177597522735596, 2.2921581268310547, 2.33575701713562, 2.293968915939331, 2.3013737201690674, 2.3173792362213135, 2.322148323059082, 2.3168070316314697, 2.306607723236084, 2.3058841228485107, 2.2913644313812256, 2.3077945709228516, 2.298543930053711, 2.322174549102783, 2.3030147552490234, 2.302851915359497, 2.3191378116607666, 2.3010239601135254, 2.3167853355407715, 2.293464422225952, 2.308589220046997, 2.317986249923706, 2.314570188522339, 2.305392026901245, 2.2964813709259033, 2.3199195861816406, 2.2936272621154785, 2.3055901527404785, 2.308201789855957, 2.295849561691284, 2.2939629554748535, 2.2903473377227783, 2.322016954421997, 2.296750068664551, 2.291388511657715, 2.319654703140259, 2.3104121685028076, 2.3265678882598877, 2.288053035736084, 2.3103079795837402, 2.2987141609191895, 2.3005807399749756, 2.305661201477051, 2.3065268993377686, 2.301450729370117, 2.3023786544799805, 2.3068463802337646, 2.2902541160583496, 2.301535129547119, 2.298882007598877, 2.3210766315460205, 2.2965505123138428, 2.3145077228546143, 2.3097569942474365, 2.2964959144592285, 2.298635959625244, 2.308401346206665, 2.313951253890991, 2.306152582168579, 2.3054540157318115, 2.307718276977539, 2.3047637939453125, 2.3045859336853027, 2.3025739192962646, 2.304020881652832, 2.3048319816589355, 2.315352201461792, 2.3007619380950928, 2.3097031116485596, 2.304795265197754, 2.3014845848083496, 2.2978734970092773, 2.3020479679107666, 2.3112854957580566, 2.2997350692749023, 2.300495147705078, 2.3075716495513916, 2.3064846992492676, 2.2950081825256348, 2.29451847076416, 2.296005964279175, 2.2966506481170654, 2.3023366928100586, 2.30070424079895, 2.302140235900879, 2.2994377613067627, 2.302870273590088, 2.296841621398926, 2.3069400787353516, 2.3070249557495117, 2.3039193153381348, 2.305290937423706, 2.3057658672332764, 2.3003485202789307, 2.3021836280822754, 2.3006904125213623, 2.2948782444000244, 2.3093934059143066, 2.299783229827881, 2.2993180751800537, 2.2982544898986816, 2.2980806827545166, 2.3070151805877686, 2.3034088611602783, 2.3028337955474854, 2.3071305751800537, 2.3046021461486816, 2.30356502532959, 2.298034906387329, 2.3007123470306396, 2.3002243041992188, 2.302497386932373, 2.304539442062378, 2.3106212615966797, 2.301934003829956, 2.3046467304229736, 2.2944602966308594, 2.3090033531188965, 2.2989046573638916, 2.3017826080322266, 2.3002469539642334, 2.2952632904052734, 2.3083488941192627, 2.304520845413208, 2.298851728439331, 2.3021347522735596, 2.3032476902008057, 2.305931329727173, 2.299614906311035, 2.300670862197876, 2.297290086746216, 2.3020715713500977, 2.2984869480133057, 2.3020269870758057, 2.2996487617492676, 2.3000071048736572, 2.2973456382751465, 2.303666114807129, 2.303224563598633, 2.3108370304107666, 2.3074545860290527, 2.2989723682403564, 2.301680564880371, 2.299795150756836, 2.301964521408081, 2.296388626098633, 2.301340341567993, 2.3004605770111084, 2.3008241653442383, 2.3093864917755127, 2.3000621795654297, 2.3020875453948975, 2.2990005016326904, 2.3028924465179443, 2.300112247467041, 2.301229476928711, 2.300164222717285, 2.3018054962158203, 2.3022937774658203, 2.2982492446899414, 2.2967369556427, 2.3052945137023926, 2.3024959564208984, 2.3013131618499756, 2.298758029937744, 2.298344850540161, 2.2960715293884277, 2.301743984222412, 2.3019232749938965, 2.2976577281951904, 2.302367687225342, 2.3063790798187256, 2.303001642227173, 2.301011800765991, 2.3012070655822754, 2.3000125885009766, 2.2994611263275146, 2.3045835494995117, 2.30075740814209, 2.3008062839508057, 2.3005123138427734, 2.300463914871216, 2.2996833324432373, 2.2980754375457764, 2.29872989654541, 2.304800033569336, 2.3021786212921143, 2.3010365962982178, 2.2984938621520996, 2.302701234817505, 2.300034523010254, 2.301257848739624, 2.3013558387756348, 2.299407720565796, 2.3008203506469727, 2.303536891937256, 2.3008522987365723, 2.302432060241699, 2.301161289215088, 2.29941987991333, 2.2986037731170654, 2.2988691329956055, 2.298208475112915, 2.3005123138427734, 2.300122022628784, 2.3005385398864746, 2.299838066101074, 2.298901319503784, 2.3003501892089844, 2.2998600006103516, 2.3017995357513428, 2.2972137928009033, 2.3005247116088867, 2.302700996398926, 2.30629563331604, 2.2995269298553467, 2.2985503673553467, 2.298496723175049, 2.3020119667053223, 2.2970778942108154, 2.2978639602661133, 2.308178186416626, 2.297903299331665, 2.2964580059051514, 2.299469232559204, 2.2982850074768066, 2.305222988128662, 2.3010168075561523, 2.303778886795044, 2.3038692474365234, 2.3004257678985596, 2.3041298389434814, 2.298250913619995, 2.3027524948120117, 2.301091194152832, 2.3032686710357666, 2.300419330596924, 2.3006751537323, 2.297760248184204, 2.3008832931518555, 2.300328254699707, 2.2990942001342773, 2.2991533279418945, 2.3029661178588867, 2.30203914642334, 2.299807071685791, 2.300640106201172, 2.3002071380615234, 2.3029818534851074, 2.298335313796997, 2.3003716468811035, 2.3006606101989746, 2.3022921085357666, 2.2993977069854736, 2.30057954788208, 2.3001439571380615, 2.3003358840942383, 2.299124240875244, 2.3001585006713867, 2.2990450859069824, 2.3014512062072754, 2.2989652156829834, 2.301624059677124, 2.2994093894958496, 2.2998342514038086, 2.3001346588134766, 2.296576499938965, 2.2996299266815186, 2.300947666168213, 2.3015599250793457, 2.2994885444641113, 2.300682783126831, 2.301389217376709, 2.301131010055542, 2.2977590560913086, 2.2984158992767334, 2.29819393157959, 2.2998855113983154, 2.299424171447754, 2.299130916595459, 2.300009250640869, 2.3010358810424805, 2.3011438846588135, 2.300478935241699, 2.2980709075927734, 2.2977962493896484, 2.300837516784668, 2.2998642921447754, 2.2983055114746094, 2.2961838245391846, 2.2972376346588135, 2.29833984375, 2.2972497940063477, 2.2998578548431396, 2.297895908355713, 2.2987349033355713, 2.302330255508423, 2.3028922080993652, 2.302516222000122, 2.2954282760620117, 2.300189733505249, 2.2978758811950684, 2.3003275394439697, 2.2982687950134277, 2.30098819732666, 2.2995762825012207, 2.3040196895599365, 2.298985481262207, 2.3001394271850586, 2.3033244609832764, 2.297945499420166, 2.3005149364471436, 2.297905921936035, 2.3008108139038086, 2.300302505493164, 2.299578905105591, 2.298214912414551, 2.299196243286133, 2.2960305213928223, 2.2973432540893555, 2.3034446239471436, 2.300873279571533, 2.3025457859039307, 2.2986886501312256, 2.2990686893463135, 2.2995285987854004, 2.3004307746887207, 2.2994308471679688, 2.3001766204833984, 2.3012354373931885, 2.3025529384613037, 2.299494504928589, 2.295750617980957, 2.296274185180664, 2.2995855808258057, 2.300316095352173, 2.2984423637390137, 2.2986550331115723, 2.300684928894043, 2.29693341255188, 2.2970497608184814, 2.3002920150756836, 2.299633741378784, 2.3008320331573486, 2.299320936203003, 2.2982852458953857, 2.3002841472625732, 2.2991349697113037, 2.298445701599121, 2.299835443496704, 2.299588918685913, 2.3012540340423584, 2.2965238094329834, 2.3006534576416016, 2.2977025508880615, 2.298297166824341, 2.298971652984619, 2.2983410358428955, 2.301044464111328, 2.2969391345977783, 2.3021318912506104, 2.300757884979248, 2.2959396839141846, 2.2993972301483154, 2.2985007762908936, 2.2978057861328125, 2.295884847640991, 2.303823471069336, 2.2986655235290527, 2.300354242324829, 2.299910068511963, 2.2979094982147217, 2.299304485321045, 2.301375389099121, 2.2969086170196533, 2.3009536266326904, 2.298942804336548, 2.2982964515686035, 2.2981414794921875, 2.294494390487671, 2.2958245277404785, 2.300624370574951, 2.3003923892974854, 2.2990312576293945, 2.2933096885681152, 2.2992193698883057, 2.295931816101074, 2.3008384704589844, 2.295942783355713, 2.2949962615966797, 2.2987942695617676, 2.30092453956604, 2.2989323139190674, 2.3028714656829834, 2.2995765209198, 2.295912027359009, 2.2994275093078613, 2.2976574897766113, 2.296522855758667, 2.2924726009368896, 2.3036394119262695, 2.3011085987091064, 2.297165870666504, 2.299842596054077, 2.296856164932251, 2.2945594787597656, 2.302633285522461, 2.30181884765625, 2.29952073097229, 2.3039941787719727, 2.3040785789489746, 2.297445058822632, 2.2977499961853027, 2.295585870742798, 2.2993996143341064, 2.2968552112579346, 2.3005993366241455, 2.2951555252075195, 2.297548532485962, 2.2959342002868652, 2.2981150150299072, 2.302384614944458, 2.297511577606201, 2.298548460006714, 2.3010008335113525, 2.300280809402466, 2.298447608947754, 2.301614761352539, 2.298285722732544, 2.300339698791504, 2.299203872680664, 2.2997961044311523, 2.299654960632324, 2.2981064319610596, 2.298933982849121, 2.2998971939086914, 2.2981975078582764, 2.296612501144409, 2.2976715564727783, 2.2992889881134033, 2.296335458755493, 2.298353672027588, 2.29703950881958, 2.2976489067077637, 2.299160957336426, 2.2993695735931396, 2.296029567718506, 2.3035619258880615, 2.297849178314209, 2.2984752655029297, 2.297584056854248, 2.2996106147766113, 2.297558546066284, 2.299661159515381, 2.2975118160247803, 2.300935745239258, 2.2957544326782227, 2.297168493270874, 2.2988948822021484, 2.2972028255462646, 2.2957780361175537, 2.2992146015167236, 2.2961599826812744, 2.2989964485168457, 2.2937941551208496, 2.2973434925079346, 2.2979490756988525, 2.2942111492156982, 2.2980520725250244, 2.2978484630584717, 2.295999050140381, 2.2999517917633057, 2.295236587524414, 2.2985239028930664, 2.2959144115448, 2.295405387878418, 2.291433572769165, 2.2947168350219727, 2.3004868030548096, 2.297800064086914, 2.2973153591156006, 2.298492193222046, 2.2979202270507812, 2.2967233657836914, 2.2969751358032227, 2.296649932861328, 2.2960925102233887, 2.2936811447143555, 2.2994046211242676, 2.296278953552246, 2.2972559928894043, 2.298011541366577, 2.2997069358825684, 2.293382167816162, 2.303687334060669, 2.3044588565826416, 2.298586130142212, 2.2974905967712402, 2.2959792613983154, 2.3022704124450684, 2.2974612712860107, 2.297497034072876, 2.2970333099365234, 2.2993621826171875, 2.29557466506958, 2.2976059913635254, 2.298518657684326, 2.298541784286499, 2.301478385925293, 2.2986764907836914, 2.2952113151550293, 2.2952535152435303, 2.2984437942504883, 2.296567440032959, 2.302773952484131, 2.296858310699463, 2.2994391918182373, 2.2985692024230957, 2.2956840991973877, 2.29836106300354, 2.2980971336364746, 2.297422409057617, 2.2981958389282227, 2.2960946559906006, 2.29471492767334, 2.2960424423217773, 2.2996368408203125, 2.2985739707946777, 2.2974932193756104, 2.294935941696167, 2.296782970428467, 2.2956645488739014, 2.2968697547912598, 2.293945074081421, 2.293956995010376, 2.2937333583831787, 2.295365810394287, 2.3022665977478027, 2.2940492630004883, 2.29595947265625, 2.297072410583496, 2.302772283554077, 2.299729108810425, 2.296802520751953, 2.298971652984619, 2.295278549194336, 2.2949180603027344, 2.2967538833618164, 2.297140121459961, 2.2957956790924072, 2.2985527515411377, 2.296215772628784, 2.2997145652770996, 2.299342632293701, 2.2961277961730957, 2.2964394092559814, 2.299152135848999, 2.2967352867126465, 2.2964975833892822, 2.293297529220581, 2.2979729175567627, 2.298072576522827, 2.296069383621216, 2.2969319820404053, 2.2982122898101807, 2.3007888793945312, 2.297243118286133, 2.2929983139038086, 2.2937815189361572, 2.297679901123047, 2.2979862689971924, 2.296542167663574, 2.2950797080993652, 2.295328140258789, 2.294429063796997, 2.2961132526397705, 2.2944185733795166, 2.2968246936798096, 2.299715518951416, 2.2942731380462646, 2.295119047164917, 2.29923939704895, 2.2981879711151123, 2.2979323863983154, 2.294722080230713, 2.2991790771484375, 2.2961370944976807, 2.296548366546631, 2.2949674129486084, 2.300304889678955, 2.2957632541656494, 2.299257278442383, 2.29824161529541, 2.2960269451141357, 2.297938346862793, 2.2950971126556396, 2.295914888381958, 2.2965087890625, 2.295809745788574, 2.297692060470581, 2.2955400943756104, 2.2948009967803955, 2.296762228012085, 2.2946715354919434, 2.297118902206421, 2.294222593307495, 2.295011520385742, 2.297999858856201, 2.2999329566955566, 2.2987782955169678, 2.2940080165863037, 2.293600082397461, 2.2973833084106445, 2.295773983001709, 2.296851396560669, 2.2959094047546387, 2.296189069747925, 2.295383930206299, 2.296086072921753, 2.2944159507751465, 2.295070171356201, 2.2949817180633545, 2.295762062072754, 2.294970750808716, 2.2971091270446777, 2.2960846424102783, 2.290830612182617, 2.2961394786834717, 2.2974507808685303, 2.291386365890503, 2.295137643814087, 2.2955899238586426, 2.2994322776794434, 2.2960758209228516, 2.2978837490081787, 2.297456741333008, 2.297391891479492, 2.3020670413970947, 2.293795108795166, 2.296154022216797, 2.2932305335998535, 2.290818691253662, 2.2964370250701904, 2.296299695968628, 2.299697160720825, 2.2951242923736572, 2.2955315113067627, 2.297604560852051, 2.294689893722534, 2.2924861907958984, 2.297367811203003, 2.293015956878662, 2.3006293773651123, 2.3008668422698975, 2.29217267036438, 2.2945897579193115, 2.2981419563293457, 2.297602891921997, 2.2929270267486572, 2.29582142829895, 2.2974355220794678, 2.2973761558532715, 2.2975046634674072, 2.293628454208374, 2.2965826988220215, 2.294464349746704, 2.2966535091400146, 2.296351671218872, 2.2988078594207764, 2.2957844734191895, 2.2950754165649414, 2.2954511642456055, 2.2945642471313477, 2.298247814178467, 2.297146797180176, 2.295347213745117, 2.294224262237549, 2.295382499694824, 2.2980105876922607, 2.2932164669036865, 2.292937994003296, 2.2931511402130127, 2.2959237098693848, 2.296144723892212, 2.2961626052856445, 2.2940893173217773, 2.296081781387329, 2.2919516563415527, 2.2950730323791504, 2.2965989112854004, 2.296821355819702, 2.294111967086792, 2.2933387756347656, 2.2944071292877197, 2.2970170974731445, 2.295198678970337, 2.291677713394165, 2.2983715534210205, 2.293987989425659, 2.291382074356079, 2.2952802181243896, 2.2926251888275146, 2.2967114448547363, 2.298966884613037, 2.2961206436157227, 2.2962849140167236, 2.2967369556427, 2.2923924922943115, 2.293576955795288, 2.294365882873535, 2.293299913406372, 2.29292368888855, 2.2978742122650146, 2.3013811111450195, 2.2956035137176514, 2.2963356971740723, 2.2910048961639404, 2.2966060638427734, 2.292387008666992, 2.2960081100463867, 2.2940988540649414, 2.291128158569336, 2.2976574897766113, 2.2947354316711426, 2.293226480484009, 2.2945914268493652, 2.2964677810668945, 2.2995803356170654, 2.2961196899414062, 2.294875383377075, 2.292926549911499, 2.295712947845459, 2.294346570968628, 2.2950470447540283, 2.294281244277954, 2.2960832118988037, 2.292241334915161, 2.2965269088745117, 2.295652389526367, 2.2991232872009277, 2.299323558807373, 2.2912561893463135, 2.2943475246429443, 2.2942354679107666, 2.294100761413574, 2.2933342456817627, 2.2949178218841553, 2.295504570007324, 2.294222116470337, 2.30015230178833, 2.2934818267822266, 2.2959725856781006, 2.295186996459961, 2.29672908782959, 2.294015407562256, 2.2972981929779053, 2.2938153743743896, 2.2947449684143066, 2.2951908111572266, 2.293217182159424, 2.2921876907348633, 2.295403242111206, 2.2952988147735596, 2.294930934906006, 2.2937660217285156, 2.2921860218048096, 2.292463779449463, 2.294325351715088, 2.2948760986328125, 2.291261672973633, 2.2967679500579834, 2.297895669937134, 2.296750783920288, 2.2941067218780518, 2.2939677238464355, 2.2938215732574463, 2.292747735977173, 2.296889305114746, 2.2956175804138184, 2.2937631607055664, 2.295013666152954, 2.29475998878479, 2.2934131622314453, 2.2924978733062744, 2.2923691272735596, 2.2972490787506104, 2.294703722000122, 2.293680191040039, 2.2916924953460693, 2.2950053215026855, 2.293560266494751, 2.294679880142212, 2.2944700717926025, 2.293414831161499, 2.2950351238250732, 2.297205924987793, 2.294182777404785, 2.2943572998046875, 2.295811176300049, 2.2934584617614746, 2.294227123260498, 2.292797327041626, 2.291306972503662, 2.2943828105926514, 2.293316602706909, 2.2940170764923096, 2.29280948638916, 2.2923755645751953, 2.293114185333252, 2.293558120727539, 2.2946932315826416, 2.2904675006866455, 2.2945778369903564, 2.296006441116333, 2.298635959625244, 2.292480230331421, 2.2935516834259033, 2.291921854019165, 2.2950339317321777, 2.2913074493408203, 2.2913506031036377, 2.2998554706573486, 2.2920167446136475, 2.2899794578552246, 2.2924463748931885, 2.292407751083374, 2.2973415851593018, 2.2947373390197754, 2.2963080406188965, 2.297261953353882, 2.2930307388305664, 2.2980599403381348, 2.2908785343170166, 2.295778274536133, 2.294760227203369, 2.296759605407715, 2.293633222579956, 2.2938156127929688, 2.2910680770874023, 2.2947916984558105, 2.294588565826416, 2.2920305728912354, 2.2929601669311523, 2.2956533432006836, 2.294801950454712, 2.2923710346221924, 2.2940104007720947, 2.2931556701660156, 2.2960290908813477, 2.2913753986358643, 2.2929396629333496, 2.2939369678497314, 2.2956981658935547, 2.2928290367126465, 2.2937657833099365, 2.292819023132324, 2.2935056686401367, 2.291802167892456, 2.2937257289886475, 2.292710065841675, 2.2955875396728516, 2.292234420776367, 2.2955918312072754, 2.2924611568450928, 2.2935502529144287, 2.2930209636688232, 2.2898948192596436, 2.292916774749756, 2.2941172122955322, 2.2954232692718506, 2.2927629947662354, 2.293761968612671, 2.2948989868164062, 2.294957160949707, 2.2914257049560547, 2.2924861907958984, 2.292165756225586, 2.293247938156128, 2.2927939891815186, 2.2922427654266357, 2.292259454727173, 2.2938687801361084, 2.29483699798584, 2.2934255599975586, 2.291623115539551, 2.2912087440490723, 2.294395685195923, 2.2926807403564453, 2.2918541431427, 2.289386749267578, 2.2900562286376953, 2.2910406589508057, 2.290724754333496, 2.292872667312622, 2.2907187938690186, 2.2919230461120605, 2.295290470123291, 2.2958452701568604, 2.2957122325897217, 2.2881133556365967, 2.2935221195220947, 2.2904555797576904, 2.2936713695526123, 2.2916791439056396, 2.29471492767334, 2.292938470840454, 2.296205997467041, 2.2926712036132812, 2.2930028438568115, 2.297102451324463, 2.2903597354888916, 2.292778491973877, 2.2910048961639404, 2.2932751178741455, 2.2936272621154785, 2.29276704788208, 2.2909793853759766, 2.2923505306243896, 2.2890806198120117, 2.2903223037719727, 2.2975564002990723, 2.293426752090454, 2.295572519302368, 2.2915401458740234, 2.2923154830932617, 2.292037010192871, 2.293518304824829, 2.2923789024353027, 2.2933106422424316, 2.2943379878997803, 2.295321464538574, 2.2928478717803955, 2.2888522148132324, 2.2893826961517334, 2.2926104068756104, 2.2930102348327637, 2.2915139198303223, 2.2917892932891846, 2.2931602001190186, 2.2899415493011475, 2.289393901824951, 2.2931928634643555, 2.29302978515625, 2.2940471172332764, 2.2920780181884766, 2.2908318042755127, 2.2935526371002197, 2.2922415733337402, 2.2915263175964355, 2.292989730834961, 2.2926111221313477, 2.2943003177642822, 2.289238929748535, 2.293968915939331, 2.2908220291137695, 2.2916059494018555, 2.291513204574585, 2.2911181449890137, 2.2938692569732666, 2.2899680137634277, 2.2946653366088867, 2.2937943935394287, 2.28848934173584, 2.2925448417663574, 2.290940999984741, 2.290989398956299, 2.2893033027648926, 2.2960927486419678, 2.291795015335083, 2.2935850620269775, 2.2923150062561035, 2.2900397777557373, 2.2919626235961914, 2.2936432361602783, 2.2892894744873047, 2.2935521602630615, 2.2915825843811035, 2.2912983894348145, 2.2910900115966797, 2.287014961242676, 2.288323402404785, 2.2942655086517334, 2.292793035507202, 2.2920472621917725, 2.2859983444213867, 2.2922399044036865, 2.2884700298309326, 2.293654680252075, 2.2886288166046143, 2.2885119915008545, 2.2917847633361816, 2.2929978370666504, 2.292325973510742, 2.2962865829467773, 2.2930452823638916, 2.2885897159576416, 2.292163372039795, 2.2903852462768555, 2.2900912761688232, 2.2857813835144043, 2.296302556991577, 2.2939157485961914, 2.2900209426879883, 2.2918643951416016, 2.2894816398620605, 2.2870404720306396, 2.2949182987213135, 2.294987916946411, 2.2925074100494385, 2.2976813316345215, 2.297442674636841, 2.2904603481292725, 2.2902960777282715, 2.2891271114349365, 2.292780876159668, 2.289431571960449, 2.2918267250061035, 2.2880971431732178, 2.290492534637451, 2.288618564605713, 2.2904956340789795, 2.2944650650024414, 2.289822816848755, 2.2918529510498047, 2.293165445327759, 2.292799472808838, 2.2901480197906494, 2.2943034172058105, 2.290367364883423, 2.293825387954712, 2.2922441959381104, 2.292269468307495, 2.2933413982391357, 2.2910284996032715, 2.2915244102478027, 2.2921619415283203, 2.2911715507507324, 2.2894253730773926, 2.2907516956329346, 2.2916676998138428, 2.289090871810913, 2.2908377647399902, 2.289712429046631, 2.2904481887817383, 2.2913432121276855, 2.2910642623901367, 2.2889130115509033, 2.2959229946136475, 2.290766954421997, 2.2906947135925293, 2.2897751331329346, 2.292349338531494, 2.290236711502075, 2.2928762435913086, 2.2901313304901123, 2.2938621044158936, 2.288433790206909, 2.2896547317504883, 2.291060447692871, 2.2894601821899414, 2.2879433631896973, 2.291390895843506, 2.2890570163726807, 2.290498733520508, 2.28617787361145, 2.289562463760376, 2.290839195251465, 2.286644697189331, 2.290278911590576, 2.2899694442749023, 2.2883522510528564, 2.292713165283203, 2.2866947650909424, 2.290480613708496, 2.288499116897583, 2.2873408794403076, 2.283766269683838, 2.286735773086548, 2.292489528656006, 2.290071964263916, 2.2893688678741455, 2.290891170501709, 2.2907721996307373, 2.2892699241638184, 2.288255453109741, 2.2892515659332275, 2.2884604930877686, 2.2858147621154785, 2.2912986278533936, 2.2886831760406494, 2.2889389991760254, 2.2912561893463135, 2.291796922683716, 2.285780906677246, 2.2963292598724365, 2.2967097759246826, 2.291249990463257, 2.2896997928619385, 2.2878072261810303, 2.2943837642669678, 2.289504051208496, 2.2898359298706055, 2.288943290710449, 2.2917633056640625, 2.287583827972412, 2.290294885635376, 2.291109085083008, 2.2907297611236572, 2.2933366298675537, 2.2920949459075928, 2.286536931991577, 2.287221908569336, 2.2911369800567627, 2.2875494956970215, 2.294677734375, 2.2885243892669678, 2.291548490524292, 2.2908148765563965, 2.2878763675689697, 2.2904324531555176, 2.2903473377227783, 2.290170907974243, 2.2912561893463135, 2.2872817516326904, 2.2870607376098633, 2.2888259887695312, 2.2916083335876465, 2.2906267642974854, 2.2898178100585938, 2.2865517139434814, 2.2885189056396484, 2.2870566844940186, 2.2888152599334717, 2.286524534225464, 2.286296844482422, 2.2858989238739014, 2.287339925765991, 2.2940759658813477, 2.2854208946228027, 2.2879066467285156, 2.289595127105713, 2.295316219329834, 2.291593074798584, 2.2890636920928955, 2.290318250656128, 2.2874460220336914, 2.2868757247924805, 2.288522243499756, 2.288795232772827, 2.2881920337677, 2.2907724380493164, 2.2879621982574463, 2.29191255569458, 2.2912590503692627, 2.287518262863159, 2.2889113426208496, 2.290647029876709, 2.288456439971924, 2.2882180213928223, 2.285106897354126, 2.2900171279907227, 2.29079532623291, 2.2879137992858887, 2.288638114929199, 2.2906134128570557, 2.292996883392334, 2.288620948791504, 2.2853407859802246, 2.2850608825683594, 2.2900304794311523, 2.2899374961853027, 2.28893780708313, 2.286668539047241, 2.287292718887329, 2.2861931324005127, 2.2881221771240234, 2.2860562801361084, 2.288715124130249, 2.291680097579956, 2.2865822315216064, 2.286315679550171, 2.290741205215454, 2.290757656097412, 2.2899928092956543, 2.28684663772583, 2.2904067039489746, 2.2872314453125, 2.287717819213867, 2.28592848777771, 2.2918949127197266, 2.28737735748291, 2.2912216186523438, 2.290433406829834, 2.288360834121704, 2.2897744178771973, 2.285365343093872, 2.2874200344085693, 2.2877769470214844, 2.2876996994018555, 2.289646863937378, 2.2871816158294678, 2.2864296436309814, 2.2879481315612793, 2.2858726978302, 2.2896037101745605, 2.2858963012695312, 2.28586483001709, 2.2903292179107666, 2.2915613651275635, 2.291239023208618, 2.285501480102539, 2.284907579421997, 2.288893222808838, 2.2874655723571777, 2.2878780364990234, 2.287459135055542, 2.287709951400757, 2.2867841720581055, 2.2878124713897705, 2.2859930992126465, 2.286924362182617, 2.285449743270874, 2.2876906394958496, 2.2861804962158203, 2.289252758026123, 2.287489175796509, 2.281079053878784, 2.287785053253174, 2.2882115840911865, 2.2825112342834473, 2.286869764328003, 2.2875144481658936, 2.29113507270813, 2.287421464920044, 2.2895705699920654, 2.2893552780151367, 2.288869857788086, 2.2942328453063965, 2.2840521335601807, 2.2880806922912598, 2.2848196029663086, 2.281620979309082, 2.288398504257202, 2.2876036167144775, 2.2922940254211426, 2.2863070964813232, 2.2862935066223145, 2.2887237071990967, 2.286168098449707, 2.283734083175659, 2.2879204750061035, 2.283891439437866, 2.2922677993774414, 2.293008327484131, 2.282895088195801, 2.286712408065796, 2.2902321815490723, 2.288947105407715, 2.2849299907684326, 2.2869138717651367, 2.2891571521759033, 2.2883546352386475, 2.2890424728393555, 2.285468578338623, 2.2880735397338867, 2.2862331867218018, 2.2881388664245605, 2.287726402282715, 2.2902748584747314, 2.2875375747680664, 2.286240339279175, 2.286348581314087, 2.2850308418273926, 2.2893195152282715, 2.2882637977600098, 2.286499261856079, 2.286040782928467, 2.2864675521850586, 2.2886922359466553, 2.2842822074890137, 2.2836203575134277, 2.2841548919677734, 2.2877960205078125, 2.2864768505096436, 2.2876992225646973, 2.2840001583099365, 2.287282943725586, 2.2832751274108887, 2.286747932434082, 2.2884702682495117, 2.288151741027832, 2.2849247455596924, 2.284576177597046, 2.285672187805176, 2.287745714187622, 2.2867038249969482, 2.2828521728515625, 2.2905092239379883, 2.286226749420166, 2.2833211421966553, 2.287181854248047, 2.284224510192871, 2.2880921363830566, 2.289224147796631, 2.287264823913574, 2.286510944366455, 2.2880539894104004, 2.2831618785858154, 2.28375244140625, 2.2850944995880127, 2.2834649085998535, 2.2843024730682373, 2.287559747695923, 2.2920117378234863, 2.2867562770843506, 2.287705183029175, 2.281057119369507, 2.2884626388549805, 2.2828409671783447, 2.2867438793182373, 2.2851154804229736, 2.2824878692626953, 2.2885117530822754, 2.28464412689209, 2.2839248180389404, 2.2852962017059326, 2.2871620655059814, 2.289931058883667, 2.2869961261749268, 2.2857589721679688, 2.2833456993103027, 2.2861998081207275, 2.2846288681030273, 2.2870028018951416, 2.2846083641052246, 2.286746025085449, 2.282414197921753, 2.288271188735962, 2.28593373298645, 2.290586233139038, 2.2911195755004883, 2.280515432357788, 2.284597873687744, 2.284773826599121, 2.284137725830078, 2.2828195095062256, 2.2857859134674072, 2.287147283554077, 2.285430669784546, 2.2914140224456787, 2.2842042446136475, 2.2866382598876953, 2.2859041690826416, 2.2884604930877686, 2.2848198413848877, 2.28777813911438, 2.2849013805389404, 2.2850942611694336, 2.2861483097076416, 2.2838029861450195, 2.283468246459961, 2.2864975929260254, 2.2855842113494873, 2.2852654457092285, 2.2838797569274902, 2.2829113006591797, 2.282376289367676, 2.284853458404541, 2.285834312438965, 2.281805992126465, 2.288059711456299, 2.289097309112549, 2.287867784500122, 2.2851030826568604, 2.2836904525756836, 2.2846381664276123, 2.2828705310821533, 2.287668228149414, 2.287351131439209, 2.2851173877716064, 2.2854011058807373, 2.2850914001464844, 2.2837867736816406, 2.2839291095733643, 2.2832159996032715, 2.288140058517456, 2.2858452796936035, 2.28352427482605, 2.282233476638794, 2.285217523574829, 2.2835328578948975, 2.2848100662231445, 2.2844040393829346, 2.2843024730682373, 2.2864937782287598, 2.286146879196167, 2.2846407890319824, 2.284360647201538, 2.2872910499572754, 2.2834525108337402, 2.284778356552124, 2.2821505069732666, 2.2809596061706543, 2.284388542175293, 2.2832682132720947, 2.2851898670196533, 2.2822844982147217, 2.282027006149292, 2.282557725906372, 2.284717321395874, 2.285313844680786, 2.2804529666900635, 2.284700870513916, 2.2867767810821533, 2.2894890308380127, 2.2816896438598633, 2.2843620777130127, 2.2818872928619385, 2.2847719192504883, 2.2813117504119873, 2.2822682857513428, 2.2903740406036377, 2.281855821609497, 2.279582977294922, 2.2822558879852295, 2.282996416091919, 2.2871909141540527, 2.285085439682007, 2.2859601974487305, 2.2874584197998047, 2.2832376956939697, 2.2888054847717285, 2.2796597480773926, 2.285762310028076, 2.284907341003418, 2.287348747253418, 2.2830214500427246, 2.2834742069244385, 2.2810208797454834, 2.285499334335327, 2.2854223251342773, 2.281348705291748, 2.2837815284729004, 2.286043167114258, 2.2840027809143066, 2.282337188720703, 2.2838451862335205, 2.2823259830474854, 2.284773111343384, 2.2805724143981934, 2.282350778579712, 2.2839460372924805, 2.286766767501831, 2.2820584774017334, 2.2840654850006104, 2.2828476428985596, 2.284605026245117, 2.2814652919769287, 2.283691167831421, 2.2820255756378174, 2.2860684394836426, 2.281871795654297, 2.2859811782836914, 2.2817587852478027, 2.28334903717041, 2.282899856567383, 2.2803144454956055, 2.28239107131958, 2.2845311164855957, 2.2858364582061768, 2.2821359634399414, 2.2825465202331543, 2.2845664024353027, 2.284714698791504, 2.280831813812256, 2.283574342727661, 2.2825276851654053, 2.282975673675537, 2.2820382118225098, 2.28193736076355, 2.2807765007019043, 2.2824060916900635, 2.285508155822754, 2.2826998233795166, 2.28182315826416, 2.280979633331299, 2.284761667251587, 2.2820305824279785, 2.2816834449768066, 2.2787232398986816, 2.278775691986084, 2.279639482498169, 2.2810912132263184, 2.2818603515625, 2.2791244983673096, 2.281261444091797, 2.2848589420318604, 2.2852237224578857, 2.2850382328033447, 2.276628017425537, 2.2831788063049316, 2.279184579849243, 2.2829668521881104, 2.281613349914551, 2.283998489379883, 2.2826879024505615, 2.2837166786193848, 2.2832536697387695, 2.282320499420166, 2.2873358726501465, 2.2786145210266113, 2.280749797821045, 2.2800886631011963, 2.281393527984619, 2.283322334289551, 2.282525062561035, 2.2799510955810547, 2.2821943759918213, 2.2777633666992188, 2.2796096801757812, 2.288255214691162, 2.2815897464752197, 2.2850332260131836, 2.279930591583252, 2.281888723373413, 2.2799670696258545, 2.2831528186798096, 2.2816834449768066, 2.2827513217926025, 2.2834742069244385, 2.284398317337036, 2.2819771766662598, 2.277998685836792, 2.278529644012451, 2.281611204147339, 2.2817418575286865, 2.2806074619293213, 2.281156063079834, 2.281601667404175, 2.2786436080932617, 2.2773067951202393, 2.281843423843384, 2.282790184020996, 2.283379554748535, 2.280808448791504, 2.279228448867798, 2.2826929092407227, 2.281304359436035, 2.2807388305664062, 2.282313585281372, 2.2818775177001953, 2.283693790435791, 2.2779436111450195, 2.2831733226776123, 2.279623031616211, 2.281031847000122, 2.2796220779418945, 2.279752492904663, 2.2823572158813477, 2.2789864540100098, 2.282797336578369, 2.2833642959594727, 2.27656626701355, 2.281782627105713, 2.2790143489837646, 2.2803938388824463, 2.2788708209991455, 2.2835614681243896, 2.2811036109924316, 2.282531499862671, 2.2801082134246826, 2.2775087356567383, 2.280297040939331, 2.2813775539398193, 2.2774882316589355, 2.281615972518921, 2.279790163040161, 2.280269145965576, 2.2798657417297363, 2.2750113010406494, 2.2764673233032227, 2.2841849327087402, 2.280845880508423, 2.280816078186035, 2.274475336074829, 2.28140926361084, 2.2765724658966064, 2.2820520401000977, 2.2771995067596436, 2.2780065536499023, 2.2805330753326416, 2.2799980640411377, 2.2817625999450684, 2.285546064376831, 2.2825968265533447, 2.276829719543457, 2.280416965484619, 2.2787024974823, 2.279953956604004, 2.2753262519836426, 2.284364700317383, 2.2819089889526367, 2.278566360473633, 2.278836250305176, 2.2776269912719727, 2.274937152862549, 2.282240390777588, 2.2835776805877686, 2.2813150882720947, 2.287550449371338, 2.286712408065796, 2.279329299926758, 2.2781221866607666, 2.2787833213806152, 2.282029628753662, 2.2776784896850586, 2.277534246444702, 2.2767887115478516, 2.2788357734680176, 2.276806116104126, 2.2783336639404297, 2.2816085815429688, 2.2773914337158203, 2.2808144092559814, 2.2802419662475586, 2.280458450317383, 2.276643753051758, 2.282231330871582, 2.277480125427246, 2.283508062362671, 2.281045436859131, 2.279867649078369, 2.2830491065979004, 2.2794268131256104, 2.279365301132202, 2.2795681953430176, 2.279709577560425, 2.277754783630371, 2.2794511318206787, 2.2789716720581055, 2.2769858837127686, 2.2782530784606934, 2.2777810096740723, 2.2787208557128906, 2.2783472537994385, 2.277212142944336, 2.2773935794830322, 2.283421516418457, 2.2792506217956543, 2.277846097946167, 2.2767648696899414, 2.280447006225586, 2.2782468795776367, 2.2818331718444824, 2.2778232097625732, 2.282078504562378, 2.276757001876831, 2.2777204513549805, 2.2782583236694336, 2.276752471923828, 2.2751471996307373, 2.278411626815796, 2.277508020401001, 2.2763962745666504, 2.2738146781921387, 2.276916742324829, 2.2791197299957275, 2.2741973400115967, 2.2774465084075928, 2.276970386505127, 2.2757644653320312, 2.2808468341827393, 2.272531270980835, 2.2772510051727295, 2.2761638164520264, 2.2740073204040527, 2.2708547115325928, 2.2736806869506836, 2.2795393466949463, 2.277101993560791, 2.2762484550476074, 2.278243064880371, 2.2787835597991943, 2.277017593383789, 2.2739315032958984, 2.27689790725708, 2.2759525775909424, 2.2727842330932617, 2.2775909900665283, 2.275855302810669, 2.275235652923584, 2.279921770095825, 2.2784414291381836, 2.2727837562561035, 2.2839455604553223, 2.2838144302368164, 2.279383897781372, 2.2766811847686768, 2.2742629051208496, 2.2813689708709717, 2.2761008739471436, 2.276953935623169, 2.2756595611572266, 2.2790632247924805, 2.274441719055176, 2.278355598449707, 2.2783443927764893, 2.277841806411743, 2.2797043323516846, 2.2811951637268066, 2.272038221359253, 2.273624897003174, 2.278653144836426, 2.272061824798584, 2.281036615371704, 2.274148464202881, 2.278224229812622, 2.278000593185425, 2.274982213973999, 2.277406692504883, 2.277127265930176, 2.2781271934509277, 2.2798779010772705, 2.272542715072632, 2.2740397453308105, 2.276803970336914, 2.2779979705810547, 2.277148962020874, 2.2770514488220215, 2.2723164558410645, 2.2744429111480713, 2.2724432945251465, 2.27547287940979, 2.2740731239318848, 2.2734196186065674, 2.2730278968811035, 2.2738847732543945, 2.2800400257110596, 2.2710013389587402, 2.274221181869507, 2.2769522666931152, 2.282557249069214, 2.277825355529785, 2.2763495445251465, 2.275662422180176, 2.2741074562072754, 2.2734673023223877, 2.274545192718506, 2.274684190750122, 2.2754197120666504, 2.277418375015259, 2.2739510536193848, 2.278883218765259, 2.277474880218506, 2.2725300788879395, 2.2761523723602295, 2.275864839553833, 2.2745630741119385, 2.274174928665161, 2.2711164951324463, 2.276545286178589, 2.278174638748169, 2.274376630783081, 2.274082899093628, 2.2775990962982178, 2.2797791957855225, 2.2737622261047363, 2.272406578063965, 2.270047426223755, 2.2769458293914795, 2.276122570037842, 2.275988817214966, 2.2724599838256836, 2.2735016345977783, 2.272200584411621, 2.2743821144104004, 2.271865129470825, 2.274872064590454, 2.2778890132904053, 2.273433208465576, 2.271359920501709, 2.2761118412017822, 2.2781951427459717, 2.276200532913208, 2.2731964588165283, 2.2751662731170654, 2.271946668624878, 2.272557258605957, 2.2700912952423096, 2.27736759185791, 2.2727932929992676, 2.2774834632873535, 2.277005195617676, 2.2754275798797607, 2.275414228439331, 2.268558979034424, 2.272928237915039, 2.2724945545196533, 2.2730817794799805, 2.275906562805176, 2.2725820541381836, 2.2718734741210938, 2.2728111743927, 2.270874261856079, 2.27656888961792, 2.2711822986602783, 2.27028489112854, 2.2769269943237305, 2.2767751216888428, 2.2781293392181396, 2.2709922790527344, 2.2697019577026367, 2.274156332015991, 2.2727575302124023, 2.271852731704712, 2.2727129459381104, 2.2728254795074463, 2.2722299098968506, 2.273315191268921, 2.2713897228240967, 2.272916793823242, 2.268450975418091, 2.2739386558532715, 2.270981788635254, 2.275878667831421, 2.272444248199463, 2.264230251312256, 2.273296356201172, 2.2718868255615234, 2.2668230533599854, 2.2719860076904297, 2.273533344268799, 2.2765567302703857, 2.272630214691162, 2.2749836444854736, 2.275118350982666, 2.2737014293670654, 2.2803592681884766, 2.2666971683502197, 2.274163246154785, 2.270014524459839, 2.265280246734619, 2.274451971054077, 2.2723124027252197, 2.2791051864624023, 2.2707719802856445, 2.270035982131958, 2.273268222808838, 2.271357774734497, 2.2680623531341553, 2.2711260318756104, 2.267543315887451, 2.277348756790161, 2.2789306640625, 2.2667787075042725, 2.2729849815368652, 2.2763190269470215, 2.2734498977661133, 2.270738124847412, 2.2711868286132812, 2.2743470668792725, 2.272524356842041, 2.2742552757263184, 2.2712082862854004, 2.273122549057007, 2.2719218730926514, 2.2731151580810547, 2.2722442150115967, 2.275200366973877, 2.2726173400878906, 2.270923614501953, 2.269942283630371, 2.268218994140625, 2.2736759185791016, 2.2725908756256104, 2.2708640098571777, 2.2714004516601562, 2.2704343795776367, 2.272257089614868, 2.2682712078094482, 2.2667994499206543, 2.2681760787963867, 2.273324489593506, 2.2692575454711914, 2.2726430892944336, 2.265991449356079, 2.271665334701538, 2.2678327560424805, 2.272226572036743, 2.2740306854248047, 2.2725765705108643, 2.2685208320617676, 2.2688252925872803, 2.2702572345733643, 2.270822763442993, 2.2712926864624023, 2.2673850059509277, 2.276648759841919, 2.2724504470825195, 2.2689855098724365, 2.2731409072875977, 2.26934552192688, 2.2725653648376465, 2.2718188762664795, 2.271519660949707, 2.269092559814453, 2.2727808952331543, 2.2662575244903564, 2.266291618347168, 2.2683265209198, 2.2661304473876953, 2.268812656402588, 2.2689898014068604, 2.2747385501861572, 2.2705674171447754, 2.2719759941101074, 2.263221025466919, 2.2736380100250244, 2.265376329421997, 2.270040988922119, 2.2688682079315186, 2.267082691192627, 2.2719223499298096, 2.266160249710083, 2.2672479152679443, 2.2685701847076416, 2.2703936100006104, 2.2726316452026367, 2.2706518173217773, 2.2690439224243164, 2.265963554382324, 2.2690165042877197, 2.266785144805908, 2.272408962249756, 2.2668190002441406, 2.2697091102600098, 2.2645833492279053, 2.2732627391815186, 2.2682039737701416, 2.2751781940460205, 2.2763211727142334, 2.260742425918579, 2.266676425933838, 2.2675580978393555, 2.2663562297821045, 2.2636382579803467, 2.269275665283203, 2.272212266921997, 2.2694311141967773, 2.2757294178009033, 2.2674639225006104, 2.269667863845825, 2.268953800201416, 2.2735702991485596, 2.2680649757385254, 2.270462989807129, 2.268608808517456, 2.2673559188842773, 2.2698142528533936, 2.266745090484619, 2.267486810684204, 2.2698514461517334, 2.267529249191284, 2.267608165740967, 2.2657198905944824, 2.2660269737243652, 2.2639942169189453, 2.2677667140960693, 2.2692582607269287, 2.264549732208252, 2.2721967697143555, 2.273233652114868, 2.2713747024536133, 2.2686002254486084, 2.264554738998413, 2.2678415775299072, 2.2647311687469482, 2.270733594894409, 2.272228956222534, 2.269144296646118, 2.2678720951080322, 2.2674474716186523, 2.2659595012664795, 2.2682273387908936, 2.266267776489258, 2.2712583541870117, 2.2690627574920654, 2.264962673187256, 2.2652947902679443, 2.2670798301696777, 2.264641284942627, 2.2665610313415527, 2.26584529876709, 2.2671926021575928, 2.271021842956543, 2.266080856323242, 2.267150640487671, 2.2661101818084717, 2.2715694904327393, 2.265120506286621, 2.2670884132385254, 2.262422561645508, 2.2615396976470947, 2.266096591949463, 2.264601945877075, 2.268646478652954, 2.262697696685791, 2.2630960941314697, 2.262848138809204, 2.2683396339416504, 2.2679054737091064, 2.262056827545166, 2.266573905944824, 2.2696027755737305, 2.2726173400878906, 2.261765956878662, 2.267120361328125, 2.26297926902771, 2.2660443782806396, 2.2625277042388916, 2.2651076316833496, 2.2722134590148926, 2.263226270675659, 2.260185718536377, 2.263436794281006, 2.2656681537628174, 2.2683920860290527, 2.2670984268188477, 2.2667393684387207, 2.269385576248169, 2.265450954437256, 2.2715182304382324, 2.258836030960083, 2.2668533325195312, 2.2666900157928467, 2.269541025161743, 2.2635881900787354, 2.264174699783325, 2.262145757675171, 2.2685132026672363, 2.2681961059570312, 2.261263847351074, 2.2662835121154785, 2.267590284347534, 2.2634432315826416, 2.263762950897217, 2.2648274898529053, 2.2616231441497803, 2.263909101486206, 2.2604734897613525, 2.2626216411590576, 2.2652640342712402, 2.2702417373657227, 2.2617058753967285, 2.265547275543213, 2.2638661861419678, 2.2679226398468018, 2.2618930339813232, 2.2648470401763916, 2.261676549911499, 2.268195152282715, 2.262017011642456, 2.2680537700653076, 2.2617175579071045, 2.26393723487854, 2.2641496658325195, 2.2622687816619873, 2.262643575668335, 2.266669988632202, 2.2679460048675537, 2.2619898319244385, 2.261545419692993, 2.2649765014648438, 2.264925003051758, 2.2608113288879395, 2.266537666320801, 2.2642080783843994, 2.2631442546844482, 2.2615363597869873, 2.263030767440796, 2.258561372756958, 2.260890483856201, 2.2676305770874023, 2.2624807357788086, 2.263610601425171, 2.261300563812256, 2.2665090560913086, 2.261667013168335, 2.262070894241333, 2.2584903240203857, 2.257183790206909, 2.257782459259033, 2.2629575729370117, 2.261136770248413, 2.257080316543579, 2.2612483501434326, 2.2651307582855225, 2.265336513519287, 2.264763116836548, 2.2544944286346436, 2.2634360790252686, 2.2578508853912354, 2.2623298168182373, 2.2622764110565186, 2.263110399246216, 2.263272523880005, 2.259819984436035, 2.26541805267334, 2.2620291709899902, 2.2684082984924316, 2.2566487789154053, 2.257946729660034, 2.2593533992767334, 2.258517265319824, 2.2635679244995117, 2.262834072113037, 2.2586820125579834, 2.2627532482147217, 2.255913734436035, 2.2590200901031494, 2.2701609134674072, 2.259303092956543, 2.264859676361084, 2.257505178451538, 2.2623953819274902, 2.2567129135131836, 2.2632291316986084, 2.2612011432647705, 2.262385368347168, 2.2626116275787354, 2.2637152671813965, 2.261023759841919, 2.2576262950897217, 2.2580950260162354, 2.2603094577789307, 2.2600464820861816, 2.259692907333374, 2.2606711387634277, 2.258958339691162, 2.25662899017334, 2.254117012023926, 2.259674549102783, 2.26324462890625, 2.262876510620117, 2.2589540481567383, 2.2567989826202393, 2.261660099029541, 2.2602834701538086, 2.259929895401001, 2.261828660964966, 2.261284828186035, 2.263212203979492, 2.2556099891662598, 2.2623484134674072, 2.2576301097869873, 2.26066255569458, 2.256438970565796, 2.2577507495880127, 2.260162115097046, 2.2574853897094727, 2.2602546215057373, 2.2634246349334717, 2.2532734870910645, 2.2611377239227295, 2.2556581497192383, 2.25974440574646, 2.2581968307495117, 2.259330987930298, 2.2604873180389404, 2.261007785797119, 2.2563912868499756, 2.253056526184082, 2.257474422454834, 2.2579598426818848, 2.254495143890381, 2.2584471702575684, 2.2563018798828125, 2.258849859237671, 2.258089065551758, 2.251357078552246, 2.253523826599121, 2.2644927501678467, 2.2578225135803223, 2.258857250213623, 2.251922607421875, 2.2605903148651123, 2.2531540393829346, 2.2591774463653564, 2.2552356719970703, 2.257038116455078, 2.258518695831299, 2.2546474933624268, 2.260941743850708, 2.2641353607177734, 2.2622644901275635, 2.2536187171936035, 2.257188081741333, 2.255697250366211, 2.2598891258239746, 2.2548820972442627, 2.260984182357788, 2.257899045944214, 2.25604510307312, 2.253258228302002, 2.254474639892578, 2.251098155975342, 2.25714373588562, 2.260300636291504, 2.2595021724700928, 2.2677690982818604, 2.265697717666626, 2.25768780708313, 2.254173755645752, 2.2584850788116455, 2.2609059810638428, 2.2547261714935303, 2.249556541442871, 2.2544710636138916, 2.255484104156494, 2.253678321838379, 2.25434947013855, 2.2565479278564453, 2.2529098987579346, 2.258389472961426, 2.2545979022979736, 2.255950689315796, 2.2500600814819336, 2.2582192420959473, 2.252211332321167, 2.263612985610962, 2.2591404914855957, 2.2551310062408447, 2.262544870376587, 2.2559003829956055, 2.255030870437622, 2.2546944618225098, 2.256864070892334, 2.2545411586761475, 2.257026433944702, 2.253345251083374, 2.252319812774658, 2.252443790435791, 2.2541565895080566, 2.255484104156494, 2.252199411392212, 2.2493064403533936, 2.2546205520629883, 2.258826971054077, 2.2563369274139404, 2.2522270679473877, 2.250753402709961, 2.25707745552063, 2.254439353942871, 2.2598836421966553, 2.252725601196289, 2.2583703994750977, 2.2539222240448, 2.2545688152313232, 2.252962589263916, 2.251187324523926, 2.249553918838501, 2.2522079944610596, 2.2543764114379883, 2.2481417655944824, 2.2491214275360107, 2.2519402503967285, 2.2557759284973145, 2.2494828701019287, 2.2517685890197754, 2.2511205673217773, 2.2506585121154785, 2.257187604904175, 2.2443082332611084, 2.2506635189056396, 2.2512712478637695, 2.247499465942383, 2.244455337524414, 2.247925043106079, 2.2540791034698486, 2.2505221366882324, 2.2501332759857178, 2.252798318862915, 2.2546329498291016, 2.252574920654297, 2.2457590103149414, 2.2517991065979004, 2.2510483264923096, 2.246593713760376, 2.2494542598724365, 2.249798536300659, 2.2478742599487305, 2.2571730613708496, 2.251347780227661, 2.2459964752197266, 2.258901834487915, 2.257692813873291, 2.256192684173584, 2.250375747680664, 2.2469921112060547, 2.255347967147827, 2.2489097118377686, 2.2508583068847656, 2.2493255138397217, 2.253556251525879, 2.2481939792633057, 2.254592180252075, 2.2520639896392822, 2.2521839141845703, 2.252178907394409, 2.259244918823242, 2.2428505420684814, 2.2458107471466064, 2.252929449081421, 2.2402031421661377, 2.2531418800354004, 2.2442879676818848, 2.250577211380005, 2.252382278442383, 2.2492551803588867, 2.2513396739959717, 2.2498905658721924, 2.2539665699005127, 2.2571892738342285, 2.2427875995635986, 2.2473745346069336, 2.252502679824829, 2.25020170211792, 2.2494823932647705, 2.2512495517730713, 2.243020534515381, 2.245582342147827, 2.2425169944763184, 2.24875545501709, 2.248797655105591, 2.2473223209381104, 2.247509717941284, 2.2467148303985596, 2.2509472370147705, 2.241983413696289, 2.2458982467651367, 2.251164436340332, 2.2561750411987305, 2.2496509552001953, 2.2510361671447754, 2.245745897293091, 2.246833562850952, 2.246485948562622, 2.245863437652588, 2.2459847927093506, 2.249377965927124, 2.2499070167541504, 2.2452995777130127, 2.2525510787963867, 2.2490010261535645, 2.241300106048584, 2.2501938343048096, 2.2449347972869873, 2.2464468479156494, 2.2455174922943115, 2.242385149002075, 2.2488722801208496, 2.251936674118042, 2.24721622467041, 2.2433829307556152, 2.2507195472717285, 2.2524831295013428, 2.243070125579834, 2.2458949089050293, 2.23895263671875, 2.2498464584350586, 2.247448205947876, 2.249274492263794, 2.2434332370758057, 2.244936466217041, 2.2435014247894287, 2.245925188064575, 2.2429468631744385, 2.2461421489715576, 2.249325752258301, 2.2464656829833984, 2.2408132553100586, 2.245820999145508, 2.252507209777832, 2.247614860534668, 2.244717597961426, 2.2433295249938965, 2.2402002811431885, 2.2413275241851807, 2.2370026111602783, 2.2471327781677246, 2.242281436920166, 2.2490882873535156, 2.2492144107818604, 2.249112129211426, 2.245288372039795, 2.233581304550171, 2.243112564086914, 2.2403464317321777, 2.2416396141052246, 2.247638463973999, 2.242121458053589, 2.241603136062622, 2.241680145263672, 2.24035906791687, 2.2493977546691895, 2.2399747371673584, 2.2383599281311035, 2.248741626739502, 2.245384931564331, 2.2507364749908447, 2.2413535118103027, 2.2376112937927246, 2.243410587310791, 2.24176025390625, 2.237621545791626, 2.2417917251586914, 2.2413108348846436, 2.2424378395080566, 2.2428770065307617, 2.2412593364715576, 2.243987798690796, 2.232327461242676, 2.245521306991577, 2.239161252975464, 2.248270034790039, 2.2408249378204346, 2.2292280197143555, 2.243117332458496, 2.2373900413513184, 2.233445167541504, 2.239875078201294, 2.2444207668304443, 2.245788812637329, 2.24200439453125, 2.2441916465759277, 2.2449769973754883, 2.241347551345825, 2.2509543895721436, 2.2297964096069336, 2.245291233062744, 2.238929271697998, 2.2305610179901123, 2.2454543113708496, 2.2401931285858154, 2.250983953475952, 2.237987518310547, 2.2356455326080322, 2.2407917976379395, 2.2403740882873535, 2.2345221042633057, 2.235490083694458, 2.2324161529541016, 2.2455995082855225, 2.2486789226531982, 2.233405351638794, 2.244189977645874, 2.246781826019287, 2.240358352661133, 2.240549087524414, 2.2377538681030273, 2.2425057888031006, 2.2393221855163574, 2.243027925491333, 2.241046190261841, 2.241492986679077, 2.241894006729126, 2.2412946224212646, 2.239070177078247, 2.2432241439819336, 2.2405083179473877, 2.238924980163574, 2.234653949737549, 2.2327938079833984, 2.2407445907592773, 2.2394495010375977, 2.2377490997314453, 2.239800214767456, 2.236046075820923, 2.2378485202789307, 2.2340288162231445, 2.2305948734283447, 2.234109878540039, 2.2422280311584473, 2.232501983642578, 2.240668296813965, 2.227928876876831, 2.238511085510254, 2.234644651412964, 2.2416625022888184, 2.2431914806365967, 2.239084005355835, 2.233447313308716, 2.2348103523254395, 2.2377407550811768, 2.234248399734497, 2.2380475997924805, 2.2348673343658447, 2.2470269203186035, 2.24299955368042, 2.2383151054382324, 2.2438695430755615, 2.2375965118408203, 2.239091634750366, 2.2345266342163086, 2.2382373809814453, 2.232205867767334, 2.240535259246826, 2.2296574115753174, 2.229066848754883, 2.232248306274414, 2.2295830249786377, 2.2355353832244873, 2.229170560836792, 2.2371749877929688, 2.2354204654693604, 2.2376537322998047, 2.2246155738830566, 2.2413246631622314, 2.22704815864563, 2.2339513301849365, 2.2338712215423584, 2.2342677116394043, 2.236025094985962, 2.2259881496429443, 2.2315316200256348, 2.232539176940918, 2.2345802783966064, 2.2354636192321777, 2.235492467880249, 2.2327682971954346, 2.228254795074463, 2.2321057319641113, 2.2279951572418213, 2.2406508922576904, 2.2279164791107178, 2.2327191829681396, 2.2259879112243652, 2.240666151046753, 2.2294092178344727, 2.242137908935547, 2.2443900108337402, 2.2177321910858154, 2.227411985397339, 2.2300469875335693, 2.228611469268799, 2.2219696044921875, 2.2334468364715576, 2.2400853633880615, 2.2345974445343018, 2.2419185638427734, 2.231372356414795, 2.2330896854400635, 2.232083559036255, 2.2414262294769287, 2.231597900390625, 2.2330522537231445, 2.2328972816467285, 2.228768825531006, 2.2347304821014404, 2.2299678325653076, 2.2324612140655518, 2.2328386306762695, 2.2278287410736084, 2.2291109561920166, 2.226235866546631, 2.2295725345611572, 2.224029302597046, 2.2308754920959473, 2.2329728603363037, 2.2270450592041016, 2.237708330154419, 2.238874673843384, 2.2348384857177734, 2.232454299926758, 2.2220940589904785, 2.230894088745117, 2.225083351135254, 2.2336678504943848, 2.2393596172332764, 2.234017848968506, 2.229905605316162, 2.229435443878174, 2.226734161376953, 2.2339656352996826, 2.2291743755340576, 2.2338204383850098, 2.2314646244049072, 2.2246320247650146, 2.229137659072876, 2.227224111557007, 2.2221779823303223, 2.2263431549072266, 2.2252445220947266, 2.2290382385253906, 2.2371749877929688, 2.2224340438842773, 2.2288365364074707, 2.226438522338867, 2.237046957015991, 2.225083827972412, 2.2276980876922607, 2.2192232608795166, 2.218377113342285, 2.2263479232788086, 2.22369122505188, 2.2320375442504883, 2.21974778175354, 2.2216286659240723, 2.2191250324249268, 2.232219934463501, 2.2292542457580566, 2.221963405609131, 2.2273426055908203, 2.231679677963257, 2.2354671955108643, 2.2180593013763428, 2.2288100719451904, 2.220801830291748, 2.225280284881592, 2.2208456993103027, 2.2267370223999023, 2.230975389480591, 2.222691297531128, 2.2174980640411377, 2.2222299575805664, 2.227571725845337, 2.227118730545044, 2.227529525756836, 2.224191665649414, 2.2297773361206055, 2.227005958557129, 2.233088254928589, 2.2130327224731445, 2.2243683338165283, 2.2265617847442627, 2.229609966278076, 2.2212038040161133, 2.221331834793091, 2.2202413082122803, 2.2312591075897217, 2.2295658588409424, 2.2164621353149414, 2.2267067432403564, 2.2256124019622803, 2.217560052871704, 2.2230710983276367, 2.2228481769561768, 2.2149314880371094, 2.2176921367645264, 2.216320276260376, 2.2191050052642822, 2.2239673137664795, 2.2337098121643066, 2.2162694931030273, 2.2237768173217773, 2.2212653160095215, 2.2307395935058594, 2.2179110050201416, 2.223057270050049, 2.216148614883423, 2.228421211242676, 2.2169132232666016, 2.228085994720459, 2.217358112335205, 2.220400333404541, 2.223005533218384, 2.222050666809082, 2.218812942504883, 2.2269349098205566, 2.228074073791504, 2.2169084548950195, 2.215186357498169, 2.2209291458129883, 2.2196767330169678, 2.216036319732666, 2.22794508934021, 2.222993850708008, 2.2181129455566406, 2.215284824371338, 2.2218596935272217, 2.2083051204681396, 2.212888717651367, 2.2270352840423584, 2.2170441150665283, 2.22343373298645, 2.216567039489746, 2.2254436016082764, 2.215806007385254, 2.2174079418182373, 2.213442087173462, 2.208542823791504, 2.208388566970825, 2.222531318664551, 2.214968204498291, 2.207923173904419, 2.2170612812042236, 2.221039056777954, 2.2214620113372803, 2.219088077545166, 2.2045693397521973, 2.2189371585845947, 2.210252285003662, 2.2152740955352783, 2.2185447216033936, 2.2151639461517334, 2.219465970993042, 2.205732822418213, 2.2253754138946533, 2.216432571411133, 2.2249932289123535, 2.208209276199341, 2.20700740814209, 2.2129125595092773, 2.206516981124878, 2.218660831451416, 2.21781063079834, 2.2102975845336914, 2.2190349102020264, 2.206475257873535, 2.212542772293091, 2.2284984588623047, 2.2100205421447754, 2.2193448543548584, 2.206608533859253, 2.21921443939209, 2.203964948654175, 2.2178163528442383, 2.2150304317474365, 2.2158803939819336, 2.214956760406494, 2.2170321941375732, 2.2131636142730713, 2.212143898010254, 2.2126972675323486, 2.211430549621582, 2.210871696472168, 2.212237596511841, 2.214001178741455, 2.2068614959716797, 2.20625376701355, 2.2017126083374023, 2.2086234092712402, 2.2190003395080566, 2.2162232398986816, 2.209105968475342, 2.205803871154785, 2.2140607833862305, 2.212590217590332, 2.2124485969543457, 2.2155590057373047, 2.2146706581115723, 2.216503858566284, 2.2037925720214844, 2.2151877880096436, 2.2068231105804443, 2.214437961578369, 2.203523635864258, 2.2078797817230225, 2.2098963260650635, 2.2082247734069824, 2.2100441455841064, 2.218372344970703, 2.1996238231658936, 2.2144103050231934, 2.2019617557525635, 2.212275743484497, 2.2098922729492188, 2.204744577407837, 2.2138144969940186, 2.211759328842163, 2.2024271488189697, 2.197451591491699, 2.20466685295105, 2.205211639404297, 2.2019059658050537, 2.206019401550293, 2.2019717693328857, 2.209702968597412, 2.208491563796997, 2.1968491077423096, 2.201594352722168, 2.2190873622894287, 2.205446243286133, 2.2085916996002197, 2.2000231742858887, 2.2131989002227783, 2.198946475982666, 2.2064621448516846, 2.205536127090454, 2.2077536582946777, 2.2079567909240723, 2.1970114707946777, 2.2124788761138916, 2.214238405227661, 2.2154855728149414, 2.2002243995666504, 2.2035067081451416, 2.2027039527893066, 2.2129576206207275, 2.2076523303985596, 2.2075932025909424, 2.202280282974243, 2.204108238220215, 2.194917678833008, 2.2013661861419678, 2.196199893951416, 2.1994383335113525, 2.205268144607544, 2.2093873023986816, 2.2220957279205322, 2.2169692516326904, 2.2082695960998535, 2.1994261741638184, 2.211977481842041, 2.2122013568878174, 2.202177047729492, 2.185584783554077, 2.2028586864471436, 2.200925588607788, 2.200704574584961, 2.1987404823303223, 2.199492931365967, 2.1970131397247314, 2.205064296722412, 2.195490837097168, 2.1989665031433105, 2.188645839691162, 2.2026193141937256, 2.19437837600708, 2.2182772159576416, 2.2087225914001465, 2.198150634765625, 2.2146413326263428, 2.2000818252563477, 2.1982955932617188, 2.197369337081909, 2.20365834236145, 2.200356960296631, 2.2047035694122314, 2.193296432495117, 2.1941192150115967, 2.1909425258636475, 2.1994011402130127, 2.2013561725616455, 2.191096305847168, 2.184450626373291, 2.2016565799713135, 2.202676296234131, 2.2029616832733154, 2.1928906440734863, 2.1905248165130615, 2.203777551651001, 2.199385166168213, 2.208812952041626, 2.193268060684204, 2.203176736831665, 2.201298475265503, 2.201820135116577, 2.1947340965270996, 2.190990924835205, 2.1895482540130615, 2.1908304691314697, 2.199911117553711, 2.1829090118408203, 2.1913137435913086, 2.194291591644287, 2.201580762863159, 2.192466974258423, 2.192051887512207, 2.191415309906006, 2.1924479007720947, 2.202167272567749, 2.1793153285980225, 2.188295602798462, 2.1928646564483643, 2.1863820552825928, 2.182185411453247, 2.1889455318450928, 2.1956288814544678, 2.1873273849487305, 2.1899447441101074, 2.19358491897583, 2.1984288692474365, 2.195796251296997, 2.1816070079803467, 2.1926169395446777, 2.1933176517486572, 2.185680389404297, 2.182844877243042, 2.1889517307281494, 2.1842949390411377, 2.2042412757873535, 2.1881144046783447, 2.1823983192443848, 2.2003977298736572, 2.1963114738464355, 2.202904462814331, 2.1887950897216797, 2.1831741333007812, 2.1949143409729004, 2.1852762699127197, 2.1897530555725098, 2.188647985458374, 2.1942710876464844, 2.1873390674591064, 2.199091911315918, 2.190197229385376, 2.192875862121582, 2.1878557205200195, 2.2076804637908936, 2.1752383708953857, 2.18009090423584, 2.19210147857666, 2.1655542850494385, 2.187162160873413, 2.1734259128570557, 2.184004545211792, 2.192913293838501, 2.1897644996643066, 2.190545082092285, 2.1853268146514893, 2.1977829933166504, 2.2043657302856445, 2.173635482788086, 2.1846251487731934, 2.1951863765716553, 2.1849184036254883, 2.184155225753784, 2.1907851696014404, 2.173692226409912, 2.1776649951934814, 2.172011375427246, 2.1866743564605713, 2.1893153190612793, 2.186060667037964, 2.188697099685669, 2.183255195617676, 2.18168568611145, 2.174609422683716, 2.178129196166992, 2.190406084060669, 2.1933741569519043, 2.1831607818603516, 2.192351818084717, 2.1755752563476562, 2.1828980445861816, 2.1836206912994385, 2.178163766860962, 2.1788432598114014, 2.187537431716919, 2.1849920749664307, 2.1780169010162354, 2.191026210784912, 2.1813530921936035, 2.1674742698669434, 2.1894524097442627, 2.171161413192749, 2.1807925701141357, 2.178159713745117, 2.174645185470581, 2.1833150386810303, 2.189574956893921, 2.1837737560272217, 2.1699204444885254, 2.1867711544036865, 2.187211751937866, 2.1706719398498535, 2.1828136444091797, 2.1653552055358887, 2.185246467590332, 2.178945541381836, 2.185492515563965, 2.174922227859497, 2.177035331726074, 2.1758432388305664, 2.1782565116882324, 2.1752007007598877, 2.1774380207061768, 2.1815037727355957, 2.183004140853882, 2.169417142868042, 2.1742382049560547, 2.192009687423706, 2.180222749710083, 2.1766788959503174, 2.1676976680755615, 2.1642425060272217, 2.167914628982544, 2.1591131687164307, 2.175394296646118, 2.1696953773498535, 2.1817069053649902, 2.183227300643921, 2.1874027252197266, 2.1736013889312744, 2.1508641242980957, 2.1728098392486572, 2.163520097732544, 2.1657283306121826, 2.180685520172119, 2.169893264770508, 2.1701202392578125, 2.1688644886016846, 2.169735908508301, 2.1845180988311768, 2.1650917530059814, 2.1636083126068115, 2.1811132431030273, 2.1698577404022217, 2.1850426197052, 2.1722660064697266, 2.1606438159942627, 2.170431137084961, 2.1680409908294678, 2.155513286590576, 2.16819167137146, 2.1655399799346924, 2.172426700592041, 2.1703476905822754, 2.1711957454681396, 2.175753593444824, 2.14629864692688, 2.1778366565704346, 2.1631176471710205, 2.1824822425842285, 2.1652965545654297, 2.146742582321167, 2.1716392040252686, 2.1550452709198, 2.153343439102173, 2.162102460861206, 2.1755130290985107, 2.1719276905059814, 2.1693098545074463, 2.170534610748291, 2.172281265258789, 2.1634328365325928, 2.1802871227264404, 2.1417627334594727, 2.177199602127075, 2.1654131412506104, 2.147836208343506, 2.1768674850463867, 2.1641428470611572, 2.1830496788024902, 2.1599204540252686, 2.1535215377807617, 2.1632564067840576, 2.16662859916687, 2.1538538932800293, 2.1508119106292725, 2.1479008197784424, 2.1697020530700684, 2.1755611896514893, 2.1554839611053467, 2.175370931625366, 2.175868034362793, 2.1608941555023193, 2.1682193279266357, 2.157376766204834, 2.1654157638549805, 2.1606969833374023, 2.1678872108459473, 2.168680191040039, 2.165799856185913, 2.170083522796631, 2.165198564529419, 2.1597166061401367, 2.1665198802948, 2.163412094116211, 2.1629977226257324, 2.1501901149749756, 2.1490180492401123, 2.1624536514282227, 2.16066837310791, 2.1587209701538086, 2.1629793643951416, 2.154214859008789, 2.15729022026062, 2.152453899383545, 2.1439731121063232, 2.152427911758423, 2.1668460369110107, 2.1447129249572754, 2.1646337509155273, 2.138934373855591, 2.1594226360321045, 2.1544458866119385, 2.1686558723449707, 2.1688222885131836, 2.1584579944610596, 2.1494903564453125, 2.1523189544677734, 2.160680055618286, 2.146961212158203, 2.158139944076538, 2.157968521118164, 2.17518949508667, 2.1715455055236816, 2.1642532348632812, 2.1746561527252197, 2.1617469787597656, 2.1583707332611084, 2.1453745365142822, 2.159916877746582, 2.14516544342041, 2.163830518722534, 2.1427695751190186, 2.140538454055786, 2.1462090015411377, 2.143362045288086, 2.155841112136841, 2.134941816329956, 2.147343873977661, 2.1510732173919678, 2.1545145511627197, 2.1314713954925537, 2.162933349609375, 2.134085178375244, 2.147054672241211, 2.149890422821045, 2.1563961505889893, 2.149998664855957, 2.129873037338257, 2.1465671062469482, 2.145958423614502, 2.1497011184692383, 2.1466777324676514, 2.1511852741241455, 2.146244525909424, 2.138047933578491, 2.144296407699585, 2.135511636734009, 2.163639783859253, 2.1342155933380127, 2.1440563201904297, 2.133819580078125, 2.1622283458709717, 2.135404348373413, 2.1637206077575684, 2.167651891708374, 2.1157240867614746, 2.133077383041382, 2.139686346054077, 2.1395604610443115, 2.122805118560791, 2.147054672241211, 2.1632285118103027, 2.150561809539795, 2.1605072021484375, 2.145291566848755, 2.1464312076568604, 2.144186019897461, 2.1642038822174072, 2.143817186355591, 2.144075632095337, 2.1462364196777344, 2.136742115020752, 2.151245594024658, 2.142611265182495, 2.147894859313965, 2.1429989337921143, 2.132829189300537, 2.137082576751709, 2.1325972080230713, 2.1434340476989746, 2.128889560699463, 2.142622470855713, 2.145393133163452, 2.1380019187927246, 2.1549489498138428, 2.1562163829803467, 2.1458311080932617, 2.1453042030334473, 2.1198413372039795, 2.140993356704712, 2.130354881286621, 2.144561529159546, 2.160400152206421, 2.1491336822509766, 2.1399431228637695, 2.1401166915893555, 2.1326515674591064, 2.151934862136841, 2.1410419940948486, 2.1431450843811035, 2.140354871749878, 2.1287500858306885, 2.144059658050537, 2.1319711208343506, 2.1185736656188965, 2.129972457885742, 2.1283528804779053, 2.1369805335998535, 2.155036211013794, 2.118772268295288, 2.1370534896850586, 2.13203501701355, 2.1537294387817383, 2.12955641746521, 2.1326475143432617, 2.1175382137298584, 2.1148056983947754, 2.1326541900634766, 2.126394748687744, 2.1446640491485596, 2.118467330932617, 2.122926712036133, 2.113945722579956, 2.1453354358673096, 2.1360247135162354, 2.1267576217651367, 2.135333299636841, 2.1405465602874756, 2.146219491958618, 2.114882469177246, 2.1368072032928467, 2.119671106338501, 2.1285653114318848, 2.12176251411438, 2.134697914123535, 2.1305794715881348, 2.126894235610962, 2.116792917251587, 2.125058889389038, 2.136070489883423, 2.1291353702545166, 2.134063482284546, 2.1227285861968994, 2.1357414722442627, 2.136206865310669, 2.1410694122314453, 2.104926347732544, 2.121976613998413, 2.130918025970459, 2.1338770389556885, 2.1211097240448, 2.118889093399048, 2.1208415031433105, 2.142146348953247, 2.136223316192627, 2.1097145080566406, 2.13077449798584, 2.1238667964935303, 2.109459161758423, 2.126549482345581, 2.1238443851470947, 2.1035351753234863, 2.1080751419067383, 2.1125171184539795, 2.1162946224212646, 2.126354694366455, 2.146150827407837, 2.108513832092285, 2.1235857009887695, 2.119781494140625, 2.1410746574401855, 2.112809181213379, 2.1242575645446777, 2.1083273887634277, 2.1338624954223633, 2.1087377071380615, 2.1325206756591797, 2.1128950119018555, 2.1168882846832275, 2.1261329650878906, 2.126110792160034, 2.1149401664733887, 2.1317930221557617, 2.13248348236084, 2.1104984283447266, 2.107084274291992, 2.1159346103668213, 2.1107683181762695, 2.109814405441284, 2.1348519325256348, 2.124389410018921, 2.110753297805786, 2.1051268577575684, 2.1254491806030273, 2.089815616607666, 2.0993523597717285, 2.1290111541748047, 2.108525276184082, 2.1287336349487305, 2.109445571899414, 2.127213478088379, 2.1071112155914307, 2.110149621963501, 2.108065128326416, 2.0940473079681396, 2.0918161869049072, 2.126631021499634, 2.106388807296753, 2.0940775871276855, 2.1142544746398926, 2.116948127746582, 2.118887186050415, 2.1107583045959473, 2.087449789047241, 2.113671064376831, 2.0991873741149902, 2.1039562225341797, 2.115079879760742, 2.1014609336853027, 2.1143176555633545, 2.0786123275756836, 2.1302988529205322, 2.108863592147827, 2.120467185974121, 2.0965192317962646, 2.0890536308288574, 2.104310989379883, 2.0844249725341797, 2.111887216567993, 2.109741449356079, 2.0958614349365234, 2.1165404319763184, 2.0910820960998535, 2.1039485931396484, 2.127821922302246, 2.096992254257202, 2.112109422683716, 2.087796926498413, 2.118199586868286, 2.080817937850952, 2.110025644302368, 2.106292486190796, 2.1053874492645264, 2.1014461517333984, 2.106113910675049, 2.099459171295166, 2.1056694984436035, 2.107719659805298, 2.0951216220855713, 2.0960211753845215, 2.101296901702881, 2.103649616241455, 2.0841312408447266, 2.0881917476654053, 2.080228805541992, 2.0877039432525635, 2.114297389984131, 2.1057944297790527, 2.0920798778533936, 2.0865583419799805, 2.103574752807617, 2.1006886959075928, 2.101046562194824, 2.1075124740600586, 2.1052799224853516, 2.106142997741699, 2.0814902782440186, 2.1049840450286865, 2.0869510173797607, 2.1061789989471436, 2.0810093879699707, 2.0923027992248535, 2.0933120250701904, 2.093397378921509, 2.095978021621704, 2.1126718521118164, 2.0739529132843018, 2.1055402755737305, 2.07682204246521, 2.100268602371216, 2.094789505004883, 2.080179214477539, 2.105548143386841, 2.097346544265747, 2.0782406330108643, 2.0701215267181396, 2.0807318687438965, 2.0834341049194336, 2.079141139984131, 2.0859122276306152, 2.076045036315918, 2.094540596008301, 2.0928683280944824, 2.0707781314849854, 2.0828213691711426, 2.1119608879089355, 2.083747148513794, 2.0924036502838135, 2.0787529945373535, 2.1028337478637695, 2.071645736694336, 2.083707094192505, 2.0914711952209473, 2.0900228023529053, 2.0912559032440186, 2.0657875537872314, 2.0981290340423584, 2.097278356552124, 2.10616397857666, 2.0775105953216553, 2.079629898071289, 2.0803732872009277, 2.1012320518493652, 2.096649408340454, 2.085465431213379, 2.074876308441162, 2.083536148071289, 2.0634288787841797, 2.0789921283721924, 2.0697929859161377, 2.067833662033081, 2.0774147510528564, 2.0926828384399414, 2.114783525466919, 2.1027143001556396, 2.0943329334259033, 2.075990915298462, 2.1051766872406006, 2.098968267440796, 2.0818910598754883, 2.0411689281463623, 2.083617925643921, 2.0744729042053223, 2.0797133445739746, 2.069114923477173, 2.0709073543548584, 2.0709645748138428, 2.0798118114471436, 2.0616211891174316, 2.0676727294921875, 2.0480501651763916, 2.075099229812622, 2.0637738704681396, 2.1125292778015137, 2.0924031734466553, 2.0702829360961914, 2.1028270721435547, 2.0698037147521973, 2.067808151245117, 2.0669095516204834, 2.0805563926696777, 2.075385808944702, 2.0830228328704834, 2.056978702545166, 2.0608601570129395, 2.0492730140686035, 2.0740749835968018, 2.076728582382202, 2.0523693561553955, 2.0389575958251953, 2.0799341201782227, 2.0765576362609863, 2.0801806449890137, 2.0590736865997314, 2.0553014278411865, 2.08484148979187, 2.0750739574432373, 2.091519594192505, 2.0566983222961426, 2.0784451961517334, 2.0807764530181885, 2.082608699798584, 2.0645298957824707, 2.053246259689331, 2.051760673522949, 2.05188250541687, 2.0737485885620117, 2.038881540298462, 2.0592479705810547, 2.0641584396362305, 2.0797743797302246, 2.0648303031921387, 2.057443380355835, 2.0585060119628906, 2.0612404346466064, 2.0774762630462646, 2.0357296466827393, 2.0470969676971436, 2.060342311859131, 2.051121473312378, 2.0421926975250244, 2.0583314895629883, 2.0653226375579834, 2.0444772243499756, 2.0574886798858643, 2.0617122650146484, 2.072132110595703, 2.0685536861419678, 2.0410044193267822, 2.0596907138824463, 2.064420223236084, 2.049604892730713, 2.034933567047119, 2.053633689880371, 2.0426180362701416, 2.085139513015747, 2.0486676692962646, 2.0393805503845215, 2.070007562637329, 2.0589852333068848, 2.08272385597229, 2.05096697807312, 2.0411276817321777, 2.060016393661499, 2.0445709228515625, 2.053986072540283, 2.0546910762786865, 2.061758041381836, 2.0519826412200928, 2.073263645172119, 2.054105281829834, 2.061781406402588, 2.0455307960510254, 2.0905771255493164, 2.028658866882324, 2.0338284969329834, 2.0573410987854004, 2.005476474761963, 2.041689872741699, 2.0186986923217773, 2.034433126449585, 2.0612542629241943, 2.059433937072754, 2.056109666824341, 2.0424630641937256, 2.0737502574920654, 2.0868144035339355, 2.0239145755767822, 2.046969413757324, 2.0656161308288574, 2.0418076515197754, 2.0413899421691895, 2.0582170486450195, 2.02217435836792, 2.029768466949463, 2.0186116695404053, 2.0510387420654297, 2.0576555728912354, 2.0505318641662598, 2.0603556632995605, 2.0442914962768555, 2.0305099487304688, 2.029176950454712, 2.029177188873291, 2.056183099746704, 2.0548431873321533, 2.0373916625976562, 2.063601016998291, 2.0236666202545166, 2.0445852279663086, 2.046715259552002, 2.0307443141937256, 2.034003973007202, 2.049679756164551, 2.0439326763153076, 2.032712936401367, 2.056615114212036, 2.033938407897949, 2.0101842880249023, 2.0573360919952393, 2.0119545459747314, 2.0390501022338867, 2.03281831741333, 2.0279719829559326, 2.0401108264923096, 2.0538523197174072, 2.045133352279663, 2.013061761856079, 2.046764373779297, 2.042886257171631, 2.0153746604919434, 2.044335126876831, 2.0083706378936768, 2.0442769527435303, 2.029160976409912, 2.0448896884918213, 2.0264949798583984, 2.0300545692443848, 2.0303666591644287, 2.0318028926849365, 2.029996871948242, 2.0278851985931396, 2.034926652908325, 2.046022415161133, 2.0193288326263428, 2.0218474864959717, 2.06154203414917, 2.036973237991333, 2.029709577560425, 2.007843494415283, 2.0001254081726074, 2.012728214263916, 1.9985417127609253, 2.0234670639038086, 2.016862392425537, 2.037384033203125, 2.04085636138916, 2.0550577640533447, 2.020911693572998, 1.9790230989456177, 2.0243444442749023, 2.0012009143829346, 2.0069174766540527, 2.0358693599700928, 2.0173180103302, 2.0205612182617188, 2.0175535678863525, 2.0246329307556152, 2.0447192192077637, 2.0069243907928467, 2.0076956748962402, 2.036388635635376, 2.0112056732177734, 2.042478561401367, 2.0280332565307617, 1.9988758563995361, 2.017082929611206, 2.0141632556915283, 1.9863492250442505, 2.0147485733032227, 2.0067436695098877, 2.0251832008361816, 2.0186214447021484, 2.0283455848693848, 2.032301425933838, 1.9707180261611938, 2.033390760421753, 2.003803253173828, 2.041229486465454, 2.0073533058166504, 1.9782730340957642, 2.0232443809509277, 1.9853726625442505, 1.9880523681640625, 2.001095771789551, 2.032181739807129, 2.0167791843414307, 2.017385959625244, 2.0175442695617676, 2.01853084564209, 2.0007238388061523, 2.0318286418914795, 1.963105320930481, 2.036611557006836, 2.0145864486694336, 1.9802573919296265, 2.0334997177124023, 2.009004592895508, 2.0396041870117188, 2.000380754470825, 1.9857252836227417, 2.0036070346832275, 2.0141565799713135, 1.9873536825180054, 1.9802970886230469, 1.9769195318222046, 2.0147080421447754, 2.025247573852539, 1.9983340501785278, 2.031221628189087, 2.0309083461761475, 1.9978665113449097, 2.019015073776245, 1.9924187660217285, 2.007397413253784, 2.000579595565796, 2.0119924545288086, 2.0201070308685303, 2.011201858520508, 2.020958423614502, 2.010303258895874, 2.0007686614990234, 2.009006977081299, 2.008324384689331, 2.0084128379821777, 1.9828126430511475, 1.9825859069824219, 2.0047411918640137, 2.0021588802337646, 1.9979701042175293, 2.006438970565796, 1.994047999382019, 1.9976650476455688, 1.9907530546188354, 1.9728078842163086, 1.9879907369613647, 2.012955904006958, 1.9701310396194458, 2.012009382247925, 1.9683468341827393, 2.0005128383636475, 1.9931080341339111, 2.0200929641723633, 2.0166919231414795, 1.9959636926651, 1.982753872871399, 1.986687421798706, 2.006535291671753, 1.9767394065856934, 1.9985946416854858, 2.0046679973602295, 2.0273075103759766, 2.0239734649658203, 2.0134973526000977, 2.0340471267700195, 2.0110795497894287, 1.9965587854385376, 1.970415472984314, 2.007674217224121, 1.9760193824768066, 2.0110678672790527, 1.9768832921981812, 1.9686784744262695, 1.9787825345993042, 1.9747200012207031, 1.9996458292007446, 1.9551142454147339, 1.9739773273468018, 1.9868847131729126, 1.9911630153656006, 1.9500242471694946, 2.007499933242798, 1.954161524772644, 1.9766044616699219, 1.9844024181365967, 2.0042192935943604, 1.9833544492721558, 1.9459549188613892, 1.9822094440460205, 1.976719856262207, 1.9857951402664185, 1.9751722812652588, 1.9869353771209717, 1.9812076091766357, 1.9665985107421875, 1.975364327430725, 1.960202932357788, 2.0118017196655273, 1.9547218084335327, 1.9731261730194092, 1.9583756923675537, 2.0091865062713623, 1.9539698362350464, 2.012539863586426, 2.0174803733825684, 1.9267375469207764, 1.9542758464813232, 1.9659134149551392, 1.9686779975891113, 1.9375195503234863, 1.9788378477096558, 2.0169484615325928, 1.9870773553848267, 2.000899314880371, 1.9817001819610596, 1.983199119567871, 1.9791024923324585, 2.014786720275879, 1.975128173828125, 1.9762542247772217, 1.9791418313980103, 1.963860034942627, 1.9912941455841064, 1.9775269031524658, 1.986360788345337, 1.9728045463562012, 1.9573686122894287, 1.9642400741577148, 1.9588613510131836, 1.983880639076233, 1.952266812324524, 1.9733893871307373, 1.9781492948532104, 1.9728116989135742, 1.9965323209762573, 1.9973797798156738, 1.9747694730758667, 1.979594111442566, 1.933152198791504, 1.9689785242080688, 1.9547836780548096, 1.9769270420074463, 2.008122444152832, 1.987848162651062, 1.9736757278442383, 1.9758284091949463, 1.958214521408081, 1.9980261325836182, 1.9794001579284668, 1.9726669788360596, 1.9721320867538452, 1.9520773887634277, 1.985520362854004, 1.9562183618545532, 1.9272470474243164, 1.9532716274261475, 1.9498612880706787, 1.9687319993972778, 1.9967683553695679, 1.9310812950134277, 1.9676753282546997, 1.9589534997940063, 1.9961398839950562, 1.9544541835784912, 1.9581708908081055, 1.9379456043243408, 1.9273834228515625, 1.9646780490875244, 1.9493156671524048, 1.9863682985305786, 1.9382973909378052, 1.946190595626831, 1.9231234788894653, 1.984315037727356, 1.9660590887069702, 1.9525986909866333, 1.970085620880127, 1.9721183776855469, 1.9829635620117188, 1.9329097270965576, 1.9692801237106323, 1.9381585121154785, 1.9534850120544434, 1.9466466903686523, 1.9693478345870972, 1.9488452672958374, 1.9537698030471802, 1.9402226209640503, 1.9541860818862915, 1.9688351154327393, 1.953892469406128, 1.9690568447113037, 1.9445074796676636, 1.9679428339004517, 1.9711662530899048, 1.9768035411834717, 1.9167568683624268, 1.9399152994155884, 1.959733247756958, 1.965112566947937, 1.9438494443893433, 1.9368704557418823, 1.947036862373352, 1.9804638624191284, 1.9685992002487183, 1.924797773361206, 1.9600844383239746, 1.9433552026748657, 1.9257910251617432, 1.9546716213226318, 1.9525567293167114, 1.9115458726882935, 1.9190782308578491, 1.932747483253479, 1.9377598762512207, 1.9561986923217773, 1.988000512123108, 1.9224873781204224, 1.9480420351028442, 1.9440176486968994, 1.9791194200515747, 1.931624412536621, 1.952163577079773, 1.9229735136032104, 1.9690229892730713, 1.9225363731384277, 1.9657025337219238, 1.9341256618499756, 1.938035249710083, 1.9576836824417114, 1.9575847387313843, 1.9354960918426514, 1.9627763032913208, 1.963279128074646, 1.931861400604248, 1.9266546964645386, 1.9358676671981812, 1.9235622882843018, 1.9279991388320923, 1.9713362455368042, 1.953148365020752, 1.9289500713348389, 1.9185746908187866, 1.9575151205062866, 1.8946983814239502, 1.9081424474716187, 1.957236647605896, 1.9230915307998657, 1.9651507139205933, 1.927919626235962, 1.9572021961212158, 1.9243258237838745, 1.9270050525665283, 1.933355450630188, 1.9054937362670898, 1.8993433713912964, 1.9622759819030762, 1.9258536100387573, 1.9108985662460327, 1.9425522089004517, 1.9419995546340942, 1.9464033842086792, 1.9292378425598145, 1.8965905904769897, 1.9384753704071045, 1.91872239112854, 1.9236726760864258, 1.9421519041061401, 1.9160658121109009, 1.9335917234420776, 1.8749836683273315, 1.969390869140625, 1.931037425994873, 1.9433403015136719, 1.9167201519012451, 1.9016746282577515, 1.928151249885559, 1.889085292816162, 1.9355778694152832, 1.927880048751831, 1.9082096815109253, 1.948866844177246, 1.9074894189834595, 1.9297053813934326, 1.9566847085952759, 1.9185423851013184, 1.936375379562378, 1.9002740383148193, 1.9497969150543213, 1.8874973058700562, 1.9346058368682861, 1.9278935194015503, 1.9245365858078003, 1.914487600326538, 1.920831322669983, 1.9133108854293823, 1.9315669536590576, 1.93990159034729, 1.9057410955429077, 1.9144680500030518, 1.926135540008545, 1.9248881340026855, 1.890254259109497, 1.902822732925415, 1.891392469406128, 1.8947323560714722, 1.9421213865280151, 1.9267680644989014, 1.906229853630066, 1.897464632987976, 1.9290626049041748, 1.9222334623336792, 1.9235451221466064, 1.9343353509902954, 1.9292476177215576, 1.927563190460205, 1.889328122138977, 1.928231954574585, 1.8985798358917236, 1.932647705078125, 1.892892599105835, 1.911647081375122, 1.9118788242340088, 1.9151175022125244, 1.9234205484390259, 1.9430073499679565, 1.8814047574996948, 1.933933138847351, 1.884751796722412, 1.9230046272277832, 1.9136508703231812, 1.8908389806747437, 1.9355599880218506, 1.9207470417022705, 1.8901453018188477, 1.8819633722305298, 1.8908885717391968, 1.8945280313491821, 1.8882646560668945, 1.9037010669708252, 1.886069655418396, 1.9153928756713867, 1.9120047092437744, 1.8823304176330566, 1.9040591716766357, 1.9422616958618164, 1.8968380689620972, 1.9168490171432495, 1.891432762145996, 1.931839942932129, 1.8755123615264893, 1.894505500793457, 1.918752908706665, 1.9043281078338623, 1.9172124862670898, 1.8730906248092651, 1.9197595119476318, 1.917834758758545, 1.9367103576660156, 1.8967872858047485, 1.8956120014190674, 1.8968756198883057, 1.9253116846084595, 1.92452073097229, 1.9035600423812866, 1.8881933689117432, 1.9013197422027588, 1.8763362169265747, 1.8964653015136719, 1.8816773891448975, 1.875840187072754, 1.888229250907898, 1.9143719673156738, 1.9468166828155518, 1.9272093772888184, 1.9230808019638062, 1.9004731178283691, 1.9461407661437988, 1.9252607822418213, 1.9036602973937988, 1.8366130590438843, 1.9057458639144897, 1.8869885206222534, 1.901846170425415, 1.8740410804748535, 1.8869339227676392, 1.8906079530715942, 1.894551396369934, 1.870603084564209, 1.8759126663208008, 1.845797061920166, 1.8883668184280396, 1.876862645149231, 1.9474581480026245, 1.9181599617004395, 1.8915565013885498, 1.935113549232483, 1.8780499696731567, 1.8769909143447876, 1.8773423433303833, 1.899430751800537, 1.8944514989852905, 1.9017807245254517, 1.865507960319519, 1.8706488609313965, 1.848595142364502, 1.8922488689422607, 1.8961398601531982, 1.8590621948242188, 1.8393875360488892, 1.9040058851242065, 1.8961668014526367, 1.9023864269256592, 1.8727160692214966, 1.868026852607727, 1.9194966554641724, 1.9009687900543213, 1.9191291332244873, 1.8634443283081055, 1.9038186073303223, 1.9046013355255127, 1.9099318981170654, 1.8841416835784912, 1.858974575996399, 1.8543227910995483, 1.8594565391540527, 1.889633297920227, 1.8459196090698242, 1.8722490072250366, 1.8807557821273804, 1.9117671251296997, 1.8891445398330688, 1.870650053024292, 1.8772532939910889, 1.8779290914535522, 1.9009661674499512, 1.8421435356140137, 1.8532251119613647, 1.8745245933532715, 1.8687058687210083, 1.851141333580017, 1.8799701929092407, 1.885752558708191, 1.8502100706100464, 1.8801275491714478, 1.8828644752502441, 1.8969088792800903, 1.8949922323226929, 1.8510940074920654, 1.8791908025741577, 1.8884762525558472, 1.8625646829605103, 1.8425874710083008, 1.8705928325653076, 1.8518142700195312, 1.9192386865615845, 1.8636062145233154, 1.8460230827331543, 1.8942039012908936, 1.8733326196670532, 1.9123306274414062, 1.863885760307312, 1.8513063192367554, 1.8765002489089966, 1.8583133220672607, 1.873354434967041, 1.8736720085144043, 1.880408763885498, 1.8683838844299316, 1.897423505783081, 1.8767024278640747, 1.8858174085617065, 1.857997179031372, 1.9261670112609863, 1.8412690162658691, 1.8416721820831299, 1.880316138267517, 1.8105864524841309, 1.8548038005828857, 1.8257145881652832, 1.8378891944885254, 1.8836894035339355, 1.8879131078720093, 1.8783175945281982, 1.8565993309020996, 1.9081721305847168, 1.9271539449691772, 1.8337855339050293, 1.8684289455413818, 1.8867003917694092, 1.856021523475647, 1.8595457077026367, 1.8869695663452148, 1.8296688795089722, 1.8428149223327637, 1.8263620138168335, 1.875461459159851, 1.885596752166748, 1.8719967603683472, 1.8919556140899658, 1.8638854026794434, 1.8402611017227173, 1.8438982963562012, 1.8433847427368164, 1.8802739381790161, 1.875800609588623, 1.8480491638183594, 1.8929109573364258, 1.831281304359436, 1.8707836866378784, 1.8698850870132446, 1.8427730798721313, 1.8541085720062256, 1.867762565612793, 1.8656935691833496, 1.8507776260375977, 1.8801679611206055, 1.8476052284240723, 1.8192373514175415, 1.8861621618270874, 1.817479133605957, 1.8606512546539307, 1.8505265712738037, 1.8441026210784912, 1.8572241067886353, 1.881759524345398, 1.8654588460922241, 1.8270411491394043, 1.8695671558380127, 1.8561811447143555, 1.8238056898117065, 1.8670201301574707, 1.8190072774887085, 1.8650680780410767, 1.8390384912490845, 1.8632179498672485, 1.8413615226745605, 1.8468759059906006, 1.8492769002914429, 1.8498080968856812, 1.849385380744934, 1.8403687477111816, 1.8527854681015015, 1.8725066184997559, 1.8410075902938843, 1.8371549844741821, 1.8976597785949707, 1.8637293577194214, 1.8474643230438232, 1.8199669122695923, 1.7998639345169067, 1.8254352807998657, 1.8165206909179688, 1.8435859680175781, 1.8384181261062622, 1.8607978820800781, 1.8637775182724, 1.8883652687072754, 1.8364773988723755, 1.7823023796081543, 1.8462541103363037, 1.810888409614563, 1.824678897857666, 1.8532319068908691, 1.8346439599990845, 1.8460496664047241, 1.8395875692367554, 1.8581442832946777, 1.8709497451782227, 1.8188062906265259, 1.8255804777145386, 1.8597662448883057, 1.8292659521102905, 1.86493718624115, 1.856081485748291, 1.8105851411819458, 1.8367297649383545, 1.8346487283706665, 1.797439455986023, 1.8372454643249512, 1.8240257501602173, 1.846919059753418, 1.8413517475128174, 1.8649433851242065, 1.8607547283172607, 1.7765198945999146, 1.8577669858932495, 1.8182785511016846, 1.866302490234375, 1.8233764171600342, 1.789951205253601, 1.8519254922866821, 1.7966110706329346, 1.8015007972717285, 1.820097804069519, 1.864081859588623, 1.8359026908874512, 1.8400282859802246, 1.8419477939605713, 1.8380357027053833, 1.8121951818466187, 1.8577613830566406, 1.7684087753295898, 1.8722728490829468, 1.8415685892105103, 1.7971159219741821, 1.8619533777236938, 1.8345482349395752, 1.8686717748641968, 1.8223332166671753, 1.7994194030761719, 1.8236044645309448, 1.8387482166290283, 1.7973164319992065, 1.7949490547180176, 1.7923903465270996, 1.8420225381851196, 1.8565106391906738, 1.8216758966445923, 1.861494541168213, 1.8716371059417725, 1.8142961263656616, 1.8461899757385254, 1.8078068494796753, 1.831196904182434, 1.8207426071166992, 1.8346002101898193, 1.8526043891906738, 1.83882737159729, 1.8468735218048096, 1.837317943572998, 1.8292814493179321, 1.8320285081863403, 1.8415204286575317, 1.8346980810165405, 1.8065229654312134, 1.8050132989883423, 1.8316984176635742, 1.8281766176223755, 1.8174259662628174, 1.835655689239502, 1.8279494047164917, 1.8240855932235718, 1.8180339336395264, 1.7927584648132324, 1.809417724609375, 1.8420321941375732, 1.7836636304855347, 1.8428879976272583, 1.7959803342819214, 1.825953483581543, 1.8185515403747559, 1.8529430627822876, 1.8444312810897827, 1.8184443712234497, 1.8051180839538574, 1.8107209205627441, 1.8369801044464111, 1.8014006614685059, 1.8267854452133179, 1.8354551792144775, 1.8591848611831665, 1.855771780014038, 1.8458197116851807, 1.8723522424697876, 1.847643256187439, 1.8197892904281616, 1.7874804735183716, 1.8486659526824951, 1.800026535987854, 1.845341444015503, 1.810947299003601, 1.7912179231643677, 1.804826021194458, 1.7959167957305908, 1.8379151821136475, 1.7740498781204224, 1.7984651327133179, 1.818158745765686, 1.820958137512207, 1.7646498680114746, 1.8425043821334839, 1.7733442783355713, 1.7988028526306152, 1.8097745180130005, 1.8412033319473267, 1.8120248317718506, 1.7624635696411133, 1.8121085166931152, 1.800689697265625, 1.8175653219223022, 1.7992597818374634, 1.8163317441940308, 1.8149646520614624, 1.7970598936080933, 1.803154468536377, 1.7873839139938354, 1.851403832435608, 1.7767084836959839, 1.7990622520446777, 1.7826659679412842, 1.8480209112167358, 1.7713572978973389, 1.8542355298995972, 1.8586127758026123, 1.7479443550109863, 1.7769334316253662, 1.7907514572143555, 1.791526436805725, 1.7571388483047485, 1.8021037578582764, 1.8729612827301025, 1.8157739639282227, 1.8300142288208008, 1.8172447681427002, 1.8194689750671387, 1.8151588439941406, 1.860653281211853, 1.8038887977600098, 1.809565782546997, 1.810370683670044, 1.793419599533081, 1.8266445398330688, 1.8106399774551392, 1.823948860168457, 1.8038697242736816, 1.7920525074005127, 1.7920953035354614, 1.788554072380066, 1.8297594785690308, 1.7805321216583252, 1.797478199005127, 1.808164119720459, 1.808512568473816, 1.8331352472305298, 1.8318572044372559, 1.799405574798584, 1.8136036396026611, 1.7617895603179932, 1.7959133386611938, 1.7843146324157715, 1.8108601570129395, 1.8474853038787842, 1.8258663415908813, 1.8112722635269165, 1.8149466514587402, 1.7899351119995117, 1.8442409038543701, 1.8231631517410278, 1.8016717433929443, 1.813096284866333, 1.7809540033340454, 1.8263251781463623, 1.783534288406372, 1.748701572418213, 1.7834649085998535, 1.7778925895690918, 1.811332106590271, 1.8307080268859863, 1.754359245300293, 1.8035101890563965, 1.7934139966964722, 1.8367820978164673, 1.7872827053070068, 1.7913638353347778, 1.7752330303192139, 1.7532095909118652, 1.8073066473007202, 1.7807223796844482, 1.8363591432571411, 1.7707335948944092, 1.7834887504577637, 1.746127724647522, 1.8262547254562378, 1.804457187652588, 1.7830252647399902, 1.8113861083984375, 1.8056749105453491, 1.8265892267227173, 1.7660338878631592, 1.8090797662734985, 1.769860863685608, 1.7850699424743652, 1.785861611366272, 1.814050555229187, 1.7781962156295776, 1.7871688604354858, 1.7802913188934326, 1.7979798316955566, 1.8083795309066772, 1.7896814346313477, 1.8162978887557983, 1.7863435745239258, 1.811183214187622, 1.8087975978851318, 1.822872281074524, 1.747379183769226, 1.7719206809997559, 1.7980644702911377, 1.812619924545288, 1.778647780418396, 1.7685356140136719, 1.7890831232070923, 1.8233582973480225, 1.8108216524124146, 1.763100028038025, 1.805387258529663, 1.7767503261566162, 1.7663060426712036, 1.7935752868652344, 1.7987936735153198, 1.741080641746521, 1.750749111175537, 1.769645094871521, 1.7756587266921997, 1.8002440929412842, 1.8347054719924927, 1.7550857067108154, 1.787379264831543, 1.7847602367401123, 1.8236634731292725, 1.7709379196166992, 1.7915213108062744, 1.7571696043014526, 1.8184279203414917, 1.7559722661972046, 1.8148959875106812, 1.7741225957870483, 1.7749978303909302, 1.8009543418884277, 1.8010330200195312, 1.7744337320327759, 1.8014787435531616, 1.8034353256225586, 1.7783076763153076, 1.7702646255493164, 1.7749035358428955, 1.7559785842895508, 1.7656971216201782, 1.820487380027771, 1.7970855236053467, 1.7703852653503418, 1.7567520141601562, 1.7972887754440308, 1.7316802740097046, 1.7421340942382812, 1.799418330192566, 1.7582669258117676, 1.8127979040145874, 1.7693971395492554, 1.8011252880096436, 1.7652690410614014, 1.765779733657837, 1.7841557264328003, 1.7449619770050049, 1.7350741624832153, 1.8129534721374512, 1.770006537437439, 1.758135199546814, 1.788010835647583, 1.7872602939605713, 1.7917709350585938, 1.7701703310012817, 1.7373088598251343, 1.7865104675292969, 1.7671319246292114, 1.7766014337539673, 1.7882481813430786, 1.7599740028381348, 1.7697129249572754, 1.7095402479171753, 1.8244521617889404, 1.7777661085128784, 1.7869685888290405, 1.7654342651367188, 1.7468916177749634, 1.7811030149459839, 1.7277026176452637, 1.7832956314086914, 1.7676643133163452, 1.7466925382614136, 1.8048033714294434, 1.758120059967041, 1.7841943502426147, 1.8036803007125854, 1.7701419591903687, 1.7849485874176025, 1.7490354776382446, 1.7974015474319458, 1.7328941822052002, 1.7870538234710693, 1.774603247642517, 1.769675850868225, 1.751753330230713, 1.754682183265686, 1.7535040378570557, 1.7775659561157227, 1.797662615776062, 1.7446871995925903, 1.7652175426483154, 1.7824004888534546, 1.771744728088379, 1.7332912683486938, 1.752353310585022, 1.7405673265457153, 1.7369908094406128, 1.7910786867141724, 1.775402545928955, 1.7518044710159302, 1.7393499612808228, 1.7826111316680908, 1.773159146308899, 1.7716978788375854, 1.7856711149215698, 1.7790043354034424, 1.77302885055542, 1.7312718629837036, 1.7753417491912842, 1.74495267868042, 1.783354640007019, 1.7415181398391724, 1.7612003087997437, 1.7633968591690063, 1.7701354026794434, 1.7855404615402222, 1.7988117933273315, 1.7295702695846558, 1.7892571687698364, 1.7299456596374512, 1.7751970291137695, 1.7668896913528442, 1.7370550632476807, 1.791355013847351, 1.7745710611343384, 1.7398419380187988, 1.7416151762008667, 1.7387094497680664, 1.7367793321609497, 1.732347846031189, 1.755903959274292, 1.7365050315856934, 1.7681273221969604, 1.7620038986206055, 1.7374070882797241, 1.760366678237915, 1.7973500490188599, 1.74519944190979, 1.7768510580062866, 1.7364921569824219, 1.7902430295944214, 1.7170301675796509, 1.7384029626846313, 1.7780359983444214, 1.7499465942382812, 1.7797293663024902, 1.7240649461746216, 1.7699251174926758, 1.7714358568191528, 1.7930907011032104, 1.758410930633545, 1.7509742975234985, 1.750209927558899, 1.7753945589065552, 1.782090187072754, 1.7577170133590698, 1.7430001497268677, 1.7541520595550537, 1.7355133295059204, 1.7504303455352783, 1.7320127487182617, 1.7249362468719482, 1.738664984703064, 1.7672667503356934, 1.8020280599594116, 1.7814501523971558, 1.7849164009094238, 1.768426537513733, 1.8180642127990723, 1.7782793045043945, 1.7593235969543457, 1.6827080249786377, 1.7614588737487793, 1.7387957572937012, 1.7597790956497192, 1.716800332069397, 1.7449461221694946, 1.7513810396194458, 1.7517307996749878, 1.7246094942092896, 1.7260948419570923, 1.6923058032989502, 1.740817666053772, 1.732069492340088, 1.8057410717010498, 1.7732516527175903, 1.7569619417190552, 1.8001885414123535, 1.7253397703170776, 1.7253384590148926, 1.7260198593139648, 1.7563661336898804, 1.7546652555465698, 1.7554030418395996, 1.7209153175354004, 1.723209261894226, 1.6973086595535278, 1.7477281093597412, 1.7555121183395386, 1.716668725013733, 1.6926060914993286, 1.7665678262710571, 1.753495454788208, 1.7641085386276245, 1.7332549095153809, 1.727442979812622, 1.7947208881378174, 1.7695341110229492, 1.7785873413085938, 1.7169766426086426, 1.7703056335449219, 1.7615995407104492, 1.7690907716751099, 1.7447222471237183, 1.709374189376831, 1.6997631788253784, 1.7156444787979126, 1.7418216466903687, 1.7037311792373657, 1.726620078086853, 1.7368593215942383, 1.7859923839569092, 1.7555383443832397, 1.7296017408370972, 1.7411717176437378, 1.7370349168777466, 1.7616147994995117, 1.6983331441879272, 1.7094961404800415, 1.7301989793777466, 1.7329727411270142, 1.7073206901550293, 1.7435483932495117, 1.7468091249465942, 1.7064273357391357, 1.746838092803955, 1.74745774269104, 1.7619510889053345, 1.7645918130874634, 1.7042158842086792, 1.7429511547088623, 1.754683256149292, 1.7171489000320435, 1.7068731784820557, 1.7318748235702515, 1.7112797498703003, 1.789882779121399, 1.7269644737243652, 1.7019635438919067, 1.763018012046814, 1.7332463264465332, 1.7747633457183838, 1.7221962213516235, 1.7099854946136475, 1.7378953695297241, 1.7187635898590088, 1.7397620677947998, 1.7341934442520142, 1.7413831949234009, 1.7288206815719604, 1.7608325481414795, 1.7482669353485107, 1.7525395154953003, 1.7219569683074951, 1.7951874732971191, 1.7052810192108154, 1.7026199102401733, 1.7493820190429688, 1.6826287508010864, 1.722193717956543, 1.6960363388061523, 1.6950035095214844, 1.7462064027786255, 1.7579331398010254, 1.7456549406051636, 1.7222082614898682, 1.781811237335205, 1.8018481731414795, 1.6967108249664307, 1.7355148792266846, 1.7463008165359497, 1.717893123626709, 1.7282071113586426, 1.7611732482910156, 1.6918776035308838, 1.7102316617965698, 1.69085693359375, 1.7465934753417969, 1.7583290338516235, 1.7371435165405273, 1.763292670249939, 1.7293745279312134, 1.7045471668243408, 1.7049040794372559, 1.7180418968200684, 1.7492022514343262, 1.7435721158981323, 1.7053115367889404, 1.7593488693237305, 1.6901984214782715, 1.7471805810928345, 1.7371596097946167, 1.703447699546814, 1.7290740013122559, 1.7303892374038696, 1.7367156744003296, 1.719063401222229, 1.7413392066955566, 1.7120155096054077, 1.6861783266067505, 1.7560744285583496, 1.6825495958328247, 1.7301013469696045, 1.7165790796279907, 1.710033893585205, 1.7233002185821533, 1.7544121742248535, 1.7288845777511597, 1.7022056579589844, 1.744430422782898, 1.7160890102386475, 1.6856601238250732, 1.734276294708252, 1.6873762607574463, 1.730555534362793, 1.698860764503479, 1.7268974781036377, 1.7071566581726074, 1.7133175134658813, 1.715735912322998, 1.718968391418457, 1.7154616117477417, 1.7018957138061523, 1.7201249599456787, 1.7402392625808716, 1.7157551050186157, 1.7061392068862915, 1.7759438753128052, 1.741772174835205, 1.7137267589569092, 1.6929632425308228, 1.6598488092422485, 1.6898319721221924, 1.6943975687026978, 1.7211854457855225, 1.71644926071167, 1.731104850769043, 1.7358081340789795, 1.7603733539581299, 1.70717191696167, 1.6464239358901978, 1.7177324295043945, 1.6797748804092407, 1.701399326324463, 1.7144192457199097, 1.7031676769256592, 1.724429726600647, 1.7111505270004272, 1.7434680461883545, 1.7421901226043701, 1.6847281455993652, 1.6986957788467407, 1.729742169380188, 1.7084836959838867, 1.7344180345535278, 1.7305678129196167, 1.6786991357803345, 1.710301160812378, 1.7080841064453125, 1.672268033027649, 1.7132774591445923, 1.6992847919464111, 1.7133047580718994, 1.7154014110565186, 1.749045968055725, 1.7360446453094482, 1.6459659337997437, 1.728102207183838, 1.6856625080108643, 1.7345448732376099, 1.6945058107376099, 1.6606521606445312, 1.7310998439788818, 1.671846628189087, 1.6725448369979858, 1.6978503465652466, 1.741698145866394, 1.708962082862854, 1.7129271030426025, 1.718668818473816, 1.7107691764831543, 1.6785205602645874, 1.7339369058609009, 1.6401563882827759, 1.7491421699523926, 1.7161892652511597, 1.6744003295898438, 1.733615517616272, 1.712528109550476, 1.7443782091140747, 1.701321005821228, 1.6725176572799683, 1.699755072593689, 1.7126187086105347, 1.6621006727218628, 1.6714380979537964, 1.6707993745803833, 1.7247499227523804, 1.739527702331543, 1.6942338943481445, 1.7360873222351074, 1.7642254829406738, 1.6862657070159912, 1.7172987461090088, 1.6797469854354858, 1.7080668210983276, 1.696388840675354, 1.7105112075805664, 1.732627272605896, 1.7192637920379639, 1.7160600423812866, 1.7145538330078125, 1.7125177383422852, 1.709437608718872, 1.7296394109725952, 1.710740327835083, 1.6889957189559937, 1.6858388185501099, 1.710524559020996, 1.7081645727157593, 1.689211130142212, 1.7196884155273438, 1.7181164026260376, 1.7031251192092896, 1.6994335651397705, 1.6721584796905518, 1.686561942100525, 1.7235102653503418, 1.6556724309921265, 1.7213298082351685, 1.6811113357543945, 1.7033954858779907, 1.6992298364639282, 1.7318153381347656, 1.7199466228485107, 1.6962121725082397, 1.6813170909881592, 1.6934678554534912, 1.714404582977295, 1.686131477355957, 1.7083910703659058, 1.7125552892684937, 1.7354164123535156, 1.7327150106430054, 1.7291767597198486, 1.7492854595184326, 1.7316828966140747, 1.6936839818954468, 1.6631511449813843, 1.738338589668274, 1.6794734001159668, 1.7282185554504395, 1.7009251117706299, 1.6710195541381836, 1.6842854022979736, 1.6692591905593872, 1.7309144735336304, 1.6533143520355225, 1.6824901103973389, 1.706750750541687, 1.7060317993164062, 1.6422631740570068, 1.7270011901855469, 1.6570686101913452, 1.6785681247711182, 1.689839482307434, 1.7229846715927124, 1.697255253791809, 1.6418545246124268, 1.6928361654281616, 1.6810622215270996, 1.7041726112365723, 1.6789312362670898, 1.6976815462112427, 1.704013705253601, 1.6844669580459595, 1.6885565519332886, 1.6753252744674683, 1.7404847145080566, 1.6604232788085938, 1.6821104288101196, 1.663568139076233, 1.7345980405807495, 1.6505074501037598, 1.7395254373550415, 1.7460993528366089, 1.6343092918395996, 1.657150149345398, 1.6730732917785645, 1.6648647785186768, 1.6362642049789429, 1.6771923303604126, 1.7794740200042725, 1.6944361925125122, 1.7071871757507324, 1.706589698791504, 1.7068390846252441, 1.7035632133483887, 1.7550930976867676, 1.6876509189605713, 1.695778489112854, 1.6969245672225952, 1.6786906719207764, 1.7120513916015625, 1.695881962776184, 1.7148489952087402, 1.690780520439148, 1.6879565715789795, 1.6729919910430908, 1.67207932472229, 1.7280933856964111, 1.6638176441192627, 1.671616792678833, 1.6892998218536377, 1.6910285949707031, 1.715242624282837, 1.711397409439087, 1.676377773284912, 1.7006126642227173, 1.6542788743972778, 1.6773054599761963, 1.6663923263549805, 1.6966079473495483, 1.7297468185424805, 1.7144447565078735, 1.7000949382781982, 1.7025282382965088, 1.676540732383728, 1.735884428024292, 1.7155925035476685, 1.6816295385360718, 1.711145281791687, 1.662976861000061, 1.71244478225708, 1.663218379020691, 1.6363275051116943, 1.6669551134109497, 1.6627230644226074, 1.7097625732421875, 1.7082171440124512, 1.6369857788085938, 1.6904678344726562, 1.682602047920227, 1.7262437343597412, 1.6746994256973267, 1.6801413297653198, 1.6683512926101685, 1.6402733325958252, 1.6981703042984009, 1.6653082370758057, 1.735649585723877, 1.6566370725631714, 1.6764767169952393, 1.6302709579467773, 1.7153429985046387, 1.6959939002990723, 1.6641911268234253, 1.698707938194275, 1.6872432231903076, 1.7192262411117554, 1.6520978212356567, 1.699476718902588, 1.6589549779891968, 1.6659578084945679, 1.6758065223693848, 1.7082107067108154, 1.6640233993530273, 1.6686978340148926, 1.6731860637664795, 1.6900482177734375, 1.6994102001190186, 1.6797399520874023, 1.709059715270996, 1.6862521171569824, 1.703515648841858, 1.6914620399475098, 1.7171136140823364, 1.6343389749526978, 1.6588714122772217, 1.6865248680114746, 1.7149673700332642, 1.665847897529602, 1.6546283960342407, 1.6833981275558472, 1.7090017795562744, 1.7021418809890747, 1.6616746187210083, 1.7068819999694824, 1.664370059967041, 1.6626217365264893, 1.6821417808532715, 1.6951050758361816, 1.6280009746551514, 1.6362272500991821, 1.6568373441696167, 1.665472388267517, 1.6932276487350464, 1.7254599332809448, 1.6414272785186768, 1.6775660514831543, 1.674795389175415, 1.715024709701538, 1.6657153367996216, 1.6783607006072998, 1.6448746919631958, 1.7185086011886597, 1.643418550491333, 1.712952733039856, 1.663435935974121, 1.6624009609222412, 1.6874871253967285, 1.6914138793945312, 1.6651334762573242, 1.6860231161117554, 1.6899173259735107, 1.6786919832229614, 1.6653892993927002, 1.664371132850647, 1.644444227218628, 1.6553490161895752, 1.7162580490112305, 1.6894279718399048, 1.665299892425537, 1.6512736082077026, 1.6782710552215576, 1.6255053281784058, 1.6301878690719604, 1.6915273666381836, 1.6464111804962158, 1.7036678791046143, 1.6634056568145752, 1.6914411783218384, 1.6585829257965088, 1.6587185859680176, 1.6856393814086914, 1.6379613876342773, 1.6254627704620361, 1.7081354856491089, 1.6640255451202393, 1.654009222984314, 1.6751513481140137, 1.6784296035766602, 1.6793605089187622, 1.660768985748291, 1.6339049339294434, 1.6821458339691162, 1.666804552078247, 1.6834226846694946, 1.677433729171753, 1.6562042236328125, 1.6556929349899292, 1.602169156074524, 1.7216206789016724, 1.6723289489746094, 1.6824558973312378, 1.6614272594451904, 1.6408847570419312, 1.6827425956726074, 1.619974970817566, 1.6780868768692017, 1.659889578819275, 1.6370916366577148, 1.7063822746276855, 1.6599853038787842, 1.6856878995895386, 1.697738766670227, 1.6665574312210083, 1.677849531173706, 1.6508417129516602, 1.684659481048584, 1.6318042278289795, 1.688502311706543, 1.6705354452133179, 1.664849042892456, 1.6379475593566895, 1.6346304416656494, 1.64519464969635, 1.6636955738067627, 1.699736475944519, 1.63563871383667, 1.6641278266906738, 1.686873197555542, 1.6630830764770508, 1.6298805475234985, 1.6505720615386963, 1.6433025598526, 1.6344715356826782, 1.6827435493469238, 1.6731512546539307, 1.6472303867340088, 1.631638765335083, 1.6807674169540405, 1.6726081371307373, 1.6625001430511475, 1.6802079677581787, 1.6741862297058105, 1.662770390510559, 1.6228233575820923, 1.663771152496338, 1.6415742635726929, 1.6787959337234497, 1.6391479969024658, 1.6569743156433105, 1.6611411571502686, 1.674071192741394, 1.6882421970367432, 1.6985489130020142, 1.6289509534835815, 1.685490608215332, 1.6242091655731201, 1.6727607250213623, 1.6694825887680054, 1.6273730993270874, 1.6879512071609497, 1.6712639331817627, 1.6369984149932861, 1.6536157131195068, 1.6337220668792725, 1.623801827430725, 1.6266393661499023, 1.6521708965301514, 1.6354036331176758, 1.6666182279586792, 1.6600680351257324, 1.6455992460250854, 1.659373164176941, 1.6937328577041626, 1.6383394002914429, 1.680795431137085, 1.6271873712539673, 1.6907516717910767, 1.6104813814163208, 1.6302729845046997, 1.6779371500015259, 1.6461589336395264, 1.6818095445632935, 1.6219857931137085, 1.6646002531051636, 1.6696624755859375, 1.6874209642410278, 1.6655672788619995, 1.6517142057418823, 1.6505248546600342, 1.6663117408752441, 1.683779239654541, 1.6539736986160278, 1.6436681747436523, 1.6518880128860474, 1.6369448900222778, 1.6479719877243042, 1.6293896436691284, 1.615746021270752, 1.6368293762207031, 1.6606478691101074, 1.6958858966827393, 1.6773936748504639, 1.6880384683609009, 1.67879319190979, 1.7266850471496582, 1.6703912019729614, 1.6549983024597168, 1.5760829448699951, 1.6582555770874023, 1.6378675699234009, 1.6584858894348145, 1.6071988344192505, 1.645004153251648, 1.6513270139694214, 1.6606327295303345, 1.6256331205368042, 1.6218934059143066, 1.5888798236846924, 1.6377490758895874, 1.6325180530548096, 1.7036970853805542, 1.6640554666519165, 1.6623039245605469, 1.705665946006775, 1.6181672811508179, 1.618650197982788, 1.6197443008422852, 1.6565295457839966, 1.658097743988037, 1.6527252197265625, 1.6225303411483765, 1.6202950477600098, 1.5976992845535278, 1.6439701318740845, 1.6579419374465942, 1.622930645942688, 1.5915231704711914, 1.6696140766143799, 1.6511764526367188, 1.668215036392212, 1.6370201110839844, 1.6284265518188477, 1.7060452699661255, 1.6794873476028442, 1.6766971349716187, 1.6177242994308472, 1.676660418510437, 1.6569932699203491, 1.6643245220184326, 1.6426975727081299, 1.6040557622909546, 1.5912392139434814, 1.6159698963165283, 1.6365760564804077, 1.6020067930221558, 1.6224018335342407, 1.6307357549667358, 1.6986432075500488, 1.6590133905410767, 1.6323214769363403, 1.644736647605896, 1.637861967086792, 1.6601343154907227, 1.5984621047973633, 1.6108860969543457, 1.6269878149032593, 1.6388429403305054, 1.6069637537002563, 1.643680453300476, 1.6430855989456177, 1.6091662645339966, 1.649789571762085, 1.6500564813613892, 1.6667234897613525, 1.6720927953720093, 1.5930166244506836, 1.6469569206237793, 1.6583741903305054, 1.610335111618042, 1.6151118278503418, 1.6329623460769653, 1.6157296895980835, 1.697218418121338, 1.6316815614700317, 1.6029417514801025, 1.66948664188385, 1.6325215101242065, 1.6715993881225586, 1.6202917098999023, 1.6090961694717407, 1.6409623622894287, 1.615211009979248, 1.6445229053497314, 1.6329444646835327, 1.6406406164169312, 1.6291084289550781, 1.665123701095581, 1.659182071685791, 1.6550323963165283, 1.627793550491333, 1.698215365409851, 1.6055580377578735, 1.6053105592727661, 1.6548904180526733, 1.598171591758728, 1.631865382194519, 1.6105080842971802, 1.5952825546264648, 1.6446747779846191, 1.6590957641601562, 1.649660587310791, 1.6289042234420776, 1.689531683921814, 1.706708550453186, 1.5971755981445312, 1.6370676755905151, 1.6435209512710571, 1.6161162853240967, 1.6344393491744995, 1.670319676399231, 1.595869541168213, 1.617550015449524, 1.594833493232727, 1.6538745164871216, 1.6658806800842285, 1.6361891031265259, 1.6641247272491455, 1.6312910318374634, 1.608962059020996, 1.5981441736221313, 1.6382919549942017, 1.654801368713379, 1.647186279296875, 1.6021981239318848, 1.6561284065246582, 1.5879822969436646, 1.6591953039169312, 1.6398801803588867, 1.6009215116500854, 1.6430892944335938, 1.630550742149353, 1.6442657709121704, 1.623158574104309, 1.6335214376449585, 1.6150702238082886, 1.593817114830017, 1.6595584154129028, 1.5883798599243164, 1.6333013772964478, 1.6185985803604126, 1.6104785203933716, 1.6285957098007202, 1.6591373682022095, 1.6272832155227661, 1.6152867078781128, 1.6614227294921875, 1.612980842590332, 1.5850886106491089, 1.635603904724121, 1.5940485000610352, 1.6299049854278564, 1.5984699726104736, 1.6296403408050537, 1.6084328889846802, 1.615227222442627, 1.6158829927444458, 1.6253317594528198, 1.6146262884140015, 1.598982810974121, 1.6230993270874023, 1.6379541158676147, 1.623192310333252, 1.6115585565567017, 1.6842389106750488, 1.6543898582458496, 1.614789605140686, 1.605027675628662, 1.5642826557159424, 1.5882889032363892, 1.6054188013076782, 1.636258602142334, 1.6284435987472534, 1.631949782371521, 1.6464115381240845, 1.660793662071228, 1.6178027391433716, 1.5434108972549438, 1.6213558912277222, 1.5845836400985718, 1.6156299114227295, 1.6086674928665161, 1.6053293943405151, 1.6333985328674316, 1.611175537109375, 1.6572239398956299, 1.6480554342269897, 1.5870760679244995, 1.6051100492477417, 1.6340512037277222, 1.6250238418579102, 1.6390396356582642, 1.634220004081726, 1.58026123046875, 1.6178724765777588, 1.6134408712387085, 1.5844191312789917, 1.6231433153152466, 1.6095690727233887, 1.610658884048462, 1.6213222742080688, 1.659632921218872, 1.6433796882629395, 1.5504002571105957, 1.6298695802688599, 1.5844024419784546, 1.6344799995422363, 1.6004996299743652, 1.5637917518615723, 1.6400092840194702, 1.5826283693313599, 1.5768742561340332, 1.6112966537475586, 1.6473405361175537, 1.616916537284851, 1.6165562868118286, 1.625808835029602, 1.618710994720459, 1.5805891752243042, 1.642956256866455, 1.5483486652374268, 1.6496130228042603, 1.6175298690795898, 1.583775281906128, 1.6345245838165283, 1.6206040382385254, 1.6544078588485718, 1.6160414218902588, 1.5794886350631714, 1.6093543767929077, 1.6165696382522583, 1.5610439777374268, 1.5831189155578613, 1.584021806716919, 1.640238642692566, 1.6533812284469604, 1.593827724456787, 1.637894630432129, 1.6822350025177002, 1.5917892456054688, 1.615297794342041, 1.5853784084320068, 1.6149836778640747, 1.6068629026412964, 1.619195818901062, 1.6377946138381958, 1.6305464506149292, 1.6117421388626099, 1.6197761297225952, 1.6244832277297974, 1.6196372509002686, 1.6458215713500977, 1.6156644821166992, 1.6013814210891724, 1.5971248149871826, 1.6170176267623901, 1.619218349456787, 1.5927834510803223, 1.6344311237335205, 1.6347482204437256, 1.611706256866455, 1.6081864833831787, 1.5830633640289307, 1.593804955482483, 1.637750506401062, 1.5576891899108887, 1.626468539237976, 1.5896093845367432, 1.6104170083999634, 1.6103798151016235, 1.6366533041000366, 1.6257678270339966, 1.6069434881210327, 1.583523154258728, 1.6075081825256348, 1.6160950660705566, 1.6023430824279785, 1.6195282936096191, 1.6156284809112549, 1.6374146938323975, 1.6386162042617798, 1.6435199975967407, 1.650227665901184, 1.6416064500808716, 1.5961313247680664, 1.5691131353378296, 1.650362491607666, 1.5859041213989258, 1.6383094787597656, 1.6143231391906738, 1.5783069133758545, 1.5906226634979248, 1.5681045055389404, 1.6529556512832642, 1.561741828918457, 1.595412254333496, 1.624975323677063, 1.6209235191345215, 1.5525606870651245, 1.636293888092041, 1.5745185613632202, 1.5900518894195557, 1.5995910167694092, 1.6288273334503174, 1.6133553981781006, 1.551186203956604, 1.597895860671997, 1.5918145179748535, 1.6189666986465454, 1.5860037803649902, 1.6046885251998901, 1.6216950416564941, 1.597528338432312, 1.6051225662231445, 1.5926846265792847, 1.6573443412780762, 1.5730165243148804, 1.5938060283660889, 1.5709425210952759, 1.6466392278671265, 1.5605238676071167, 1.6441155672073364, 1.658369779586792, 1.5480613708496094, 1.5624966621398926, 1.5830769538879395, 1.5616333484649658, 1.5412993431091309, 1.5800291299819946, 1.7087520360946655, 1.5991027355194092, 1.6133179664611816, 1.6232619285583496, 1.6193917989730835, 1.617026686668396, 1.6736339330673218, 1.5991261005401611, 1.606835126876831, 1.6110097169876099, 1.5901880264282227, 1.6242822408676147, 1.6076617240905762, 1.632843017578125, 1.6064002513885498, 1.612196683883667, 1.579407811164856, 1.5805716514587402, 1.6486446857452393, 1.5717211961746216, 1.572335958480835, 1.5956076383590698, 1.5940988063812256, 1.6193829774856567, 1.6143295764923096, 1.5822285413742065, 1.613622784614563, 1.5726085901260376, 1.586393117904663, 1.5709450244903564, 1.6065250635147095, 1.635866641998291, 1.628196120262146, 1.6126694679260254, 1.611223578453064, 1.5872797966003418, 1.6486282348632812, 1.629411220550537, 1.5872691869735718, 1.6348079442977905, 1.568047285079956, 1.6191972494125366, 1.5693610906600952, 1.5554184913635254, 1.5739412307739258, 1.5751380920410156, 1.6322575807571411, 1.609482765197754, 1.5467588901519775, 1.6005749702453613, 1.5964921712875366, 1.643091082572937, 1.5869287252426147, 1.5957447290420532, 1.5839964151382446, 1.555637240409851, 1.6067719459533691, 1.5722401142120361, 1.6560171842575073, 1.5656086206436157, 1.5927852392196655, 1.5402441024780273, 1.625325322151184, 1.6136956214904785, 1.5693883895874023, 1.6059653759002686, 1.5916906595230103, 1.6331950426101685, 1.5588668584823608, 1.6131291389465332, 1.5737600326538086, 1.5684311389923096, 1.5864602327346802, 1.6247116327285767, 1.5757681131362915, 1.571022629737854, 1.5874180793762207, 1.598488450050354, 1.6170419454574585, 1.5952715873718262, 1.617963433265686, 1.6103276014328003, 1.6167478561401367, 1.5952539443969727, 1.6331106424331665, 1.5439233779907227, 1.5717178583145142, 1.5978425741195679, 1.6433125734329224, 1.576478123664856, 1.5636646747589111, 1.6003831624984741, 1.6130774021148682, 1.6169793605804443, 1.5857571363449097, 1.6350396871566772, 1.576014518737793, 1.5815510749816895, 1.592359185218811, 1.6117116212844849, 1.5389676094055176, 1.5422612428665161, 1.564974069595337, 1.577915072441101, 1.607075810432434, 1.637087106704712, 1.5504238605499268, 1.5901294946670532, 1.5860247611999512, 1.629274845123291, 1.5851223468780518, 1.5879429578781128, 1.5544339418411255, 1.6440068483352661, 1.5540615320205688, 1.6312897205352783, 1.5720514059066772, 1.5730153322219849, 1.591068148612976, 1.602784276008606, 1.5766477584838867, 1.5926638841629028, 1.597790241241455, 1.6008774042129517, 1.5812891721725464, 1.5738812685012817, 1.5601184368133545, 1.565903902053833, 1.6326494216918945, 1.6029253005981445, 1.5827608108520508, 1.568727970123291, 1.5780210494995117, 1.539505958557129, 1.5388277769088745, 1.6056503057479858, 1.5570743083953857, 1.614557147026062, 1.5791983604431152, 1.6030149459838867, 1.572492241859436, 1.5752164125442505, 1.6069461107254028, 1.5525661706924438, 1.5377590656280518, 1.622067928314209, 1.5773533582687378, 1.5668730735778809, 1.5779882669448853, 1.5864759683609009, 1.5822036266326904, 1.5706943273544312, 1.5512672662734985, 1.594722867012024, 1.5864735841751099, 1.6103012561798096, 1.5824607610702515, 1.5738310813903809, 1.563073992729187, 1.5152575969696045, 1.6375387907028198, 1.585168719291687, 1.602187991142273, 1.5731927156448364, 1.5512598752975464, 1.6017520427703857, 1.5323388576507568, 1.5921496152877808, 1.5767946243286133, 1.5495877265930176, 1.625346064567566, 1.5790156126022339, 1.604223608970642, 1.6126176118850708, 1.578625202178955, 1.586430549621582, 1.571803331375122, 1.5872204303741455, 1.5490363836288452, 1.608789086341858, 1.5859122276306152, 1.5802092552185059, 1.5437830686569214, 1.53509521484375, 1.5598875284194946, 1.5656543970108032, 1.6189532279968262, 1.5478512048721313, 1.5808426141738892, 1.6102443933486938, 1.5714737176895142, 1.545089840888977, 1.5655659437179565, 1.5653315782546997, 1.5531316995620728, 1.5917474031448364, 1.5905648469924927, 1.562497615814209, 1.5451370477676392, 1.596264362335205, 1.5919427871704102, 1.5690865516662598, 1.591220736503601, 1.5868139266967773, 1.5700818300247192, 1.5321378707885742, 1.5667544603347778, 1.5557398796081543, 1.5929553508758545, 1.5542664527893066, 1.5699853897094727, 1.5748366117477417, 1.5972949266433716, 1.6026133298873901, 1.6147091388702393, 1.5465763807296753, 1.595238208770752, 1.5368200540542603, 1.5878186225891113, 1.589399814605713, 1.5306986570358276, 1.5990073680877686, 1.584856390953064, 1.5503441095352173, 1.5827609300613403, 1.5452871322631836, 1.5266544818878174, 1.5390465259552002, 1.5643388032913208, 1.5510129928588867, 1.582574725151062, 1.5778504610061646, 1.573196530342102, 1.5712368488311768, 1.6071991920471191, 1.5450564622879028, 1.5996098518371582, 1.534653663635254, 1.6069074869155884, 1.5246144533157349, 1.5411376953125, 1.5914061069488525, 1.5637764930725098, 1.5949676036834717, 1.5344406366348267, 1.5779598951339722, 1.5838921070098877, 1.5957896709442139, 1.5864014625549316, 1.568608045578003, 1.5685310363769531, 1.574092984199524, 1.603376030921936, 1.564540982246399, 1.5613840818405151, 1.5670286417007446, 1.548709511756897, 1.5613512992858887, 1.5441116094589233, 1.5196646451950073, 1.5540413856506348, 1.5667321681976318, 1.6068353652954102, 1.5893934965133667, 1.605373740196228, 1.6020302772521973, 1.6476231813430786, 1.5777044296264648, 1.5651699304580688, 1.4836678504943848, 1.5689611434936523, 1.5554299354553223, 1.5711958408355713, 1.5156468152999878, 1.559179663658142, 1.5615794658660889, 1.5907580852508545, 1.543522834777832, 1.5334205627441406, 1.5019845962524414, 1.5515236854553223, 1.550034523010254, 1.619306206703186, 1.5672186613082886, 1.5786889791488647, 1.6257814168930054, 1.528306484222412, 1.5287103652954102, 1.5323833227157593, 1.5713194608688354, 1.5757335424423218, 1.566908359527588, 1.5396941900253296, 1.5332664251327515, 1.5190882682800293, 1.555221438407898, 1.5762635469436646, 1.5462250709533691, 1.5036664009094238, 1.585463285446167, 1.5625964403152466, 1.5859158039093018, 1.5555909872055054, 1.5420156717300415, 1.6278142929077148, 1.604164719581604, 1.5888885259628296, 1.534218430519104, 1.5977100133895874, 1.5657799243927002, 1.5722246170043945, 1.5525805950164795, 1.5149829387664795, 1.4994620084762573, 1.530713677406311, 1.5473326444625854, 1.5119194984436035, 1.5317617654800415, 1.5363420248031616, 1.6228517293930054, 1.5746310949325562, 1.550126314163208, 1.5603137016296387, 1.5531446933746338, 1.5722427368164062, 1.514398217201233, 1.5277210474014282, 1.539089560508728, 1.5594582557678223, 1.522597074508667, 1.5543702840805054, 1.5499416589736938, 1.5284664630889893, 1.5630347728729248, 1.566347360610962, 1.5870957374572754, 1.5924038887023926, 1.4930781126022339, 1.5656309127807617, 1.5751620531082153, 1.516971468925476, 1.5367792844772339, 1.5487622022628784, 1.5361275672912598, 1.6186280250549316, 1.549923062324524, 1.5209161043167114, 1.5873774290084839, 1.5437790155410767, 1.5818169116973877, 1.5327153205871582, 1.5212396383285522, 1.5584710836410522, 1.5220649242401123, 1.562247633934021, 1.5473382472991943, 1.552513837814331, 1.5436092615127563, 1.5857861042022705, 1.5830910205841064, 1.5676084756851196, 1.5459553003311157, 1.6133540868759155, 1.5166385173797607, 1.5211725234985352, 1.57291579246521, 1.5242007970809937, 1.5553550720214844, 1.537775993347168, 1.509719729423523, 1.5559872388839722, 1.5682830810546875, 1.5647908449172974, 1.5489028692245483, 1.6085351705551147, 1.6209694147109985, 1.5076347589492798, 1.5492925643920898, 1.555192232131958, 1.525671362876892, 1.5523637533187866, 1.5915037393569946, 1.5150177478790283, 1.5380653142929077, 1.511365532875061, 1.5716549158096313, 1.5846154689788818, 1.5456799268722534, 1.5716906785964966, 1.5454542636871338, 1.5264267921447754, 1.5007095336914062, 1.5742192268371582, 1.5727717876434326, 1.5623741149902344, 1.5143744945526123, 1.5623284578323364, 1.4989093542099, 1.580804705619812, 1.5548357963562012, 1.511239767074585, 1.5693033933639526, 1.544980525970459, 1.5629879236221313, 1.5381627082824707, 1.537449598312378, 1.5304449796676636, 1.5149471759796143, 1.5742205381393433, 1.5078080892562866, 1.5466634035110474, 1.5329468250274658, 1.5211169719696045, 1.5472716093063354, 1.572879672050476, 1.5380359888076782, 1.5392109155654907, 1.5933691263198853, 1.5217503309249878, 1.4969239234924316, 1.548456072807312, 1.512131929397583, 1.5412864685058594, 1.5128692388534546, 1.5474162101745605, 1.5204918384552002, 1.5279529094696045, 1.5276302099227905, 1.542675495147705, 1.5247802734375, 1.5079162120819092, 1.5389931201934814, 1.5455394983291626], 'validation_accuracy': [1192.0, 2518.0, 3197.0, 3744.0, 4104.0, 3951.0, 3774.0, 4065.0, 4450.0, 4841.0]}\n"
     ]
    }
   ],
   "source": [
    "print(training_results)"
   ]
  },
  {
   "cell_type": "markdown",
   "metadata": {
    "papermill": {
     "duration": 0.045249,
     "end_time": "2020-10-22T11:32:42.994279",
     "exception": false,
     "start_time": "2020-10-22T11:32:42.949030",
     "status": "completed"
    },
    "tags": []
   },
   "source": [
    "# Training fro ReLu Function"
   ]
  },
  {
   "cell_type": "code",
   "execution_count": 22,
   "metadata": {
    "execution": {
     "iopub.execute_input": "2020-10-22T11:32:43.093638Z",
     "iopub.status.busy": "2020-10-22T11:32:43.092269Z",
     "iopub.status.idle": "2020-10-22T11:33:53.962753Z",
     "shell.execute_reply": "2020-10-22T11:33:53.961747Z"
    },
    "papermill": {
     "duration": 70.921049,
     "end_time": "2020-10-22T11:33:53.962920",
     "exception": false,
     "start_time": "2020-10-22T11:32:43.041871",
     "status": "completed"
    },
    "tags": []
   },
   "outputs": [],
   "source": [
    "learning_rate = 0.01\n",
    "modelRelu = NetRelu(input_dim, hidden_dim1, hidden_dim2, output_dim)\n",
    "optimizer = torch.optim.SGD(modelRelu.parameters(), lr=learning_rate)\n",
    "training_results_relu = train(modelRelu, criterion, train_loader, validation_loader, optimizer, epochs=cust_epochs)"
   ]
  },
  {
   "cell_type": "markdown",
   "metadata": {
    "papermill": {
     "duration": 0.045094,
     "end_time": "2020-10-22T11:33:54.056237",
     "exception": false,
     "start_time": "2020-10-22T11:33:54.011143",
     "status": "completed"
    },
    "tags": []
   },
   "source": [
    "# Training fro Tanh Function"
   ]
  },
  {
   "cell_type": "code",
   "execution_count": 23,
   "metadata": {
    "execution": {
     "iopub.execute_input": "2020-10-22T11:33:54.147086Z",
     "iopub.status.busy": "2020-10-22T11:33:54.146197Z",
     "iopub.status.idle": "2020-10-22T11:35:04.757887Z",
     "shell.execute_reply": "2020-10-22T11:35:04.757011Z"
    },
    "papermill": {
     "duration": 70.660901,
     "end_time": "2020-10-22T11:35:04.758022",
     "exception": false,
     "start_time": "2020-10-22T11:33:54.097121",
     "status": "completed"
    },
    "tags": []
   },
   "outputs": [],
   "source": [
    "learning_rate = 0.01\n",
    "modelTanh = NetTanh(input_dim, hidden_dim1, hidden_dim2, output_dim)\n",
    "optimizer = torch.optim.SGD(modelRelu.parameters(), lr=learning_rate)\n",
    "training_results_tanh = train(modelRelu, criterion, train_loader, validation_loader, optimizer, epochs=cust_epochs)"
   ]
  },
  {
   "cell_type": "markdown",
   "metadata": {
    "papermill": {
     "duration": 0.040723,
     "end_time": "2020-10-22T11:35:04.840312",
     "exception": false,
     "start_time": "2020-10-22T11:35:04.799589",
     "status": "completed"
    },
    "tags": []
   },
   "source": [
    "# Analyzing Results"
   ]
  },
  {
   "cell_type": "code",
   "execution_count": 24,
   "metadata": {
    "execution": {
     "iopub.execute_input": "2020-10-22T11:35:04.940728Z",
     "iopub.status.busy": "2020-10-22T11:35:04.939115Z",
     "iopub.status.idle": "2020-10-22T11:35:05.175554Z",
     "shell.execute_reply": "2020-10-22T11:35:05.174776Z"
    },
    "papermill": {
     "duration": 0.294556,
     "end_time": "2020-10-22T11:35:05.175683",
     "exception": false,
     "start_time": "2020-10-22T11:35:04.881127",
     "status": "completed"
    },
    "tags": []
   },
   "outputs": [
    {
     "data": {
      "image/png": "[encoded data removed]",
      "text/plain": [
       "<Figure size 800x400 with 1 Axes>"
      ]
     },
     "metadata": {},
     "output_type": "display_data"
    }
   ],
   "source": [
    "plt.figure(figsize=(8,4))\n",
    "plt.plot(training_results_tanh['training_loss'], label='tanh')\n",
    "plt.plot(training_results['training_loss'], label='sigmoid')\n",
    "plt.plot(training_results_relu['training_loss'], label='relu')\n",
    "plt.ylabel('loss')\n",
    "plt.xlabel('Samples of Training')\n",
    "plt.title('training loss iterations')\n",
    "plt.legend()\n",
    "plt.show()"
   ]
  },
  {
   "cell_type": "code",
   "execution_count": 25,
   "metadata": {
    "execution": {
     "iopub.execute_input": "2020-10-22T11:35:05.280353Z",
     "iopub.status.busy": "2020-10-22T11:35:05.275291Z",
     "iopub.status.idle": "2020-10-22T11:35:05.476290Z",
     "shell.execute_reply": "2020-10-22T11:35:05.475478Z"
    },
    "papermill": {
     "duration": 0.258659,
     "end_time": "2020-10-22T11:35:05.476422",
     "exception": false,
     "start_time": "2020-10-22T11:35:05.217763",
     "status": "completed"
    },
    "tags": []
   },
   "outputs": [
    {
     "data": {
      "image/png": "[encoded data removed]",
      "text/plain": [
       "<Figure size 800x400 with 1 Axes>"
      ]
     },
     "metadata": {},
     "output_type": "display_data"
    }
   ],
   "source": [
    "plt.figure(figsize=(8,4))\n",
    "plt.grid()\n",
    "plt.plot(training_results_tanh['validation_accuracy'], label = 'tanh')\n",
    "plt.plot(training_results['validation_accuracy'], label = 'sigmoid')\n",
    "plt.plot(training_results_relu['validation_accuracy'], label = 'relu') \n",
    "plt.ylabel('validation accuracy')\n",
    "plt.title('Accuracy Using different Activation Functions')\n",
    "plt.xlabel('Iteration')   \n",
    "plt.legend()\n",
    "plt.show()"
   ]
  },
  {
   "cell_type": "markdown",
   "metadata": {
    "papermill": {
     "duration": 0.04548,
     "end_time": "2020-10-22T11:35:05.565566",
     "exception": false,
     "start_time": "2020-10-22T11:35:05.520086",
     "status": "completed"
    },
    "tags": []
   },
   "source": [
    "<h3><center> <font color='maroon'> Upvote , if it helps you :-) </center></font> </h3>"
   ]
  }
 ],
 "metadata": {
  "kernelspec": {
   "display_name": "Python 3",
   "language": "python",
   "name": "python3"
  },
  "language_info": {
   "codemirror_mode": {
    "name": "ipython",
    "version": 3
   },
   "file_extension": ".py",
   "mimetype": "text/x-python",
   "name": "python",
   "nbconvert_exporter": "python",
   "pygments_lexer": "ipython3",
   "version": "3.12.8"
  },
  "papermill": {
   "duration": 229.697283,
   "end_time": "2020-10-22T11:35:05.720024",
   "environment_variables": {},
   "exception": null,
   "input_path": "__notebook__.ipynb",
   "output_path": "__notebook__.ipynb",
   "parameters": {},
   "start_time": "2020-10-22T11:31:16.022741",
   "version": "2.1.0"
  },
  "widgets": {
   "application/vnd.jupyter.widget-state+json": {
    "state": {
     "01e7ba085e1845b1a3df3ac39edc6fea": {
      "model_module": "@jupyter-widgets/controls",
      "model_module_version": "1.5.0",
      "model_name": "HBoxModel",
      "state": {
       "_dom_classes": [],
       "_model_module": "@jupyter-widgets/controls",
       "_model_module_version": "1.5.0",
       "_model_name": "HBoxModel",
       "_view_count": null,
       "_view_module": "@jupyter-widgets/controls",
       "_view_module_version": "1.5.0",
       "_view_name": "HBoxView",
       "box_style": "",
       "children": [
        "IPY_MODEL_d24be2197a0c464a834ca702ae7e0f7c",
        "IPY_MODEL_141bc99b54ce4eee858a223e9740197e"
       ],
       "layout": "IPY_MODEL_cc2d9da0b553453ca1fe086c314b6f5b"
      }
     },
     "05c80776f33b4b43a11cb59aaf4dfebb": {
      "model_module": "@jupyter-widgets/base",
      "model_module_version": "1.2.0",
      "model_name": "LayoutModel",
      "state": {
       "_model_module": "@jupyter-widgets/base",
       "_model_module_version": "1.2.0",
       "_model_name": "LayoutModel",
       "_view_count": null,
       "_view_module": "@jupyter-widgets/base",
       "_view_module_version": "1.2.0",
       "_view_name": "LayoutView",
       "align_content": null,
       "align_items": null,
       "align_self": null,
       "border": null,
       "bottom": null,
       "display": null,
       "flex": null,
       "flex_flow": null,
       "grid_area": null,
       "grid_auto_columns": null,
       "grid_auto_flow": null,
       "grid_auto_rows": null,
       "grid_column": null,
       "grid_gap": null,
       "grid_row": null,
       "grid_template_areas": null,
       "grid_template_columns": null,
       "grid_template_rows": null,
       "height": null,
       "justify_content": null,
       "justify_items": null,
       "left": null,
       "margin": null,
       "max_height": null,
       "max_width": null,
       "min_height": null,
       "min_width": null,
       "object_fit": null,
       "object_position": null,
       "order": null,
       "overflow": null,
       "overflow_x": null,
       "overflow_y": null,
       "padding": null,
       "right": null,
       "top": null,
       "visibility": null,
       "width": null
      }
     },
     "05f58fcc483e44be87ad160f9dabb529": {
      "model_module": "@jupyter-widgets/base",
      "model_module_version": "1.2.0",
      "model_name": "LayoutModel",
      "state": {
       "_model_module": "@jupyter-widgets/base",
       "_model_module_version": "1.2.0",
       "_model_name": "LayoutModel",
       "_view_count": null,
       "_view_module": "@jupyter-widgets/base",
       "_view_module_version": "1.2.0",
       "_view_name": "LayoutView",
       "align_content": null,
       "align_items": null,
       "align_self": null,
       "border": null,
       "bottom": null,
       "display": null,
       "flex": null,
       "flex_flow": null,
       "grid_area": null,
       "grid_auto_columns": null,
       "grid_auto_flow": null,
       "grid_auto_rows": null,
       "grid_column": null,
       "grid_gap": null,
       "grid_row": null,
       "grid_template_areas": null,
       "grid_template_columns": null,
       "grid_template_rows": null,
       "height": null,
       "justify_content": null,
       "justify_items": null,
       "left": null,
       "margin": null,
       "max_height": null,
       "max_width": null,
       "min_height": null,
       "min_width": null,
       "object_fit": null,
       "object_position": null,
       "order": null,
       "overflow": null,
       "overflow_x": null,
       "overflow_y": null,
       "padding": null,
       "right": null,
       "top": null,
       "visibility": null,
       "width": null
      }
     },
     "141bc99b54ce4eee858a223e9740197e": {
      "model_module": "@jupyter-widgets/controls",
      "model_module_version": "1.5.0",
      "model_name": "HTMLModel",
      "state": {
       "_dom_classes": [],
       "_model_module": "@jupyter-widgets/controls",
       "_model_module_version": "1.5.0",
       "_model_name": "HTMLModel",
       "_view_count": null,
       "_view_module": "@jupyter-widgets/controls",
       "_view_module_version": "1.5.0",
       "_view_name": "HTMLView",
       "description": "",
       "description_tooltip": null,
       "layout": "IPY_MODEL_ee4fb03c5f844b43b98a4facbf95a92b",
       "placeholder": "​",
       "style": "IPY_MODEL_72dd94feaeed43b486098611d298eb2b",
       "value": " 8192/? [00:01&lt;00:00, 6758.69it/s]"
      }
     },
     "2359eccff9154b40aab0201e04544400": {
      "model_module": "@jupyter-widgets/base",
      "model_module_version": "1.2.0",
      "model_name": "LayoutModel",
      "state": {
       "_model_module": "@jupyter-widgets/base",
       "_model_module_version": "1.2.0",
       "_model_name": "LayoutModel",
       "_view_count": null,
       "_view_module": "@jupyter-widgets/base",
       "_view_module_version": "1.2.0",
       "_view_name": "LayoutView",
       "align_content": null,
       "align_items": null,
       "align_self": null,
       "border": null,
       "bottom": null,
       "display": null,
       "flex": null,
       "flex_flow": null,
       "grid_area": null,
       "grid_auto_columns": null,
       "grid_auto_flow": null,
       "grid_auto_rows": null,
       "grid_column": null,
       "grid_gap": null,
       "grid_row": null,
       "grid_template_areas": null,
       "grid_template_columns": null,
       "grid_template_rows": null,
       "height": null,
       "justify_content": null,
       "justify_items": null,
       "left": null,
       "margin": null,
       "max_height": null,
       "max_width": null,
       "min_height": null,
       "min_width": null,
       "object_fit": null,
       "object_position": null,
       "order": null,
       "overflow": null,
       "overflow_x": null,
       "overflow_y": null,
       "padding": null,
       "right": null,
       "top": null,
       "visibility": null,
       "width": null
      }
     },
     "3939bcc1d2974489be4ba44db94e0cf3": {
      "model_module": "@jupyter-widgets/controls",
      "model_module_version": "1.5.0",
      "model_name": "ProgressStyleModel",
      "state": {
       "_model_module": "@jupyter-widgets/controls",
       "_model_module_version": "1.5.0",
       "_model_name": "ProgressStyleModel",
       "_view_count": null,
       "_view_module": "@jupyter-widgets/base",
       "_view_module_version": "1.2.0",
       "_view_name": "StyleView",
       "bar_color": null,
       "description_width": "initial"
      }
     },
     "56632a2b7fcb48ffa7b36b722db9337b": {
      "model_module": "@jupyter-widgets/base",
      "model_module_version": "1.2.0",
      "model_name": "LayoutModel",
      "state": {
       "_model_module": "@jupyter-widgets/base",
       "_model_module_version": "1.2.0",
       "_model_name": "LayoutModel",
       "_view_count": null,
       "_view_module": "@jupyter-widgets/base",
       "_view_module_version": "1.2.0",
       "_view_name": "LayoutView",
       "align_content": null,
       "align_items": null,
       "align_self": null,
       "border": null,
       "bottom": null,
       "display": null,
       "flex": null,
       "flex_flow": null,
       "grid_area": null,
       "grid_auto_columns": null,
       "grid_auto_flow": null,
       "grid_auto_rows": null,
       "grid_column": null,
       "grid_gap": null,
       "grid_row": null,
       "grid_template_areas": null,
       "grid_template_columns": null,
       "grid_template_rows": null,
       "height": null,
       "justify_content": null,
       "justify_items": null,
       "left": null,
       "margin": null,
       "max_height": null,
       "max_width": null,
       "min_height": null,
       "min_width": null,
       "object_fit": null,
       "object_position": null,
       "order": null,
       "overflow": null,
       "overflow_x": null,
       "overflow_y": null,
       "padding": null,
       "right": null,
       "top": null,
       "visibility": null,
       "width": null
      }
     },
     "5cd3517d96ca4274947d3072887d6151": {
      "model_module": "@jupyter-widgets/controls",
      "model_module_version": "1.5.0",
      "model_name": "HBoxModel",
      "state": {
       "_dom_classes": [],
       "_model_module": "@jupyter-widgets/controls",
       "_model_module_version": "1.5.0",
       "_model_name": "HBoxModel",
       "_view_count": null,
       "_view_module": "@jupyter-widgets/controls",
       "_view_module_version": "1.5.0",
       "_view_name": "HBoxView",
       "box_style": "",
       "children": [
        "IPY_MODEL_c1e67caac66b48b491ef4fe8251dd4f7",
        "IPY_MODEL_92aa15a0837748c8b59e1022e5dd5880"
       ],
       "layout": "IPY_MODEL_7f97cfbf7c7546ed8c51dfc2d5df99ba"
      }
     },
     "5f3171e8af2e45efa024ef1c34b8ba03": {
      "model_module": "@jupyter-widgets/controls",
      "model_module_version": "1.5.0",
      "model_name": "HBoxModel",
      "state": {
       "_dom_classes": [],
       "_model_module": "@jupyter-widgets/controls",
       "_model_module_version": "1.5.0",
       "_model_name": "HBoxModel",
       "_view_count": null,
       "_view_module": "@jupyter-widgets/controls",
       "_view_module_version": "1.5.0",
       "_view_name": "HBoxView",
       "box_style": "",
       "children": [
        "IPY_MODEL_9c7de1c708b3446c9c4b3e3f866c4226",
        "IPY_MODEL_d3f914d3a3fd4aa4bc3a1f3e7fa77ae9"
       ],
       "layout": "IPY_MODEL_bf00ef7908184694bec11ad0bbda8144"
      }
     },
     "663393e4c79d4f5385250d919c76b3a8": {
      "model_module": "@jupyter-widgets/controls",
      "model_module_version": "1.5.0",
      "model_name": "ProgressStyleModel",
      "state": {
       "_model_module": "@jupyter-widgets/controls",
       "_model_module_version": "1.5.0",
       "_model_name": "ProgressStyleModel",
       "_view_count": null,
       "_view_module": "@jupyter-widgets/base",
       "_view_module_version": "1.2.0",
       "_view_name": "StyleView",
       "bar_color": null,
       "description_width": "initial"
      }
     },
     "72dd94feaeed43b486098611d298eb2b": {
      "model_module": "@jupyter-widgets/controls",
      "model_module_version": "1.5.0",
      "model_name": "DescriptionStyleModel",
      "state": {
       "_model_module": "@jupyter-widgets/controls",
       "_model_module_version": "1.5.0",
       "_model_name": "DescriptionStyleModel",
       "_view_count": null,
       "_view_module": "@jupyter-widgets/base",
       "_view_module_version": "1.2.0",
       "_view_name": "StyleView",
       "description_width": ""
      }
     },
     "747cd42c06984b75bc6b98ccd3a8af9d": {
      "model_module": "@jupyter-widgets/base",
      "model_module_version": "1.2.0",
      "model_name": "LayoutModel",
      "state": {
       "_model_module": "@jupyter-widgets/base",
       "_model_module_version": "1.2.0",
       "_model_name": "LayoutModel",
       "_view_count": null,
       "_view_module": "@jupyter-widgets/base",
       "_view_module_version": "1.2.0",
       "_view_name": "LayoutView",
       "align_content": null,
       "align_items": null,
       "align_self": null,
       "border": null,
       "bottom": null,
       "display": null,
       "flex": null,
       "flex_flow": null,
       "grid_area": null,
       "grid_auto_columns": null,
       "grid_auto_flow": null,
       "grid_auto_rows": null,
       "grid_column": null,
       "grid_gap": null,
       "grid_row": null,
       "grid_template_areas": null,
       "grid_template_columns": null,
       "grid_template_rows": null,
       "height": null,
       "justify_content": null,
       "justify_items": null,
       "left": null,
       "margin": null,
       "max_height": null,
       "max_width": null,
       "min_height": null,
       "min_width": null,
       "object_fit": null,
       "object_position": null,
       "order": null,
       "overflow": null,
       "overflow_x": null,
       "overflow_y": null,
       "padding": null,
       "right": null,
       "top": null,
       "visibility": null,
       "width": null
      }
     },
     "788c6b1d1fe9492986c363b07705031f": {
      "model_module": "@jupyter-widgets/controls",
      "model_module_version": "1.5.0",
      "model_name": "DescriptionStyleModel",
      "state": {
       "_model_module": "@jupyter-widgets/controls",
       "_model_module_version": "1.5.0",
       "_model_name": "DescriptionStyleModel",
       "_view_count": null,
       "_view_module": "@jupyter-widgets/base",
       "_view_module_version": "1.2.0",
       "_view_name": "StyleView",
       "description_width": ""
      }
     },
     "7f97cfbf7c7546ed8c51dfc2d5df99ba": {
      "model_module": "@jupyter-widgets/base",
      "model_module_version": "1.2.0",
      "model_name": "LayoutModel",
      "state": {
       "_model_module": "@jupyter-widgets/base",
       "_model_module_version": "1.2.0",
       "_model_name": "LayoutModel",
       "_view_count": null,
       "_view_module": "@jupyter-widgets/base",
       "_view_module_version": "1.2.0",
       "_view_name": "LayoutView",
       "align_content": null,
       "align_items": null,
       "align_self": null,
       "border": null,
       "bottom": null,
       "display": null,
       "flex": null,
       "flex_flow": null,
       "grid_area": null,
       "grid_auto_columns": null,
       "grid_auto_flow": null,
       "grid_auto_rows": null,
       "grid_column": null,
       "grid_gap": null,
       "grid_row": null,
       "grid_template_areas": null,
       "grid_template_columns": null,
       "grid_template_rows": null,
       "height": null,
       "justify_content": null,
       "justify_items": null,
       "left": null,
       "margin": null,
       "max_height": null,
       "max_width": null,
       "min_height": null,
       "min_width": null,
       "object_fit": null,
       "object_position": null,
       "order": null,
       "overflow": null,
       "overflow_x": null,
       "overflow_y": null,
       "padding": null,
       "right": null,
       "top": null,
       "visibility": null,
       "width": null
      }
     },
     "89fa374f910145c7842999328c9720df": {
      "model_module": "@jupyter-widgets/controls",
      "model_module_version": "1.5.0",
      "model_name": "HTMLModel",
      "state": {
       "_dom_classes": [],
       "_model_module": "@jupyter-widgets/controls",
       "_model_module_version": "1.5.0",
       "_model_name": "HTMLModel",
       "_view_count": null,
       "_view_module": "@jupyter-widgets/controls",
       "_view_module_version": "1.5.0",
       "_view_name": "HTMLView",
       "description": "",
       "description_tooltip": null,
       "layout": "IPY_MODEL_2359eccff9154b40aab0201e04544400",
       "placeholder": "​",
       "style": "IPY_MODEL_d2b26dea45dd4226b417d29e26c5fa0f",
       "value": " 4423680/? [00:01&lt;00:00, 2697600.98it/s]"
      }
     },
     "92aa15a0837748c8b59e1022e5dd5880": {
      "model_module": "@jupyter-widgets/controls",
      "model_module_version": "1.5.0",
      "model_name": "HTMLModel",
      "state": {
       "_dom_classes": [],
       "_model_module": "@jupyter-widgets/controls",
       "_model_module_version": "1.5.0",
       "_model_name": "HTMLModel",
       "_view_count": null,
       "_view_module": "@jupyter-widgets/controls",
       "_view_module_version": "1.5.0",
       "_view_name": "HTMLView",
       "description": "",
       "description_tooltip": null,
       "layout": "IPY_MODEL_b128bcee398943f88980c754f83b40bc",
       "placeholder": "​",
       "style": "IPY_MODEL_fda3004d4a1c4ea8bd26086b4d1bfc99",
       "value": " 32768/? [00:02&lt;00:00, 15007.48it/s]"
      }
     },
     "9c7de1c708b3446c9c4b3e3f866c4226": {
      "model_module": "@jupyter-widgets/controls",
      "model_module_version": "1.5.0",
      "model_name": "FloatProgressModel",
      "state": {
       "_dom_classes": [],
       "_model_module": "@jupyter-widgets/controls",
       "_model_module_version": "1.5.0",
       "_model_name": "FloatProgressModel",
       "_view_count": null,
       "_view_module": "@jupyter-widgets/controls",
       "_view_module_version": "1.5.0",
       "_view_name": "ProgressView",
       "bar_style": "success",
       "description": "",
       "description_tooltip": null,
       "layout": "IPY_MODEL_05f58fcc483e44be87ad160f9dabb529",
       "max": 1,
       "min": 0,
       "orientation": "horizontal",
       "style": "IPY_MODEL_ecb59f265661469a9580f5ca16f326a5",
       "value": 1
      }
     },
     "b128bcee398943f88980c754f83b40bc": {
      "model_module": "@jupyter-widgets/base",
      "model_module_version": "1.2.0",
      "model_name": "LayoutModel",
      "state": {
       "_model_module": "@jupyter-widgets/base",
       "_model_module_version": "1.2.0",
       "_model_name": "LayoutModel",
       "_view_count": null,
       "_view_module": "@jupyter-widgets/base",
       "_view_module_version": "1.2.0",
       "_view_name": "LayoutView",
       "align_content": null,
       "align_items": null,
       "align_self": null,
       "border": null,
       "bottom": null,
       "display": null,
       "flex": null,
       "flex_flow": null,
       "grid_area": null,
       "grid_auto_columns": null,
       "grid_auto_flow": null,
       "grid_auto_rows": null,
       "grid_column": null,
       "grid_gap": null,
       "grid_row": null,
       "grid_template_areas": null,
       "grid_template_columns": null,
       "grid_template_rows": null,
       "height": null,
       "justify_content": null,
       "justify_items": null,
       "left": null,
       "margin": null,
       "max_height": null,
       "max_width": null,
       "min_height": null,
       "min_width": null,
       "object_fit": null,
       "object_position": null,
       "order": null,
       "overflow": null,
       "overflow_x": null,
       "overflow_y": null,
       "padding": null,
       "right": null,
       "top": null,
       "visibility": null,
       "width": null
      }
     },
     "b4214bb8437a4d7a94da0e7bd6a6d2cb": {
      "model_module": "@jupyter-widgets/base",
      "model_module_version": "1.2.0",
      "model_name": "LayoutModel",
      "state": {
       "_model_module": "@jupyter-widgets/base",
       "_model_module_version": "1.2.0",
       "_model_name": "LayoutModel",
       "_view_count": null,
       "_view_module": "@jupyter-widgets/base",
       "_view_module_version": "1.2.0",
       "_view_name": "LayoutView",
       "align_content": null,
       "align_items": null,
       "align_self": null,
       "border": null,
       "bottom": null,
       "display": null,
       "flex": null,
       "flex_flow": null,
       "grid_area": null,
       "grid_auto_columns": null,
       "grid_auto_flow": null,
       "grid_auto_rows": null,
       "grid_column": null,
       "grid_gap": null,
       "grid_row": null,
       "grid_template_areas": null,
       "grid_template_columns": null,
       "grid_template_rows": null,
       "height": null,
       "justify_content": null,
       "justify_items": null,
       "left": null,
       "margin": null,
       "max_height": null,
       "max_width": null,
       "min_height": null,
       "min_width": null,
       "object_fit": null,
       "object_position": null,
       "order": null,
       "overflow": null,
       "overflow_x": null,
       "overflow_y": null,
       "padding": null,
       "right": null,
       "top": null,
       "visibility": null,
       "width": null
      }
     },
     "b67338cbad254f55aae0fb4e3f6ca9a4": {
      "model_module": "@jupyter-widgets/base",
      "model_module_version": "1.2.0",
      "model_name": "LayoutModel",
      "state": {
       "_model_module": "@jupyter-widgets/base",
       "_model_module_version": "1.2.0",
       "_model_name": "LayoutModel",
       "_view_count": null,
       "_view_module": "@jupyter-widgets/base",
       "_view_module_version": "1.2.0",
       "_view_name": "LayoutView",
       "align_content": null,
       "align_items": null,
       "align_self": null,
       "border": null,
       "bottom": null,
       "display": null,
       "flex": null,
       "flex_flow": null,
       "grid_area": null,
       "grid_auto_columns": null,
       "grid_auto_flow": null,
       "grid_auto_rows": null,
       "grid_column": null,
       "grid_gap": null,
       "grid_row": null,
       "grid_template_areas": null,
       "grid_template_columns": null,
       "grid_template_rows": null,
       "height": null,
       "justify_content": null,
       "justify_items": null,
       "left": null,
       "margin": null,
       "max_height": null,
       "max_width": null,
       "min_height": null,
       "min_width": null,
       "object_fit": null,
       "object_position": null,
       "order": null,
       "overflow": null,
       "overflow_x": null,
       "overflow_y": null,
       "padding": null,
       "right": null,
       "top": null,
       "visibility": null,
       "width": null
      }
     },
     "baa20c4a12b14e84a82268dd9560992e": {
      "model_module": "@jupyter-widgets/controls",
      "model_module_version": "1.5.0",
      "model_name": "ProgressStyleModel",
      "state": {
       "_model_module": "@jupyter-widgets/controls",
       "_model_module_version": "1.5.0",
       "_model_name": "ProgressStyleModel",
       "_view_count": null,
       "_view_module": "@jupyter-widgets/base",
       "_view_module_version": "1.2.0",
       "_view_name": "StyleView",
       "bar_color": null,
       "description_width": "initial"
      }
     },
     "bce7701fcbda4a4888391307bfba7c53": {
      "model_module": "@jupyter-widgets/controls",
      "model_module_version": "1.5.0",
      "model_name": "FloatProgressModel",
      "state": {
       "_dom_classes": [],
       "_model_module": "@jupyter-widgets/controls",
       "_model_module_version": "1.5.0",
       "_model_name": "FloatProgressModel",
       "_view_count": null,
       "_view_module": "@jupyter-widgets/controls",
       "_view_module_version": "1.5.0",
       "_view_name": "ProgressView",
       "bar_style": "success",
       "description": "",
       "description_tooltip": null,
       "layout": "IPY_MODEL_56632a2b7fcb48ffa7b36b722db9337b",
       "max": 1,
       "min": 0,
       "orientation": "horizontal",
       "style": "IPY_MODEL_3939bcc1d2974489be4ba44db94e0cf3",
       "value": 1
      }
     },
     "bf00ef7908184694bec11ad0bbda8144": {
      "model_module": "@jupyter-widgets/base",
      "model_module_version": "1.2.0",
      "model_name": "LayoutModel",
      "state": {
       "_model_module": "@jupyter-widgets/base",
       "_model_module_version": "1.2.0",
       "_model_name": "LayoutModel",
       "_view_count": null,
       "_view_module": "@jupyter-widgets/base",
       "_view_module_version": "1.2.0",
       "_view_name": "LayoutView",
       "align_content": null,
       "align_items": null,
       "align_self": null,
       "border": null,
       "bottom": null,
       "display": null,
       "flex": null,
       "flex_flow": null,
       "grid_area": null,
       "grid_auto_columns": null,
       "grid_auto_flow": null,
       "grid_auto_rows": null,
       "grid_column": null,
       "grid_gap": null,
       "grid_row": null,
       "grid_template_areas": null,
       "grid_template_columns": null,
       "grid_template_rows": null,
       "height": null,
       "justify_content": null,
       "justify_items": null,
       "left": null,
       "margin": null,
       "max_height": null,
       "max_width": null,
       "min_height": null,
       "min_width": null,
       "object_fit": null,
       "object_position": null,
       "order": null,
       "overflow": null,
       "overflow_x": null,
       "overflow_y": null,
       "padding": null,
       "right": null,
       "top": null,
       "visibility": null,
       "width": null
      }
     },
     "c1e67caac66b48b491ef4fe8251dd4f7": {
      "model_module": "@jupyter-widgets/controls",
      "model_module_version": "1.5.0",
      "model_name": "FloatProgressModel",
      "state": {
       "_dom_classes": [],
       "_model_module": "@jupyter-widgets/controls",
       "_model_module_version": "1.5.0",
       "_model_name": "FloatProgressModel",
       "_view_count": null,
       "_view_module": "@jupyter-widgets/controls",
       "_view_module_version": "1.5.0",
       "_view_name": "ProgressView",
       "bar_style": "success",
       "description": "",
       "description_tooltip": null,
       "layout": "IPY_MODEL_747cd42c06984b75bc6b98ccd3a8af9d",
       "max": 1,
       "min": 0,
       "orientation": "horizontal",
       "style": "IPY_MODEL_baa20c4a12b14e84a82268dd9560992e",
       "value": 1
      }
     },
     "cc2d9da0b553453ca1fe086c314b6f5b": {
      "model_module": "@jupyter-widgets/base",
      "model_module_version": "1.2.0",
      "model_name": "LayoutModel",
      "state": {
       "_model_module": "@jupyter-widgets/base",
       "_model_module_version": "1.2.0",
       "_model_name": "LayoutModel",
       "_view_count": null,
       "_view_module": "@jupyter-widgets/base",
       "_view_module_version": "1.2.0",
       "_view_name": "LayoutView",
       "align_content": null,
       "align_items": null,
       "align_self": null,
       "border": null,
       "bottom": null,
       "display": null,
       "flex": null,
       "flex_flow": null,
       "grid_area": null,
       "grid_auto_columns": null,
       "grid_auto_flow": null,
       "grid_auto_rows": null,
       "grid_column": null,
       "grid_gap": null,
       "grid_row": null,
       "grid_template_areas": null,
       "grid_template_columns": null,
       "grid_template_rows": null,
       "height": null,
       "justify_content": null,
       "justify_items": null,
       "left": null,
       "margin": null,
       "max_height": null,
       "max_width": null,
       "min_height": null,
       "min_width": null,
       "object_fit": null,
       "object_position": null,
       "order": null,
       "overflow": null,
       "overflow_x": null,
       "overflow_y": null,
       "padding": null,
       "right": null,
       "top": null,
       "visibility": null,
       "width": null
      }
     },
     "d24be2197a0c464a834ca702ae7e0f7c": {
      "model_module": "@jupyter-widgets/controls",
      "model_module_version": "1.5.0",
      "model_name": "FloatProgressModel",
      "state": {
       "_dom_classes": [],
       "_model_module": "@jupyter-widgets/controls",
       "_model_module_version": "1.5.0",
       "_model_name": "FloatProgressModel",
       "_view_count": null,
       "_view_module": "@jupyter-widgets/controls",
       "_view_module_version": "1.5.0",
       "_view_name": "ProgressView",
       "bar_style": "success",
       "description": "",
       "description_tooltip": null,
       "layout": "IPY_MODEL_05c80776f33b4b43a11cb59aaf4dfebb",
       "max": 1,
       "min": 0,
       "orientation": "horizontal",
       "style": "IPY_MODEL_663393e4c79d4f5385250d919c76b3a8",
       "value": 1
      }
     },
     "d2b26dea45dd4226b417d29e26c5fa0f": {
      "model_module": "@jupyter-widgets/controls",
      "model_module_version": "1.5.0",
      "model_name": "DescriptionStyleModel",
      "state": {
       "_model_module": "@jupyter-widgets/controls",
       "_model_module_version": "1.5.0",
       "_model_name": "DescriptionStyleModel",
       "_view_count": null,
       "_view_module": "@jupyter-widgets/base",
       "_view_module_version": "1.2.0",
       "_view_name": "StyleView",
       "description_width": ""
      }
     },
     "d3f914d3a3fd4aa4bc3a1f3e7fa77ae9": {
      "model_module": "@jupyter-widgets/controls",
      "model_module_version": "1.5.0",
      "model_name": "HTMLModel",
      "state": {
       "_dom_classes": [],
       "_model_module": "@jupyter-widgets/controls",
       "_model_module_version": "1.5.0",
       "_model_name": "HTMLModel",
       "_view_count": null,
       "_view_module": "@jupyter-widgets/controls",
       "_view_module_version": "1.5.0",
       "_view_name": "HTMLView",
       "description": "",
       "description_tooltip": null,
       "layout": "IPY_MODEL_b4214bb8437a4d7a94da0e7bd6a6d2cb",
       "placeholder": "​",
       "style": "IPY_MODEL_788c6b1d1fe9492986c363b07705031f",
       "value": " 26427392/? [00:06&lt;00:00, 4027001.61it/s]"
      }
     },
     "ecb59f265661469a9580f5ca16f326a5": {
      "model_module": "@jupyter-widgets/controls",
      "model_module_version": "1.5.0",
      "model_name": "ProgressStyleModel",
      "state": {
       "_model_module": "@jupyter-widgets/controls",
       "_model_module_version": "1.5.0",
       "_model_name": "ProgressStyleModel",
       "_view_count": null,
       "_view_module": "@jupyter-widgets/base",
       "_view_module_version": "1.2.0",
       "_view_name": "StyleView",
       "bar_color": null,
       "description_width": "initial"
      }
     },
     "ee4fb03c5f844b43b98a4facbf95a92b": {
      "model_module": "@jupyter-widgets/base",
      "model_module_version": "1.2.0",
      "model_name": "LayoutModel",
      "state": {
       "_model_module": "@jupyter-widgets/base",
       "_model_module_version": "1.2.0",
       "_model_name": "LayoutModel",
       "_view_count": null,
       "_view_module": "@jupyter-widgets/base",
       "_view_module_version": "1.2.0",
       "_view_name": "LayoutView",
       "align_content": null,
       "align_items": null,
       "align_self": null,
       "border": null,
       "bottom": null,
       "display": null,
       "flex": null,
       "flex_flow": null,
       "grid_area": null,
       "grid_auto_columns": null,
       "grid_auto_flow": null,
       "grid_auto_rows": null,
       "grid_column": null,
       "grid_gap": null,
       "grid_row": null,
       "grid_template_areas": null,
       "grid_template_columns": null,
       "grid_template_rows": null,
       "height": null,
       "justify_content": null,
       "justify_items": null,
       "left": null,
       "margin": null,
       "max_height": null,
       "max_width": null,
       "min_height": null,
       "min_width": null,
       "object_fit": null,
       "object_position": null,
       "order": null,
       "overflow": null,
       "overflow_x": null,
       "overflow_y": null,
       "padding": null,
       "right": null,
       "top": null,
       "visibility": null,
       "width": null
      }
     },
     "f20111f8dfa340c5a0f1d25f58c18eb2": {
      "model_module": "@jupyter-widgets/controls",
      "model_module_version": "1.5.0",
      "model_name": "HBoxModel",
      "state": {
       "_dom_classes": [],
       "_model_module": "@jupyter-widgets/controls",
       "_model_module_version": "1.5.0",
       "_model_name": "HBoxModel",
       "_view_count": null,
       "_view_module": "@jupyter-widgets/controls",
       "_view_module_version": "1.5.0",
       "_view_name": "HBoxView",
       "box_style": "",
       "children": [
        "IPY_MODEL_bce7701fcbda4a4888391307bfba7c53",
        "IPY_MODEL_89fa374f910145c7842999328c9720df"
       ],
       "layout": "IPY_MODEL_b67338cbad254f55aae0fb4e3f6ca9a4"
      }
     },
     "fda3004d4a1c4ea8bd26086b4d1bfc99": {
      "model_module": "@jupyter-widgets/controls",
      "model_module_version": "1.5.0",
      "model_name": "DescriptionStyleModel",
      "state": {
       "_model_module": "@jupyter-widgets/controls",
       "_model_module_version": "1.5.0",
       "_model_name": "DescriptionStyleModel",
       "_view_count": null,
       "_view_module": "@jupyter-widgets/base",
       "_view_module_version": "1.2.0",
       "_view_name": "StyleView",
       "description_width": ""
      }
     }
    },
    "version_major": 2,
    "version_minor": 0
   }
  }
 },
 "nbformat": 4,
 "nbformat_minor": 4
}
