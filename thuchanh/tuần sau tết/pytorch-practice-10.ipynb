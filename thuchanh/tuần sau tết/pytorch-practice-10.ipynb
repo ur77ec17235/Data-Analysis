{
 "cells": [
  {
   "cell_type": "markdown",
   "metadata": {},
   "source": [
    "Reading classics [Deep Learning Models](https://nbviewer.jupyter.org/github/rasbt/deeplearning-models/blob/master/pytorch_ipynb/cnn/cnn-vgg19.ipynb)\n",
    "## Code Modules, Classes & Functions"
   ]
  },
  {
   "cell_type": "code",
   "execution_count": 1,
   "metadata": {
    "_cell_guid": "b1076dfc-b9ad-4769-8c92-a6c4dae69d19",
    "_uuid": "8f2839f25d086af736a60e9eeb907d3b93b6e0e5"
   },
   "outputs": [],
   "source": [
    "import numpy as np,pandas as pd,pylab as pl\n",
    "import h5py,torch\n",
    "from tensorflow import image as timage\n",
    "from torchvision import transforms,utils\n",
    "from torch.utils.data import DataLoader as tdl\n",
    "from torch.utils.data import Dataset as tds\n",
    "import torch.nn as tnn\n",
    "from IPython.core.magic import register_line_magic\n",
    "dev=torch.device(\"cuda:0\" if torch.cuda.is_available() \n",
    "                 else \"cpu\")"
   ]
  },
  {
   "cell_type": "code",
   "execution_count": 2,
   "metadata": {},
   "outputs": [],
   "source": [
    "class TData(tds):\n",
    "    def __init__(self,X,y):   \n",
    "        self.X=torch.tensor(X,dtype=torch.float32)\n",
    "        self.y=torch.tensor(y,dtype=torch.int32)\n",
    "    def __getitem__(self,index):\n",
    "        train_img,train_lbl=self.X[index],self.y[index]\n",
    "        return train_img,train_lbl\n",
    "    def __len__(self):\n",
    "        return self.y.shape[0]"
   ]
  },
  {
   "cell_type": "code",
   "execution_count": 3,
   "metadata": {},
   "outputs": [],
   "source": [
    "class VGG19(tnn.Module):\n",
    "    def __init__(self,num_classes):\n",
    "        super(VGG19,self).__init__()    \n",
    "        self.block1=tnn.Sequential(\n",
    "            tnn.Conv2d(in_channels=3,out_channels=64,\n",
    "                       kernel_size=(3,3),stride=(1,1),\n",
    "                       padding=1), \n",
    "            tnn.ReLU(),\n",
    "            tnn.Conv2d(in_channels=64,out_channels=64,\n",
    "                       kernel_size=(3,3),stride=(1,1),\n",
    "                       padding=1),\n",
    "            tnn.ReLU(),\n",
    "            tnn.MaxPool2d(kernel_size=(2,2),stride=(2,2)) )        \n",
    "        self.block2=tnn.Sequential(\n",
    "            tnn.Conv2d(in_channels=64,out_channels=128,\n",
    "                       kernel_size=(3,3),stride=(1,1),\n",
    "                       padding=1),\n",
    "            tnn.ReLU(),\n",
    "            tnn.Conv2d(in_channels=128,out_channels=128,\n",
    "                       kernel_size=(3,3),stride=(1,1),\n",
    "                       padding=1),\n",
    "            tnn.ReLU(),\n",
    "            tnn.MaxPool2d(kernel_size=(2,2),stride=(2,2)) )      \n",
    "        self.block3=tnn.Sequential(\n",
    "            tnn.Conv2d(in_channels=128,out_channels=256,\n",
    "                       kernel_size=(3,3),stride=(1,1),\n",
    "                       padding=1),\n",
    "            tnn.ReLU(),\n",
    "            tnn.Conv2d(in_channels=256,out_channels=256,\n",
    "                       kernel_size=(3,3),stride=(1,1),\n",
    "                       padding=1),\n",
    "            tnn.ReLU(),        \n",
    "            tnn.Conv2d(in_channels=256,out_channels=256,\n",
    "                       kernel_size=(3,3),stride=(1,1),\n",
    "                       padding=1),\n",
    "            tnn.ReLU(),\n",
    "            tnn.Conv2d(in_channels=256,out_channels=256,\n",
    "                       kernel_size=(3,3),stride=(1,1),\n",
    "                      padding=1),\n",
    "            tnn.ReLU(),\n",
    "            tnn.MaxPool2d(kernel_size=(2,2),stride=(2,2)) )         \n",
    "        self.block4=tnn.Sequential(   \n",
    "            tnn.Conv2d(in_channels=256,out_channels=512,\n",
    "                       kernel_size=(3,3),stride=(1,1),\n",
    "                       padding=1),\n",
    "            tnn.ReLU(),        \n",
    "            tnn.Conv2d(in_channels=512,out_channels=512,\n",
    "                       kernel_size=(3,3),stride=(1,1),\n",
    "                       padding=1),\n",
    "            tnn.ReLU(),        \n",
    "            tnn.Conv2d(in_channels=512,out_channels=512,\n",
    "                       kernel_size=(3,3),stride=(1,1),\n",
    "                       padding=1),\n",
    "            tnn.ReLU(),\n",
    "            tnn.Conv2d(in_channels=512,out_channels=512,\n",
    "                       kernel_size=(3,3),stride=(1,1),\n",
    "                       padding=1),\n",
    "            tnn.ReLU(),   \n",
    "            tnn.MaxPool2d(kernel_size=(2,2),stride=(2,2)) )       \n",
    "        self.block5=tnn.Sequential(\n",
    "            tnn.Conv2d(in_channels=512,out_channels=512,\n",
    "                       kernel_size=(3,3),stride=(1,1),\n",
    "                       padding=1),\n",
    "            tnn.ReLU(),            \n",
    "            tnn.Conv2d(in_channels=512,out_channels=512,\n",
    "                       kernel_size=(3,3),stride=(1,1),\n",
    "                       padding=1),\n",
    "            tnn.ReLU(),            \n",
    "            tnn.Conv2d(in_channels=512,out_channels=512,\n",
    "                       kernel_size=(3,3),stride=(1,1),\n",
    "                       padding=1),\n",
    "            tnn.ReLU(),\n",
    "            tnn.Conv2d(in_channels=512,out_channels=512,\n",
    "                       kernel_size=(3,3),stride=(1,1),\n",
    "                       padding=1),\n",
    "            tnn.ReLU(),   \n",
    "            tnn.MaxPool2d(kernel_size=(2,2),stride=(2,2)) )        \n",
    "        self.classifier=tnn.Sequential(\n",
    "            tnn.Linear(512,4096),\n",
    "            tnn.ReLU(True),\n",
    "            tnn.Linear(4096,4096),\n",
    "            tnn.ReLU(True),\n",
    "            tnn.Linear(4096,num_classes) )            \n",
    "        for m in self.modules():\n",
    "            if isinstance(m,torch.nn.Conv2d):\n",
    "                m.weight.detach().normal_(0,.05)\n",
    "                if m.bias is not None:\n",
    "                    m.bias.detach().zero_()\n",
    "            elif isinstance(m, torch.nn.Linear):\n",
    "                m.weight.detach().normal_(0,.05)\n",
    "                m.bias.detach().detach().zero_()      \n",
    "    def forward(self,x):\n",
    "        x=self.block1(x)\n",
    "        x=self.block2(x)\n",
    "        x=self.block3(x)\n",
    "        x=self.block4(x)\n",
    "        x=self.block5(x)\n",
    "        logits=self.classifier(x.view(-1,512))\n",
    "        probs=tnn.functional.softmax(logits,dim=1)\n",
    "        return logits,probs"
   ]
  },
  {
   "cell_type": "code",
   "execution_count": 4,
   "metadata": {
    "_kg_hide-input": true
   },
   "outputs": [],
   "source": [
    "def resize_display(x_train,y_train,\n",
    "                   x_test,y_test,pixels):\n",
    "    x_train=np.array(timage.resize(x_train,[pixels,pixels]))\n",
    "    x_test=np.array(timage.resize(x_test,[pixels,pixels]))\n",
    "    N=len(y_train); shuffle_ids=np.arange(N)\n",
    "    np.random.RandomState(12).shuffle(shuffle_ids)\n",
    "    x_train,y_train=x_train[shuffle_ids],y_train[shuffle_ids]\n",
    "    N=len(y_test); shuffle_ids=np.arange(N)\n",
    "    np.random.RandomState(23).shuffle(shuffle_ids)\n",
    "    x_test,y_test=x_test[shuffle_ids],y_test[shuffle_ids]\n",
    "    x_train=x_train.reshape(-1,3,pixels,pixels)\n",
    "    x_test=x_test.reshape(-1,3,pixels,pixels)\n",
    "    n=int(len(x_test)/2)\n",
    "    x_valid,y_valid=x_test[:n],y_test[:n]\n",
    "    x_test,y_test=x_test[n:],y_test[n:]\n",
    "    df=pd.DataFrame([[x_train.shape,x_valid.shape,x_test.shape],\n",
    "                     [x_train.dtype,x_valid.dtype,x_test.dtype],\n",
    "                     [y_train.shape,y_valid.shape,y_test.shape],\n",
    "                     [y_train.dtype,y_valid.dtype,y_test.dtype]],\n",
    "                    columns=['train','valid','test'],\n",
    "                    index=['image shape','image type',\n",
    "                           'label shape','label type'])\n",
    "    display(df)    \n",
    "    return [[x_train,x_valid,x_test],\n",
    "            [y_train,y_valid,y_test]]\n",
    "def display_examples(data_loader,pixels):\n",
    "    for images,labels in data_loader:  \n",
    "        print('Image dimensions: %s'%str(images.shape))\n",
    "        print('Label dimensions: %s'%str(labels.shape))\n",
    "        n=np.random.randint(1,50)\n",
    "        fig=pl.figure(figsize=(11,4))\n",
    "        for i in range(n,n+5):\n",
    "            ax=fig.add_subplot(1,5,i-n+1,\\\n",
    "            xticks=[],yticks=[],title=labels[i].item())\n",
    "            ax.imshow((images[i]).reshape(pixels,pixels,3))\n",
    "        break\n",
    "def model_acc(model,data_loader):\n",
    "    correct_preds,num_examples=0,0    \n",
    "    for features,targets in data_loader:\n",
    "        features=features.to(dev)\n",
    "        targets=targets.to(dev)\n",
    "        logits,probs=model(features)\n",
    "        _,pred_labels=torch.max(probs,1)\n",
    "        num_examples+=targets.size(0)\n",
    "        correct_preds+=(pred_labels==targets).sum()        \n",
    "    return correct_preds.float()/num_examples*100"
   ]
  },
  {
   "cell_type": "code",
   "execution_count": 5,
   "metadata": {
    "_kg_hide-input": true
   },
   "outputs": [],
   "source": [
    "@register_line_magic\n",
    "def train_run(epochs):\n",
    "    epochs=int(epochs)\n",
    "    for epoch in range(epochs):\n",
    "        model.train()\n",
    "        for batch_ids,(features,targets) in enumerate(train_loader):        \n",
    "            features=features.to(dev); targets=targets.to(dev)\n",
    "            logits,probs=model(features)\n",
    "            cost=tnn.functional.cross_entropy(logits,targets.long())\n",
    "            optimizer.zero_grad(); cost.backward()\n",
    "            optimizer.step()\n",
    "            if not batch_ids%50:\n",
    "                print ('Epoch: %03d/%03d | Batch %03d/%03d | Cost: %.4f' \n",
    "                       %(epoch+1,epochs,batch_ids, \n",
    "                         len(train)//batch_size,cost))\n",
    "        model.eval()         \n",
    "        with torch.set_grad_enabled(False):\n",
    "            print('Epoch: %03d/%03d train acc: %.2f%% valid acc: %.2f%%'%\\\n",
    "                  (epoch+1,epochs,\n",
    "                   model_acc(model,train_loader),\n",
    "                   model_acc(model,valid_loader)))\n",
    "@register_line_magic\n",
    "def print_acc(n):\n",
    "    if int(n)==1:\n",
    "        data_loader=\\\n",
    "        [train_loader,valid_loader,test_loader]\n",
    "    print('Train accuracy: %.4f%%'%\\\n",
    "    (model_acc(model,data_loader[0])))\n",
    "    print('Valid accuracy: %.4f%%'%\\\n",
    "    (model_acc(model,data_loader[1])))\n",
    "    print('Test accuracy: %.4f%%'%\\\n",
    "    (model_acc(model,data_loader[2])))"
   ]
  },
  {
   "cell_type": "markdown",
   "metadata": {},
   "source": [
    "## Data"
   ]
  },
  {
   "cell_type": "code",
   "execution_count": 11,
   "metadata": {
    "_cell_guid": "79c7e3d0-c299-4dcb-8224-4455121ee9b0",
    "_uuid": "d629ff2d2480ee46fbb7e2d37f6b5fab8052498a"
   },
   "outputs": [
    {
     "name": "stdout",
     "output_type": "stream",
     "text": [
      "['test_images', 'test_labels', 'train_images', 'train_labels']\n"
     ]
    },
    {
     "data": {
      "text/html": [
       "<div>\n",
       "<style scoped>\n",
       "    .dataframe tbody tr th:only-of-type {\n",
       "        vertical-align: middle;\n",
       "    }\n",
       "\n",
       "    .dataframe tbody tr th {\n",
       "        vertical-align: top;\n",
       "    }\n",
       "\n",
       "    .dataframe thead th {\n",
       "        text-align: right;\n",
       "    }\n",
       "</style>\n",
       "<table border=\"1\" class=\"dataframe\">\n",
       "  <thead>\n",
       "    <tr style=\"text-align: right;\">\n",
       "      <th></th>\n",
       "      <th>train</th>\n",
       "      <th>valid</th>\n",
       "      <th>test</th>\n",
       "    </tr>\n",
       "  </thead>\n",
       "  <tbody>\n",
       "    <tr>\n",
       "      <th>image shape</th>\n",
       "      <td>(18610, 3, 48, 48)</td>\n",
       "      <td>(2326, 3, 48, 48)</td>\n",
       "      <td>(2326, 3, 48, 48)</td>\n",
       "    </tr>\n",
       "    <tr>\n",
       "      <th>image type</th>\n",
       "      <td>float32</td>\n",
       "      <td>float32</td>\n",
       "      <td>float32</td>\n",
       "    </tr>\n",
       "    <tr>\n",
       "      <th>label shape</th>\n",
       "      <td>(18610,)</td>\n",
       "      <td>(2326,)</td>\n",
       "      <td>(2326,)</td>\n",
       "    </tr>\n",
       "    <tr>\n",
       "      <th>label type</th>\n",
       "      <td>int32</td>\n",
       "      <td>int32</td>\n",
       "      <td>int32</td>\n",
       "    </tr>\n",
       "  </tbody>\n",
       "</table>\n",
       "</div>"
      ],
      "text/plain": [
       "                          train              valid               test\n",
       "image shape  (18610, 3, 48, 48)  (2326, 3, 48, 48)  (2326, 3, 48, 48)\n",
       "image type              float32            float32            float32\n",
       "label shape            (18610,)            (2326,)            (2326,)\n",
       "label type                int32              int32              int32"
      ]
     },
     "metadata": {},
     "output_type": "display_data"
    }
   ],
   "source": [
    "pixels=48\n",
    "fpath='./input/tf-cats-vs-dogs/'\n",
    "f='CatDogImages.h5'\n",
    "f=h5py.File(fpath+f,'r')\n",
    "keys=list(f.keys()); print(keys)\n",
    "x_test=np.array(f[keys[0]])\n",
    "y_test=np.array(f[keys[1]]).reshape(-1)\n",
    "x_train=np.array(f[keys[2]])\n",
    "y_train=np.array(f[keys[3]]).reshape(-1)\n",
    "[[x_train,x_valid,x_test],\n",
    " [y_train,y_valid,y_test]]=\\\n",
    "resize_display(x_train,y_train,x_test,y_test,pixels)"
   ]
  },
  {
   "cell_type": "code",
   "execution_count": 12,
   "metadata": {},
   "outputs": [
    {
     "name": "stdout",
     "output_type": "stream",
     "text": [
      "Image dimensions: torch.Size([128, 3, 48, 48])\n",
      "Label dimensions: torch.Size([128])\n"
     ]
    },
    {
     "data": {
      "image/png": "[encoded data removed]",
      "text/plain": [
       "<Figure size 1100x400 with 5 Axes>"
      ]
     },
     "metadata": {},
     "output_type": "display_data"
    }
   ],
   "source": [
    "random_seed=1; batch_size=128;\n",
    "train=TData(x_train,y_train)\n",
    "valid=TData(x_valid,y_valid)\n",
    "test=TData(x_test,y_test)\n",
    "train_loader=tdl(dataset=train,\n",
    "                  batch_size=batch_size,shuffle=True)\n",
    "valid_loader=tdl(dataset=valid,\n",
    "                  batch_size=batch_size,shuffle=True)\n",
    "test_loader=tdl(dataset=test,\n",
    "                 batch_size=batch_size,shuffle=False)\n",
    "display_examples(valid_loader,pixels)"
   ]
  },
  {
   "cell_type": "markdown",
   "metadata": {},
   "source": [
    "## VGG19 Training"
   ]
  },
  {
   "cell_type": "code",
   "execution_count": 13,
   "metadata": {},
   "outputs": [],
   "source": [
    "torch.manual_seed(random_seed)\n",
    "num_classes=2; learning_rate=.001\n",
    "model=VGG19(num_classes); model.to(dev)\n",
    "optimizer=torch.optim.Adam(model.parameters(),\n",
    "                           lr=learning_rate)"
   ]
  },
  {
   "cell_type": "code",
   "execution_count": 14,
   "metadata": {},
   "outputs": [
    {
     "name": "stdout",
     "output_type": "stream",
     "text": [
      "Epoch: 001/005 | Batch 000/145 | Cost: 3905.1606\n",
      "Epoch: 001/005 | Batch 050/145 | Cost: 0.6998\n",
      "Epoch: 001/005 | Batch 100/145 | Cost: 0.6721\n",
      "Epoch: 001/005 train acc: 55.76% valid acc: 54.08%\n",
      "Epoch: 002/005 | Batch 000/145 | Cost: 0.6787\n",
      "Epoch: 002/005 | Batch 050/145 | Cost: 0.7537\n",
      "Epoch: 002/005 | Batch 100/145 | Cost: 0.7209\n",
      "Epoch: 002/005 train acc: 50.96% valid acc: 50.39%\n",
      "Epoch: 003/005 | Batch 000/145 | Cost: 0.6655\n",
      "Epoch: 003/005 | Batch 050/145 | Cost: 0.6992\n",
      "Epoch: 003/005 | Batch 100/145 | Cost: 0.6826\n",
      "Epoch: 003/005 train acc: 58.61% valid acc: 57.91%\n",
      "Epoch: 004/005 | Batch 000/145 | Cost: 0.6614\n",
      "Epoch: 004/005 | Batch 050/145 | Cost: 0.7059\n",
      "Epoch: 004/005 | Batch 100/145 | Cost: 0.7371\n",
      "Epoch: 004/005 train acc: 54.38% valid acc: 53.83%\n",
      "Epoch: 005/005 | Batch 000/145 | Cost: 0.6572\n",
      "Epoch: 005/005 | Batch 050/145 | Cost: 0.6776\n",
      "Epoch: 005/005 | Batch 100/145 | Cost: 0.6940\n",
      "Epoch: 005/005 train acc: 55.07% valid acc: 54.13%\n"
     ]
    }
   ],
   "source": [
    "%train_run 5"
   ]
  },
  {
   "cell_type": "code",
   "execution_count": 15,
   "metadata": {},
   "outputs": [
    {
     "name": "stdout",
     "output_type": "stream",
     "text": [
      "Train accuracy: 55.0725%\n",
      "Valid accuracy: 54.1273%\n",
      "Test accuracy: 55.2451%\n"
     ]
    }
   ],
   "source": [
    "%print_acc 1"
   ]
  }
 ],
 "metadata": {
  "kernelspec": {
   "display_name": "Python 3",
   "language": "python",
   "name": "python3"
  },
  "language_info": {
   "codemirror_mode": {
    "name": "ipython",
    "version": 3
   },
   "file_extension": ".py",
   "mimetype": "text/x-python",
   "name": "python",
   "nbconvert_exporter": "python",
   "pygments_lexer": "ipython3",
   "version": "3.12.8"
  }
 },
 "nbformat": 4,
 "nbformat_minor": 4
}
