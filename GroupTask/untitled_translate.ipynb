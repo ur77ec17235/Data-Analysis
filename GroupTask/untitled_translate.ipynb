{
 "cells": [
  {
   "cell_type": "markdown",
   "metadata": {},
   "source": [
    "# Phân tích dữ liệu với Python\n",
    "Trong notebook này, chúng ta sẽ sử dụng các thư viện Python để phân tích dữ liệu."
   ]
  },
  {
   "cell_type": "code",
   "execution_count": 1,
   "metadata": {},
   "outputs": [],
   "source": [
    "# Import các thư viện cần thiết\n",
    "import pandas as pd\n",
    "import numpy as np\n",
    "import matplotlib.pyplot as plt\n",
    "import seaborn as sns\n",
    "\n",
    "# Đặt style cho seaborn\n",
    "sns.set(style='whitegrid')"
   ]
  },
  {
   "cell_type": "markdown",
   "metadata": {},
   "source": [
    "## Đọc dữ liệu\n",
    "Chúng ta sẽ đọc dữ liệu từ một file CSV và hiển thị vài dòng đầu tiên để kiểm tra."
   ]
  },
  {
   "cell_type": "code",
   "execution_count": 2,
   "metadata": {},
   "outputs": [],
   "source": [
    "# Đọc dữ liệu từ file CSV\n",
    "data = pd.read_csv('data.csv')\n",
    "\n",
    "# Hiển thị 5 dòng đầu tiên của dữ liệu\n",
    "data.head()"
   ]
  },
  {
   "cell_type": "markdown",
   "metadata": {},
   "source": [
    "## Thống kê mô tả\n",
    "Chúng ta sẽ tính toán các thống kê mô tả cơ bản của dữ liệu để hiểu rõ hơn về phân phối và các đặc điểm chính của nó."
   ]
  },
  {
   "cell_type": "code",
   "execution_count": 3,
   "metadata": {},
   "outputs": [],
   "source": [
    "# Tính toán các thống kê mô tả\n",
    "data.describe()"
   ]
  },
  {
   "cell_type": "markdown",
   "metadata": {},
   "source": [
    "## Trực quan hóa dữ liệu\n",
    "Chúng ta sẽ tạo một số biểu đồ để trực quan hóa dữ liệu và tìm kiếm các mẫu hoặc xu hướng."
   ]
  },
  {
   "cell_type": "code",
   "execution_count": 4,
   "metadata": {},
   "outputs": [],
   "source": [
    "# Biểu đồ phân phối của một cột\n",
    "plt.figure(figsize=(10, 6))\n",
    "sns.histplot(data['column_name'], kde=True)\n",
    "plt.title('Phân phối của column_name')\n",
    "plt.show()"
   ]
  }
 ],
 "metadata": {
  "kernelspec": {
   "display_name": "Python 3",
   "language": "python",
   "name": "python3"
  },
  "language_info": {
   "codemirror_mode": {
    "name": "ipython",
    "version": 3
   },
   "file_extension": ".py",
   "mimetype": "text/x-python",
   "name": "python",
   "nbconvert_exporter": "python",
   "pygments_lexer": "ipython3",
   "version": "3.8.5"
  }
 },
 "nbformat": 4,
 "nbformat_minor": 4
}
